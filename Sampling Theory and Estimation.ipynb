{
 "cells": [
  {
   "cell_type": "markdown",
   "id": "massive-friday",
   "metadata": {},
   "source": [
    "# Teoría de Muestreo y Estimación\n",
    "## Estadística Descriptiva e Inferencial (2021-2)\n",
    "### Parcial 4\n",
    "#### Juan Pablo Maldonado Castro"
   ]
  },
  {
   "cell_type": "code",
   "execution_count": 1,
   "id": "solved-parade",
   "metadata": {},
   "outputs": [],
   "source": [
    "import numpy as np\n",
    "import pandas as pd\n",
    "import matplotlib.pyplot as plt\n",
    "import seaborn as sns\n",
    "import scipy.stats as st"
   ]
  },
  {
   "cell_type": "markdown",
   "id": "clear-lounge",
   "metadata": {},
   "source": [
    "## 1. Teoría de Muestreo\n",
    "\n",
    "1. Supongamos que se toman muestras de tamaño 2, ordenadas, de la población de valores 1, 3, 5 y 7. Para la distribución muestral de la media. \n",
    "\n",
    "Antes de resolver los ejercicios, construimos un dataframe con nuestras muestras ordenadas y la media correspondiente de cada una:"
   ]
  },
  {
   "cell_type": "code",
   "execution_count": 3,
   "id": "vocational-synthesis",
   "metadata": {},
   "outputs": [
    {
     "data": {
      "text/html": [
       "<div>\n",
       "<style scoped>\n",
       "    .dataframe tbody tr th:only-of-type {\n",
       "        vertical-align: middle;\n",
       "    }\n",
       "\n",
       "    .dataframe tbody tr th {\n",
       "        vertical-align: top;\n",
       "    }\n",
       "\n",
       "    .dataframe thead th {\n",
       "        text-align: right;\n",
       "    }\n",
       "</style>\n",
       "<table border=\"1\" class=\"dataframe\">\n",
       "  <thead>\n",
       "    <tr style=\"text-align: right;\">\n",
       "      <th></th>\n",
       "      <th>Muestras ordenadas</th>\n",
       "      <th>Medias</th>\n",
       "    </tr>\n",
       "  </thead>\n",
       "  <tbody>\n",
       "    <tr>\n",
       "      <th>0</th>\n",
       "      <td>1,1</td>\n",
       "      <td>1.0</td>\n",
       "    </tr>\n",
       "    <tr>\n",
       "      <th>1</th>\n",
       "      <td>1,3</td>\n",
       "      <td>2.0</td>\n",
       "    </tr>\n",
       "    <tr>\n",
       "      <th>2</th>\n",
       "      <td>1,5</td>\n",
       "      <td>3.0</td>\n",
       "    </tr>\n",
       "    <tr>\n",
       "      <th>3</th>\n",
       "      <td>1,7</td>\n",
       "      <td>4.0</td>\n",
       "    </tr>\n",
       "    <tr>\n",
       "      <th>4</th>\n",
       "      <td>3,1</td>\n",
       "      <td>2.0</td>\n",
       "    </tr>\n",
       "    <tr>\n",
       "      <th>5</th>\n",
       "      <td>3,3</td>\n",
       "      <td>3.0</td>\n",
       "    </tr>\n",
       "    <tr>\n",
       "      <th>6</th>\n",
       "      <td>3,5</td>\n",
       "      <td>4.0</td>\n",
       "    </tr>\n",
       "    <tr>\n",
       "      <th>7</th>\n",
       "      <td>3,7</td>\n",
       "      <td>5.0</td>\n",
       "    </tr>\n",
       "    <tr>\n",
       "      <th>8</th>\n",
       "      <td>5,1</td>\n",
       "      <td>3.0</td>\n",
       "    </tr>\n",
       "    <tr>\n",
       "      <th>9</th>\n",
       "      <td>5,3</td>\n",
       "      <td>4.0</td>\n",
       "    </tr>\n",
       "    <tr>\n",
       "      <th>10</th>\n",
       "      <td>5,5</td>\n",
       "      <td>5.0</td>\n",
       "    </tr>\n",
       "    <tr>\n",
       "      <th>11</th>\n",
       "      <td>5,7</td>\n",
       "      <td>6.0</td>\n",
       "    </tr>\n",
       "    <tr>\n",
       "      <th>12</th>\n",
       "      <td>7,1</td>\n",
       "      <td>4.0</td>\n",
       "    </tr>\n",
       "    <tr>\n",
       "      <th>13</th>\n",
       "      <td>7,3</td>\n",
       "      <td>5.0</td>\n",
       "    </tr>\n",
       "    <tr>\n",
       "      <th>14</th>\n",
       "      <td>7,5</td>\n",
       "      <td>6.0</td>\n",
       "    </tr>\n",
       "    <tr>\n",
       "      <th>15</th>\n",
       "      <td>7,7</td>\n",
       "      <td>7.0</td>\n",
       "    </tr>\n",
       "  </tbody>\n",
       "</table>\n",
       "</div>"
      ],
      "text/plain": [
       "   Muestras ordenadas  Medias\n",
       "0                 1,1     1.0\n",
       "1                 1,3     2.0\n",
       "2                 1,5     3.0\n",
       "3                 1,7     4.0\n",
       "4                 3,1     2.0\n",
       "5                 3,3     3.0\n",
       "6                 3,5     4.0\n",
       "7                 3,7     5.0\n",
       "8                 5,1     3.0\n",
       "9                 5,3     4.0\n",
       "10                5,5     5.0\n",
       "11                5,7     6.0\n",
       "12                7,1     4.0\n",
       "13                7,3     5.0\n",
       "14                7,5     6.0\n",
       "15                7,7     7.0"
      ]
     },
     "execution_count": 3,
     "metadata": {},
     "output_type": "execute_result"
    }
   ],
   "source": [
    "data = [1,3,5,7]\n",
    "m_o = [] #Muestras ordenadas\n",
    "m_o_m = [] #Medias\n",
    "for i in data:\n",
    "    for j in data:\n",
    "        m_o.append(f\"{i},{j}\")\n",
    "        m_o_m.append((i+j)/2)\n",
    "\n",
    "df = pd.DataFrame({\"Muestras ordenadas\": m_o, \"Medias\": m_o_m})\n",
    "df"
   ]
  },
  {
   "cell_type": "markdown",
   "id": "going-collaboration",
   "metadata": {},
   "source": [
    "a) Encontrar $\\mu_{\\bar{x}}$\n",
    "\n",
    "Simplemente calculamos la media de las medias de las muestras ordenadas:"
   ]
  },
  {
   "cell_type": "code",
   "execution_count": 4,
   "id": "placed-logan",
   "metadata": {},
   "outputs": [
    {
     "name": "stdout",
     "output_type": "stream",
     "text": [
      "4.0\n"
     ]
    }
   ],
   "source": [
    "print(df['Medias'].values.mean())"
   ]
  },
  {
   "cell_type": "markdown",
   "id": "alternative-northwest",
   "metadata": {},
   "source": [
    "Tenemos que $\\mu_\\bar{x} = 4$\n",
    "\n",
    "b) Calcular $\\sigma_\\bar{x}$\n",
    "\n",
    "Simplemente calculamos la desviación estándar de las medias ordenadas:"
   ]
  },
  {
   "cell_type": "code",
   "execution_count": 6,
   "id": "typical-conversation",
   "metadata": {},
   "outputs": [
    {
     "name": "stdout",
     "output_type": "stream",
     "text": [
      "1.5811388300841898\n"
     ]
    }
   ],
   "source": [
    "print(df['Medias'].values.std())"
   ]
  },
  {
   "cell_type": "markdown",
   "id": "governmental-factory",
   "metadata": {},
   "source": [
    "c) Construya la gráfica para la distribución de frecuencias.\n",
    "\n",
    "Hacemos un histograma con seaborn, tomando a las medias de las muestras ordenadas como nuestros datos."
   ]
  },
  {
   "cell_type": "code",
   "execution_count": 10,
   "id": "arabic-astronomy",
   "metadata": {},
   "outputs": [
    {
     "data": {
      "text/plain": [
       "Text(0, 0.5, 'Frecuencia')"
      ]
     },
     "execution_count": 10,
     "metadata": {},
     "output_type": "execute_result"
    },
    {
     "data": {
      "image/png": "[encoded data removed]",
      "text/plain": [
       "<Figure size 432x288 with 1 Axes>"
      ]
     },
     "metadata": {
      "needs_background": "light"
     },
     "output_type": "display_data"
    }
   ],
   "source": [
    "sns.histplot(df['Medias'].values, bins = [0.5,1.5,2.5,3.5,4.5,5.5,6.5,7.5])\n",
    "plt.xlabel('Media')\n",
    "plt.ylabel(\"Frecuencia\")"
   ]
  },
  {
   "cell_type": "markdown",
   "id": "coated-chaos",
   "metadata": {},
   "source": [
    "2. De la población de valores 1, 2, 3 y 6 se seleccionan muestras de tamaño 3 ordenadas y con remplazo. La siguiente es una tabla de frecuencias para las medianas muestrales:"
   ]
  },
  {
   "cell_type": "code",
   "execution_count": 11,
   "id": "everyday-undergraduate",
   "metadata": {},
   "outputs": [
    {
     "data": {
      "text/html": [
       "<div>\n",
       "<style scoped>\n",
       "    .dataframe tbody tr th:only-of-type {\n",
       "        vertical-align: middle;\n",
       "    }\n",
       "\n",
       "    .dataframe tbody tr th {\n",
       "        vertical-align: top;\n",
       "    }\n",
       "\n",
       "    .dataframe thead th {\n",
       "        text-align: right;\n",
       "    }\n",
       "</style>\n",
       "<table border=\"1\" class=\"dataframe\">\n",
       "  <thead>\n",
       "    <tr style=\"text-align: right;\">\n",
       "      <th></th>\n",
       "      <th>Mediana</th>\n",
       "      <th>f</th>\n",
       "    </tr>\n",
       "  </thead>\n",
       "  <tbody>\n",
       "    <tr>\n",
       "      <th>0</th>\n",
       "      <td>1</td>\n",
       "      <td>10</td>\n",
       "    </tr>\n",
       "    <tr>\n",
       "      <th>1</th>\n",
       "      <td>2</td>\n",
       "      <td>22</td>\n",
       "    </tr>\n",
       "    <tr>\n",
       "      <th>2</th>\n",
       "      <td>3</td>\n",
       "      <td>22</td>\n",
       "    </tr>\n",
       "    <tr>\n",
       "      <th>3</th>\n",
       "      <td>6</td>\n",
       "      <td>10</td>\n",
       "    </tr>\n",
       "  </tbody>\n",
       "</table>\n",
       "</div>"
      ],
      "text/plain": [
       "   Mediana   f\n",
       "0        1  10\n",
       "1        2  22\n",
       "2        3  22\n",
       "3        6  10"
      ]
     },
     "execution_count": 11,
     "metadata": {},
     "output_type": "execute_result"
    }
   ],
   "source": [
    "medianas = [1,2,3,6]\n",
    "f = [10,22,22,10]\n",
    "\n",
    "df = pd.DataFrame({\"Mediana\":medianas, \"f\":f})\n",
    "df"
   ]
  },
  {
   "cell_type": "markdown",
   "id": "animal-flush",
   "metadata": {},
   "source": [
    "Supongamos que la mediana de una muestra se usa para medir o estimar la media poblacional.\n",
    "\n",
    "a) Encuentra el error muestral de cada mediana. Recordemos que el error muestral se define como: $e_{\\text{mediana}}=\\text{mediana} - \\mu$.\n",
    "\n",
    "Primero encontremos $\\mu$, lo hacemos aprovechando que la clumna de medianas contiene justo los mismos elementos que los datos del conjunto:"
   ]
  },
  {
   "cell_type": "code",
   "execution_count": 16,
   "id": "formal-maximum",
   "metadata": {},
   "outputs": [
    {
     "name": "stdout",
     "output_type": "stream",
     "text": [
      "3.0\n"
     ]
    }
   ],
   "source": [
    "media = df['Mediana'].values.mean()\n",
    "print(media)"
   ]
  },
  {
   "cell_type": "markdown",
   "id": "conditional-firmware",
   "metadata": {},
   "source": [
    "Vemos que la media de nuestros datos es $\\mu = 3$. Lo que sigue es calcular nuestra columna de errores de la forma que ya habíamos mencionado."
   ]
  },
  {
   "cell_type": "code",
   "execution_count": 17,
   "id": "sticky-mixer",
   "metadata": {},
   "outputs": [
    {
     "data": {
      "text/html": [
       "<div>\n",
       "<style scoped>\n",
       "    .dataframe tbody tr th:only-of-type {\n",
       "        vertical-align: middle;\n",
       "    }\n",
       "\n",
       "    .dataframe tbody tr th {\n",
       "        vertical-align: top;\n",
       "    }\n",
       "\n",
       "    .dataframe thead th {\n",
       "        text-align: right;\n",
       "    }\n",
       "</style>\n",
       "<table border=\"1\" class=\"dataframe\">\n",
       "  <thead>\n",
       "    <tr style=\"text-align: right;\">\n",
       "      <th></th>\n",
       "      <th>Mediana</th>\n",
       "      <th>f</th>\n",
       "      <th>Error Muestral</th>\n",
       "    </tr>\n",
       "  </thead>\n",
       "  <tbody>\n",
       "    <tr>\n",
       "      <th>0</th>\n",
       "      <td>1</td>\n",
       "      <td>10</td>\n",
       "      <td>-2.0</td>\n",
       "    </tr>\n",
       "    <tr>\n",
       "      <th>1</th>\n",
       "      <td>2</td>\n",
       "      <td>22</td>\n",
       "      <td>-1.0</td>\n",
       "    </tr>\n",
       "    <tr>\n",
       "      <th>2</th>\n",
       "      <td>3</td>\n",
       "      <td>22</td>\n",
       "      <td>0.0</td>\n",
       "    </tr>\n",
       "    <tr>\n",
       "      <th>3</th>\n",
       "      <td>6</td>\n",
       "      <td>10</td>\n",
       "      <td>3.0</td>\n",
       "    </tr>\n",
       "  </tbody>\n",
       "</table>\n",
       "</div>"
      ],
      "text/plain": [
       "   Mediana   f  Error Muestral\n",
       "0        1  10            -2.0\n",
       "1        2  22            -1.0\n",
       "2        3  22             0.0\n",
       "3        6  10             3.0"
      ]
     },
     "execution_count": 17,
     "metadata": {},
     "output_type": "execute_result"
    }
   ],
   "source": [
    "df['Error Muestral'] = df['Mediana'] - media\n",
    "df"
   ]
  },
  {
   "cell_type": "markdown",
   "id": "cloudy-solomon",
   "metadata": {},
   "source": [
    "b) Construye una gráfica para la distribución muestra de la mediana.\n",
    "\n",
    "Usando como datos de $x$ las medianas y asignándoles como altura las frecuencias, construimos un histograma con matplotlib:"
   ]
  },
  {
   "cell_type": "code",
   "execution_count": 30,
   "id": "pacific-courage",
   "metadata": {},
   "outputs": [
    {
     "data": {
      "text/plain": [
       "Text(0, 0.5, 'Frecuencia')"
      ]
     },
     "execution_count": 30,
     "metadata": {},
     "output_type": "execute_result"
    },
    {
     "data": {
      "image/png": "[encoded data removed]",
      "text/plain": [
       "<Figure size 432x288 with 1 Axes>"
      ]
     },
     "metadata": {
      "needs_background": "light"
     },
     "output_type": "display_data"
    }
   ],
   "source": [
    "plt.bar(df['Mediana'].values, height = [10,22,22,10], width = 1,edgecolor = 'black')\n",
    "plt.xlabel(\"Mediana\")\n",
    "plt.ylabel(\"Frecuencia\")"
   ]
  },
  {
   "cell_type": "markdown",
   "id": "accompanied-substitute",
   "metadata": {},
   "source": [
    "c) Calcula la media de los errores muestrales.\n",
    "\n",
    "Para esto simplemente calculamos la media de los errores muestrales que tenemos. Para ello usamos la función average de numpy, poniendo como pesos nuestras frecuencias y en los datos los errores muestrales."
   ]
  },
  {
   "cell_type": "code",
   "execution_count": 45,
   "id": "warming-april",
   "metadata": {},
   "outputs": [
    {
     "name": "stdout",
     "output_type": "stream",
     "text": [
      "Media de los errores muestrales = -0.1875\n"
     ]
    }
   ],
   "source": [
    "m_e_m = np.average(df['Error Muestral'].values, weights=df['f'].values)\n",
    "print(f\"Media de los errores muestrales = {m_e_m}\")"
   ]
  },
  {
   "cell_type": "markdown",
   "id": "governmental-humanity",
   "metadata": {},
   "source": [
    "Como podemos ver, la media de los errores muestrales es igual a -0.1875."
   ]
  },
  {
   "cell_type": "markdown",
   "id": "weekly-activation",
   "metadata": {},
   "source": [
    "d) Localiza la media de la distribución muestral de la mediana."
   ]
  },
  {
   "cell_type": "markdown",
   "id": "passive-egypt",
   "metadata": {},
   "source": [
    "Para esto aplicamos exactamente el mismo procedimiento que para encontrar la media de los errores muestrales. La única diferencia, es que ahora lo aplicaremos con las medianas."
   ]
  },
  {
   "cell_type": "code",
   "execution_count": 40,
   "id": "fundamental-shannon",
   "metadata": {},
   "outputs": [
    {
     "name": "stdout",
     "output_type": "stream",
     "text": [
      "Media de la distribución muestral de la mediana = 2.8125\n"
     ]
    }
   ],
   "source": [
    "m_m = np.average(df['Mediana'].values, weights = df['f'].values)\n",
    "print(f\"Media de la distribución muestral de la mediana = {m_m}\")"
   ]
  },
  {
   "cell_type": "markdown",
   "id": "alpine-merchant",
   "metadata": {},
   "source": [
    "Como podemos ver, la media de la distribución muestral de la mediana es 2.8125."
   ]
  },
  {
   "cell_type": "markdown",
   "id": "interesting-confirmation",
   "metadata": {},
   "source": [
    "e) Determina la desviación estándar de los errores muestrales.\n",
    "\n",
    "Como no encontré en ```numpy``` ni en ```pandas``` una función que calcule directamente la desviación estándar dados los valores y sus pesos(frecuencias). Nos apoyaremos en implementar la fórmula:\n",
    "\n",
    "$$\n",
    "\\sigma_e = \\sqrt{\\frac{\\sum(e_i - \\mu_e)^2}{n}}\n",
    "$$\n",
    "\n",
    "Como el término que está dentro de la raíz, es un promedio de los errores muestrales menos su media respectiva elevados al cuadrado, simplemente aplicamos la función average sobre esto. Finalmente le sacamos raíz y obtenemos la desviación estándar sin mayor problema:"
   ]
  },
  {
   "cell_type": "code",
   "execution_count": 52,
   "id": "altered-foundation",
   "metadata": {},
   "outputs": [
    {
     "name": "stdout",
     "output_type": "stream",
     "text": [
      "Desviación estándar de los errores muestrales = 1.529654781315052\n"
     ]
    }
   ],
   "source": [
    "std_e_m = np.sqrt(np.average((df['Error Muestral'].values - m_e_m)**2,weights=df['f'].values))\n",
    "print(f\"Desviación estándar de los errores muestrales = {std_e_m}\")"
   ]
  },
  {
   "cell_type": "markdown",
   "id": "expired-transportation",
   "metadata": {},
   "source": [
    "Como podemos ver, la desviación estándar de los errores muestrales es de 1.52965...\n",
    "\n",
    "f) Encuentra el error estándar de la mediana.\n",
    "\n",
    "Recordemos que el error estándar de la mediana se define como simplemente la desviación estándar de la mediana:\n",
    "$$\n",
    "\\sigma_\\text{mediana} = \\sqrt{\\frac{\\sum(\\text{mediana} - \\mu_{mediana})^2}{n}} = \\sigma_e\n",
    "$$\n",
    "\n",
    "En este caso la desviación estándar de los errores muestrales de la mediana debe ser igual al error estándar de la mediana. Lo podemos comprobar aplicando lo mismo que en el inciso anterior, pero ahora usando los valores de las medianas en lugar del de los errores muestrales y también la media muestral de las medianas en lugar de la de los errores muestrales:"
   ]
  },
  {
   "cell_type": "code",
   "execution_count": 58,
   "id": "removable-engagement",
   "metadata": {},
   "outputs": [
    {
     "name": "stdout",
     "output_type": "stream",
     "text": [
      "Error estándar de la media = 1.529654781315052\n"
     ]
    }
   ],
   "source": [
    "std_m = np.sqrt(np.average((df['Mediana']-m_m)**2, weights=df['f'].values))\n",
    "print(f\"Error estándar de la mediana = {std_m}\")"
   ]
  },
  {
   "cell_type": "markdown",
   "id": "eastern-longer",
   "metadata": {},
   "source": [
    "Como vemos sí se cumplió que $\\sigma_e = \\sigma_\\text{mediana}$, dándonos que el error estándar de la mediana es de 1.52965...\n",
    "\n",
    "3. Supongamos que una máquina automática utilizada para llenar latas de sopa tiene $\\mu = 16$ oz y $\\sigma = 0.5$ oz, si se obtiene una muestra de 50 latas, encuentra la probabilidad de que la media muestral de llenado $\\bar{x}$ sea:\n",
    "\n",
    "a) mayor que 15.88 oz"
   ]
  },
  {
   "cell_type": "markdown",
   "id": "infrared-czech",
   "metadata": {},
   "source": [
    "Queremos ver el valor de $P(\\bar{X} > 15.88 oz)$. Para ello ocupamos una función que calcule el valor del puntaje estándar $z$ dado el valor de $\\bar{X}$, la media, la desviación estándar y el tamaño de la muestra:"
   ]
  },
  {
   "cell_type": "code",
   "execution_count": 62,
   "id": "developed-nursery",
   "metadata": {},
   "outputs": [],
   "source": [
    "def getZ(x,media,std,n):\n",
    "    return (x - media)/(std/np.sqrt(n))"
   ]
  },
  {
   "cell_type": "markdown",
   "id": "approved-beaver",
   "metadata": {},
   "source": [
    "Si aplicamos la función de ```st.norm.cdf``` (cumulative distribution function), vamos a obtener el resultado de $P(\\bar{X}<15.88oz)$, pero queremos el de $P(\\bar{X}>15.88oz)$, así que le restamos 1 para obtener lo que queremos:"
   ]
  },
  {
   "cell_type": "code",
   "execution_count": 67,
   "id": "liked-limit",
   "metadata": {},
   "outputs": [
    {
     "name": "stdout",
     "output_type": "stream",
     "text": [
      "-1.697056274847703\n"
     ]
    }
   ],
   "source": [
    "print(getZ(15.88,16,0.5,50))"
   ]
  },
  {
   "cell_type": "code",
   "execution_count": 69,
   "id": "varied-private",
   "metadata": {},
   "outputs": [
    {
     "name": "stdout",
     "output_type": "stream",
     "text": [
      "P(X > 15.88oz) = 0.9551569891148166\n"
     ]
    }
   ],
   "source": [
    "print(f\"P(X > 15.88oz) = {1 - st.norm.cdf(getZ(15.88,16,0.5,50))}\")"
   ]
  },
  {
   "cell_type": "markdown",
   "id": "personal-supplement",
   "metadata": {},
   "source": [
    "Vemos que $P(\\bar{X} > 15.88oz) = 0.95515... = 95.5156...\\%$.\n",
    "\n",
    "b) mayor que 15.9 oz y menor que 16.09 oz\n",
    "\n",
    "Aplicamos la función de ```st.norm.cdf``` a los valores de $\\bar{X} = 15.9$ y $16.09$. Los resultados de estos los restamos entre sí y esto define $P(15.9oz < \\bar{X} < 16.09oz)$:"
   ]
  },
  {
   "cell_type": "code",
   "execution_count": 70,
   "id": "known-shirt",
   "metadata": {},
   "outputs": [
    {
     "name": "stdout",
     "output_type": "stream",
     "text": [
      "P(15.9<X<16.09) = 0.8198045026862724\n"
     ]
    }
   ],
   "source": [
    "print(f\"P(15.9<X<16.09) = {st.norm.cdf(getZ(16.09,16,0.5,50)) - st.norm.cdf(getZ(15.9,16,0.5,50))}\")"
   ]
  },
  {
   "cell_type": "markdown",
   "id": "sexual-favorite",
   "metadata": {},
   "source": [
    "Vemos que $P(15.9<\\bar{X}<16.09) = 0.819804... = 81.9804...\\%$\n",
    "\n",
    "c) menor que 16.2 oz\n",
    "\n",
    "Aplicamos la función de ```st.norm.cdf``` para $\\bar{X} = 16.02$ y obtenemos el resultado directamente:"
   ]
  },
  {
   "cell_type": "code",
   "execution_count": 73,
   "id": "romance-therapy",
   "metadata": {},
   "outputs": [
    {
     "name": "stdout",
     "output_type": "stream",
     "text": [
      "P(X<16.2) = 0.9976611325094763\n"
     ]
    }
   ],
   "source": [
    "print(f\"P(X<16.2) = {st.norm.cdf(getZ(16.2,16,0.5,50))}\")"
   ]
  },
  {
   "cell_type": "markdown",
   "id": "developed-handy",
   "metadata": {},
   "source": [
    "Vemos que $P(X<16.2) = 0.99766... = 99.766...\\%$.\n",
    "\n",
    "4. Se afirma que un nuevo fármaco es efectivo en un 80% para tratar pacientes con una enfermedad particular. Al usarlo en una muestra de 64 enfermos y denotar $\\hat{p}$ la proporción muestral de pacientes tratados de manera efectiva, encuentra:\n",
    "\n",
    "(a) $P(0.78 < \\hat{p} < 0.82)$."
   ]
  },
  {
   "cell_type": "markdown",
   "id": "double-baghdad",
   "metadata": {},
   "source": [
    "Definamos una función que nos permita calcular el valor de $Z$ a partir de valores de $p$."
   ]
  },
  {
   "cell_type": "code",
   "execution_count": 103,
   "id": "competent-anxiety",
   "metadata": {},
   "outputs": [
    {
     "name": "stdout",
     "output_type": "stream",
     "text": [
      "0.6554217416103235\n",
      "0.3445782583896757\n",
      "0.3108434832206478\n"
     ]
    }
   ],
   "source": [
    "def getZ_2(p, p_mean, n):\n",
    "    return (p - p_mean)/(((p_mean*(1-p_mean))/n)**(1/2))\n",
    "\n",
    "getZ_2(0.82, 0.8, 64)\n",
    "print(st.norm.cdf(getZ_2(0.82, 0.8, 64)))\n",
    "print(st.norm.cdf(getZ_2(0.78, 0.8, 64)))\n",
    "print(st.norm.cdf(getZ_2(0.82, 0.8, 64)) - st.norm.cdf(getZ_2(0.78, 0.8, 64)))"
   ]
  },
  {
   "cell_type": "markdown",
   "id": "fewer-repeat",
   "metadata": {},
   "source": [
    "Aplicamos esta función a los valores $\\hat{p} = 0.78$ y $0.82$. A lo obtenido le aplicamos ```st.norm.cdf``` y la resta de los dos nos da el resultado:"
   ]
  },
  {
   "cell_type": "code",
   "execution_count": 105,
   "id": "raised-script",
   "metadata": {},
   "outputs": [
    {
     "name": "stdout",
     "output_type": "stream",
     "text": [
      "P(0.78 < p < 0.82) = 0.3108434832206478\n"
     ]
    }
   ],
   "source": [
    "print(f\"P(0.78 < p < 0.82) = {st.norm.cdf(getZ_2(0.82,0.8,64)) - st.norm.cdf(getZ_2(0.78,0.8,64))}\")"
   ]
  },
  {
   "cell_type": "markdown",
   "id": "blocked-entity",
   "metadata": {},
   "source": [
    "Vemos que $P(0.78 < \\bar{p} < 0.82) = 0.310843... = 31.0843...\\%$\n",
    "\n",
    "(b) $P(0.82 < \\bar{p} < 0.83)$."
   ]
  },
  {
   "cell_type": "markdown",
   "id": "behind-representative",
   "metadata": {},
   "source": [
    "Hacemos justo el mismo procedimiento que en el inciso anterior pero ahora con los valores de $\\hat{p}$ que pide el problema:"
   ]
  },
  {
   "cell_type": "code",
   "execution_count": 106,
   "id": "naval-notion",
   "metadata": {},
   "outputs": [
    {
     "name": "stdout",
     "output_type": "stream",
     "text": [
      "P(0.82 < p < 0.83) = 0.07032514063960238\n"
     ]
    }
   ],
   "source": [
    "print(f\"P(0.82 < p < 0.83) = {st.norm.cdf(getZ_2(0.83,0.8,64)) - st.norm.cdf(getZ_2(0.82,0.8,64))}\")"
   ]
  },
  {
   "cell_type": "markdown",
   "id": "incorporate-intelligence",
   "metadata": {},
   "source": [
    "Vemos que $P(0.82 < \\hat{p} < 0.83) = 0.070325... = 7.0325...\\%$"
   ]
  },
  {
   "cell_type": "markdown",
   "id": "powerful-skirt",
   "metadata": {},
   "source": [
    "(c) $P(\\hat{p} < 0.81)$.\n",
    "\n",
    "Simplemente encontramos el valor de $Z$ correspondiente al valor de $\\hat{p} = 0.81$ y le aplicamos la función ```st.norm.cdf``` para obtener directamente el resultado:"
   ]
  },
  {
   "cell_type": "code",
   "execution_count": 107,
   "id": "opponent-colleague",
   "metadata": {},
   "outputs": [
    {
     "name": "stdout",
     "output_type": "stream",
     "text": [
      "P(p<0.81) = 0.5792597094391031\n"
     ]
    }
   ],
   "source": [
    "print(f\"P(p<0.81) = {st.norm.cdf(getZ_2(0.81,0.8,64))}\")"
   ]
  },
  {
   "cell_type": "markdown",
   "id": "configured-malawi",
   "metadata": {},
   "source": [
    "Vemos que $P(\\hat{p} < 0.81) = 0.5792597... = 57.92597...\\%$"
   ]
  },
  {
   "cell_type": "markdown",
   "id": "functional-voice",
   "metadata": {},
   "source": [
    "## 2. Estimación\n",
    "\n",
    "1. En un estudio para estimar la verdadera proporción de ciudadanos estadounidenses que están a favor de legislar el control de armas, de una muestra aleatoria de 5000 personas, hubo 2800 a favor de tal legislación.\n",
    "\n",
    "(a) Construya un intervalo de confianza del 90% para aproximar la verdadera proporción de los ciudadanos estadounidenses simpatizantes de legislar el control de armas."
   ]
  },
  {
   "cell_type": "markdown",
   "id": "received-yorkshire",
   "metadata": {},
   "source": [
    "Para esto usamos la función de ```st.norm.interval```, donde $\\alpha = 0.9$, *loc* será igual a $\\hat{p} = x/n = 2800/5000$ y *scale* será el valor de $\\sigma_{\\hat{p}}$ que se define como:\n",
    "\n",
    "$$\n",
    "\\sigma_{\\hat{p}} = \\sqrt{\\frac{\\hat{p}(1-\\hat{p})}{n}}\n",
    "$$"
   ]
  },
  {
   "cell_type": "code",
   "execution_count": 130,
   "id": "seeing-imaging",
   "metadata": {},
   "outputs": [
    {
     "data": {
      "text/plain": [
       "(0.5484531744008225, 0.5715468255991776)"
      ]
     },
     "execution_count": 130,
     "metadata": {},
     "output_type": "execute_result"
    }
   ],
   "source": [
    "sigma_p = np.sqrt(((2800/5000) * (1 - 2800/5000) )/5000)\n",
    "st.norm.interval(alpha=0.90, loc = 2800/5000, scale = (sigma_p))"
   ]
  },
  {
   "cell_type": "markdown",
   "id": "unlikely-feeding",
   "metadata": {},
   "source": [
    "Podemos ver que el intervalo de confianza del 90% de la verdadera proporción de $p$ de ciudadanos estadounidenses simpatizantes de legislar el control de armas es $(0.5484..., 0.5715...)$.\n",
    "\n",
    "(b) ¿Qué tan grande debe de ser la muestra elegida si queremos tener un $95\\%$ de confianza en que el error de estimación es menor que 0.01? Usar el valor de $p$ obtenido en el inciso anterior para estimar $p$."
   ]
  },
  {
   "cell_type": "markdown",
   "id": "jewish-butterfly",
   "metadata": {},
   "source": [
    "Recordemos que una forma de obtener $n$ a partir de $p$ es con:\n",
    "$$\n",
    "n = \\left(\\frac{z_{\\alpha/2}}{E}\\right)^2p(1-p)\n",
    "$$\n",
    "\n",
    "Donde $E = 0.01$, el valor de $z_{\\alpha/2}$ lo calculamos con la función ```st.norm.ppf``` considerando que en este caso $\\alpha/2$ = 1 - ((1-0.95)/2) = 1- 0.025 (Recordemos que restamos esto a 1 porque así funciona esta librería de Python) y finalmente $p = 2800/5000$ (del ejercicio pasado)."
   ]
  },
  {
   "cell_type": "code",
   "execution_count": 158,
   "id": "interior-suicide",
   "metadata": {},
   "outputs": [
    {
     "name": "stdout",
     "output_type": "stream",
     "text": [
      "n = 9465.354534190323\n"
     ]
    }
   ],
   "source": [
    "z_a_2 = st.norm.ppf(1-0.025)\n",
    "E = 0.01\n",
    "p = 2800/5000\n",
    "n = ((z_a_2/E)**2)*(p)*(1-p)\n",
    "print(f\"n = {n}\")"
   ]
  },
  {
   "cell_type": "markdown",
   "id": "accompanied-brisbane",
   "metadata": {},
   "source": [
    "Como vemos $n = 9465.35434....$ que podemos subir al siguiente entero $n = 9466$. Entonces el tamaño de nuestra muestra elegida si queremos tener un $95\\%$ de confianza en que el error de estimación es menor que 0.01 es de $n = 9466$.\n",
    "\n",
    "2. Para estimar la varianza de los diámetros de las tapas rosca en las botellas de medicina, se examinó una muestra de 20 tapas encontrándose una varianza de 0.18 mm cuadrados. Suponiendo que los diámetros de las tapas se distribuyen normalmente, construya un intervalo de confianza del 99% de la verdadera varianza de esos diámetros."
   ]
  },
  {
   "cell_type": "markdown",
   "id": "amazing-humidity",
   "metadata": {},
   "source": [
    "Recordemos que una forma de encontrar los límites de los intervalos dados los datos que nos dio el problema es con:\n",
    "\n",
    "$$\n",
    "L_1 = \\frac{gl\\cdot\\sigma^2}{\\chi^2_{\\alpha/2}(gl)}\n",
    "$$\n",
    "$$\n",
    "L_1 = \\frac{gl\\cdot\\sigma^2}{\\chi^2_{1-\\alpha/2}(gl)}\n",
    "$$\n",
    "\n",
    "Los valores de $\\chi^2$ los podemos calcular con los grados de libertad que tenemos (en este caso $20 - 1 = 19$) y $\\alpha/2 = 1 - (1 - 0.99)/2 = 0.995$ y $1-\\alpha/2 = 0.005$ (recordemos que Python asume el valor que conocemos de $1-\\alpha$ como si fuera $\\alpha$, por eso restamos 1) usando la función ```st.chi2.ppf``` a la cual le damos estos dos datos. Calculando los límites del intervalo como ya mencionamos obtenemos:"
   ]
  },
  {
   "cell_type": "code",
   "execution_count": 254,
   "id": "acknowledged-castle",
   "metadata": {},
   "outputs": [
    {
     "name": "stdout",
     "output_type": "stream",
     "text": [
      "(0.08864178265806022, 0.4997098581200557)\n"
     ]
    }
   ],
   "source": [
    "L1 = 0.18*(20-1)/st.chi2.ppf(0.995, 20-1)\n",
    "L2 = 0.18*(20-1)/st.chi2.ppf(0.005,20-1)\n",
    "print(f\"({L1}, {L2})\")"
   ]
  },
  {
   "cell_type": "markdown",
   "id": "grave-train",
   "metadata": {},
   "source": [
    "Como vemos, nuestro intervalo de confianza para la varianza de esos diámetros es de $(0.0886..., 0.4997...)$ en milímetros cuadrados."
   ]
  },
  {
   "cell_type": "markdown",
   "id": "spanish-phenomenon",
   "metadata": {},
   "source": [
    "3. En un examen final del curso de cálculo en una universidad grande, se calificó rápidamente una muestra de 45 exámenes para estimar la calificación promedio. De una experiencia anteriro, se había determinado que σ = 14.5. Si los 45 exámenes dieron una media de 62 y una desviación estándar de 18.1, definir un intervalo de confianza del 95% para la verdadera calificación promedio en el examen de todos los estudiantes de la universidad."
   ]
  },
  {
   "cell_type": "markdown",
   "id": "comparative-guide",
   "metadata": {},
   "source": [
    "Tenemos como datos $n= 45$, $\\mu = 62$, $\\sigma = 14.5$ y que el intervalo de confianza debe ser de 0.95. Entonces usando la función de ```st.norm.interval``` calculamos el intervalo dando como parámetros el porcentaje de 0.95, *loc* equivalente al valor de $\\mu$, y *scale* es igual a $\\sigma/\\sqrt{n}$."
   ]
  },
  {
   "cell_type": "code",
   "execution_count": 257,
   "id": "sealed-confirmation",
   "metadata": {},
   "outputs": [
    {
     "data": {
      "text/plain": [
       "(57.763474387213186, 66.2365256127868)"
      ]
     },
     "execution_count": 257,
     "metadata": {},
     "output_type": "execute_result"
    }
   ],
   "source": [
    "st.norm.interval(0.95, loc=62, scale = 14.5/np.sqrt(45))"
   ]
  },
  {
   "cell_type": "markdown",
   "id": "organizational-prompt",
   "metadata": {},
   "source": [
    "Como vemos, el intervalo de confianza para $\\mu$ es de $(57.76..., 66.23....)$.\n",
    "\n",
    "4. Los diámetros de cierto tipo de pernos producidos por una firma grande se distribuyen normalmente. Supongamos que una muestra de 20 pernos dio $\\bar{x} = 8.02$ mm y $s = 0.06$ mm.\n",
    "\n",
    "(a) Encuentra $E$ tal que podamos tener un $95\\%$ de confianza en que $\\mu$ difiere de $\\bar{x}$ en menos que E.\n",
    "\n",
    "Tenemos que $\\sigma = 0.06$, $\\alpha/2 = 1 - (1-0.95)/2 = 0.975$ (definido acorde a como pide Python) y $n = 20$. Recordemos que una forma de calcular $E$ era la siguiente:\n",
    "\n",
    "$$\n",
    "E = z_{\\alpha/2}\\frac{\\sigma}{\\sqrt{n}}\n",
    "$$\n",
    "El valor de $z_{\\alpha/2}$ lo obtenemos con ayuda de la función ```st.norm.ppf``` que recibe nada más el parámetro de $\\alpha/2$. Sustituimos los valores que conocemos y obtenemos directamente el valor de $E$:"
   ]
  },
  {
   "cell_type": "code",
   "execution_count": 262,
   "id": "surprised-sixth",
   "metadata": {},
   "outputs": [
    {
     "name": "stdout",
     "output_type": "stream",
     "text": [
      "E = 0.026295676217297444\n"
     ]
    }
   ],
   "source": [
    "z_a_2 = st.norm.ppf(0.975)\n",
    "sigma = 0.06\n",
    "n = 20\n",
    "E = z_a_2*(sigma)/np.sqrt(n)\n",
    "print(f\"E = {E}\")"
   ]
  },
  {
   "cell_type": "markdown",
   "id": "noted-hunger",
   "metadata": {},
   "source": [
    "Vemos que para tener un $95\\%$ de confianza en que $\\mu$ difiere de $\\bar{x}$ ocupamos $E = 0.026$.\n",
    "\n",
    "(b) Estime $\\mu$ construyendo un intervalo del $95\\%$ de confianza:\n",
    "\n",
    "Simplemente aplicamos la función ```st.norm.interval``` donde el parámetro inicial será nuestro porcentaje de 0.95, el de *loc* será igual $\\bar{x}$ y el de *scale* será $\\sigma/\\sqrt{n}$. Esto nos dará directamente el intervalo de confianza que buscamos:"
   ]
  },
  {
   "cell_type": "code",
   "execution_count": 263,
   "id": "bearing-cursor",
   "metadata": {},
   "outputs": [
    {
     "data": {
      "text/plain": [
       "(7.993704323782702, 8.046295676217296)"
      ]
     },
     "execution_count": 263,
     "metadata": {},
     "output_type": "execute_result"
    }
   ],
   "source": [
    "x = 8.02\n",
    "st.norm.interval(0.95, loc = 8.02, scale = sigma/np.sqrt(n))"
   ]
  },
  {
   "cell_type": "markdown",
   "id": "special-remark",
   "metadata": {},
   "source": [
    "Como podemos ver, el intervalo de $95\\%$ de confianza para estimar $\\mu$ es de $(7.9937..., 8.0462...)$."
   ]
  },
  {
   "cell_type": "code",
   "execution_count": null,
   "id": "brief-count",
   "metadata": {},
   "outputs": [],
   "source": []
  }
 ],
 "metadata": {
  "kernelspec": {
   "display_name": "Python 3",
   "language": "python",
   "name": "python3"
  },
  "language_info": {
   "codemirror_mode": {
    "name": "ipython",
    "version": 3
   },
   "file_extension": ".py",
   "mimetype": "text/x-python",
   "name": "python",
   "nbconvert_exporter": "python",
   "pygments_lexer": "ipython3",
   "version": "3.8.8"
  }
 },
 "nbformat": 4,
 "nbformat_minor": 5
}
