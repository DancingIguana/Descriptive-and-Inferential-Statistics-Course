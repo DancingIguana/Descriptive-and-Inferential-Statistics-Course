{
 "cells": [
  {
   "cell_type": "markdown",
   "id": "happy-netscape",
   "metadata": {},
   "source": [
    "# Medidas Centrales y de Dispersión \n",
    "## Estadística Descriptiva e Inferencial (2021-2)\n",
    "### Laboratorio 3\n",
    "#### Juan Pablo Maldonado Castro"
   ]
  },
  {
   "cell_type": "code",
   "execution_count": 1,
   "id": "dominant-violence",
   "metadata": {},
   "outputs": [],
   "source": [
    "import numpy as np\n",
    "import matplotlib.pyplot as plt\n",
    "import pandas as pd\n",
    "import seaborn as sns"
   ]
  },
  {
   "cell_type": "markdown",
   "id": "documentary-semiconductor",
   "metadata": {},
   "source": [
    "1. La siguiente tabla contiene los salarios en cientos de dólares, de 25 trabajadores\n",
    "\n",
    "| Salario anual | Frecuencia |\n",
    "|:-------:|:--------:|\n",
    "|   55    |   7    |\n",
    "|   60    |   5    |\n",
    "|   70    |   6    |\n",
    "|   80    |   4    |\n",
    "|   300   |   3    |"
   ]
  },
  {
   "cell_type": "markdown",
   "id": "inner-denver",
   "metadata": {},
   "source": [
    "Pasemos la tabla a un dataframe."
   ]
  },
  {
   "cell_type": "code",
   "execution_count": 2,
   "id": "therapeutic-spread",
   "metadata": {},
   "outputs": [
    {
     "data": {
      "text/html": [
       "<div>\n",
       "<style scoped>\n",
       "    .dataframe tbody tr th:only-of-type {\n",
       "        vertical-align: middle;\n",
       "    }\n",
       "\n",
       "    .dataframe tbody tr th {\n",
       "        vertical-align: top;\n",
       "    }\n",
       "\n",
       "    .dataframe thead th {\n",
       "        text-align: right;\n",
       "    }\n",
       "</style>\n",
       "<table border=\"1\" class=\"dataframe\">\n",
       "  <thead>\n",
       "    <tr style=\"text-align: right;\">\n",
       "      <th></th>\n",
       "      <th>Salario anual</th>\n",
       "    </tr>\n",
       "  </thead>\n",
       "  <tbody>\n",
       "    <tr>\n",
       "      <th>0</th>\n",
       "      <td>55</td>\n",
       "    </tr>\n",
       "    <tr>\n",
       "      <th>1</th>\n",
       "      <td>55</td>\n",
       "    </tr>\n",
       "    <tr>\n",
       "      <th>2</th>\n",
       "      <td>55</td>\n",
       "    </tr>\n",
       "    <tr>\n",
       "      <th>3</th>\n",
       "      <td>55</td>\n",
       "    </tr>\n",
       "    <tr>\n",
       "      <th>4</th>\n",
       "      <td>55</td>\n",
       "    </tr>\n",
       "    <tr>\n",
       "      <th>5</th>\n",
       "      <td>55</td>\n",
       "    </tr>\n",
       "    <tr>\n",
       "      <th>6</th>\n",
       "      <td>55</td>\n",
       "    </tr>\n",
       "    <tr>\n",
       "      <th>7</th>\n",
       "      <td>60</td>\n",
       "    </tr>\n",
       "    <tr>\n",
       "      <th>8</th>\n",
       "      <td>60</td>\n",
       "    </tr>\n",
       "    <tr>\n",
       "      <th>9</th>\n",
       "      <td>60</td>\n",
       "    </tr>\n",
       "    <tr>\n",
       "      <th>10</th>\n",
       "      <td>60</td>\n",
       "    </tr>\n",
       "    <tr>\n",
       "      <th>11</th>\n",
       "      <td>60</td>\n",
       "    </tr>\n",
       "    <tr>\n",
       "      <th>12</th>\n",
       "      <td>70</td>\n",
       "    </tr>\n",
       "    <tr>\n",
       "      <th>13</th>\n",
       "      <td>70</td>\n",
       "    </tr>\n",
       "    <tr>\n",
       "      <th>14</th>\n",
       "      <td>70</td>\n",
       "    </tr>\n",
       "    <tr>\n",
       "      <th>15</th>\n",
       "      <td>70</td>\n",
       "    </tr>\n",
       "    <tr>\n",
       "      <th>16</th>\n",
       "      <td>70</td>\n",
       "    </tr>\n",
       "    <tr>\n",
       "      <th>17</th>\n",
       "      <td>70</td>\n",
       "    </tr>\n",
       "    <tr>\n",
       "      <th>18</th>\n",
       "      <td>80</td>\n",
       "    </tr>\n",
       "    <tr>\n",
       "      <th>19</th>\n",
       "      <td>80</td>\n",
       "    </tr>\n",
       "    <tr>\n",
       "      <th>20</th>\n",
       "      <td>80</td>\n",
       "    </tr>\n",
       "    <tr>\n",
       "      <th>21</th>\n",
       "      <td>80</td>\n",
       "    </tr>\n",
       "    <tr>\n",
       "      <th>22</th>\n",
       "      <td>300</td>\n",
       "    </tr>\n",
       "    <tr>\n",
       "      <th>23</th>\n",
       "      <td>300</td>\n",
       "    </tr>\n",
       "    <tr>\n",
       "      <th>24</th>\n",
       "      <td>300</td>\n",
       "    </tr>\n",
       "  </tbody>\n",
       "</table>\n",
       "</div>"
      ],
      "text/plain": [
       "    Salario anual\n",
       "0              55\n",
       "1              55\n",
       "2              55\n",
       "3              55\n",
       "4              55\n",
       "5              55\n",
       "6              55\n",
       "7              60\n",
       "8              60\n",
       "9              60\n",
       "10             60\n",
       "11             60\n",
       "12             70\n",
       "13             70\n",
       "14             70\n",
       "15             70\n",
       "16             70\n",
       "17             70\n",
       "18             80\n",
       "19             80\n",
       "20             80\n",
       "21             80\n",
       "22            300\n",
       "23            300\n",
       "24            300"
      ]
     },
     "execution_count": 2,
     "metadata": {},
     "output_type": "execute_result"
    }
   ],
   "source": [
    "data = [[55,7],\n",
    "        [60,5],\n",
    "        [70,6],\n",
    "        [80,4],\n",
    "        [300,3]]\n",
    "\n",
    "df = pd.DataFrame(data, columns = ['Salario anual','Frecuencia'])\n",
    "\n",
    "\n",
    "my_data = []\n",
    "for index, row in df.iterrows():\n",
    "    for salary in range(row['Frecuencia']):\n",
    "        my_data.append(row['Salario anual'])\n",
    "        \n",
    "df2 = pd.DataFrame(my_data, columns = ['Salario anual'])\n",
    "df2"
   ]
  },
  {
   "cell_type": "markdown",
   "id": "announced-pencil",
   "metadata": {},
   "source": [
    "a) ¿Cuál es la moda?"
   ]
  },
  {
   "cell_type": "code",
   "execution_count": 3,
   "id": "spatial-cancer",
   "metadata": {},
   "outputs": [
    {
     "data": {
      "text/html": [
       "<div>\n",
       "<style scoped>\n",
       "    .dataframe tbody tr th:only-of-type {\n",
       "        vertical-align: middle;\n",
       "    }\n",
       "\n",
       "    .dataframe tbody tr th {\n",
       "        vertical-align: top;\n",
       "    }\n",
       "\n",
       "    .dataframe thead th {\n",
       "        text-align: right;\n",
       "    }\n",
       "</style>\n",
       "<table border=\"1\" class=\"dataframe\">\n",
       "  <thead>\n",
       "    <tr style=\"text-align: right;\">\n",
       "      <th></th>\n",
       "      <th>Salario anual</th>\n",
       "    </tr>\n",
       "  </thead>\n",
       "  <tbody>\n",
       "    <tr>\n",
       "      <th>0</th>\n",
       "      <td>55</td>\n",
       "    </tr>\n",
       "  </tbody>\n",
       "</table>\n",
       "</div>"
      ],
      "text/plain": [
       "   Salario anual\n",
       "0             55"
      ]
     },
     "execution_count": 3,
     "metadata": {},
     "output_type": "execute_result"
    }
   ],
   "source": [
    "df2.mode()"
   ]
  },
  {
   "cell_type": "markdown",
   "id": "provincial-istanbul",
   "metadata": {},
   "source": [
    "**R:** La moda es 55."
   ]
  },
  {
   "cell_type": "markdown",
   "id": "recent-shape",
   "metadata": {},
   "source": [
    "b) ¿Cuál es la media?"
   ]
  },
  {
   "cell_type": "code",
   "execution_count": 4,
   "id": "academic-hepatitis",
   "metadata": {},
   "outputs": [
    {
     "data": {
      "text/plain": [
       "Salario anual    93.0\n",
       "dtype: float64"
      ]
     },
     "execution_count": 4,
     "metadata": {},
     "output_type": "execute_result"
    }
   ],
   "source": [
    "df2.mean()"
   ]
  },
  {
   "cell_type": "markdown",
   "id": "latest-hello",
   "metadata": {},
   "source": [
    "**R:** La media es 93."
   ]
  },
  {
   "cell_type": "markdown",
   "id": "recovered-postcard",
   "metadata": {},
   "source": [
    "c) Diga la mediana"
   ]
  },
  {
   "cell_type": "code",
   "execution_count": 5,
   "id": "welcome-forwarding",
   "metadata": {},
   "outputs": [
    {
     "data": {
      "text/plain": [
       "Salario anual    70.0\n",
       "dtype: float64"
      ]
     },
     "execution_count": 5,
     "metadata": {},
     "output_type": "execute_result"
    }
   ],
   "source": [
    "df2.median()"
   ]
  },
  {
   "cell_type": "markdown",
   "id": "revolutionary-gardening",
   "metadata": {},
   "source": [
    "**R:** La mediana es 70"
   ]
  },
  {
   "cell_type": "markdown",
   "id": "handy-layout",
   "metadata": {},
   "source": [
    "d) Determine el sesgo"
   ]
  },
  {
   "cell_type": "code",
   "execution_count": 6,
   "id": "indonesian-combining",
   "metadata": {},
   "outputs": [],
   "source": [
    "def sesgo(df):\n",
    "    if df.mean() < df.median():\n",
    "        return \"Sesgo negativo\"\n",
    "    if df.mean() > df.median():\n",
    "        return \"Sesgo positivo\"\n",
    "    if df.mean() == df.median():\n",
    "        return \"Sesgo simétrico\""
   ]
  },
  {
   "cell_type": "code",
   "execution_count": 7,
   "id": "controlling-balance",
   "metadata": {},
   "outputs": [
    {
     "data": {
      "text/plain": [
       "'Sesgo positivo'"
      ]
     },
     "execution_count": 7,
     "metadata": {},
     "output_type": "execute_result"
    }
   ],
   "source": [
    "sesgo(df2['Salario anual'])"
   ]
  },
  {
   "cell_type": "markdown",
   "id": "allied-defensive",
   "metadata": {},
   "source": [
    "**R:** El sesgo es positivo"
   ]
  },
  {
   "cell_type": "markdown",
   "id": "russian-stuff",
   "metadata": {},
   "source": [
    "e) ¿Cuál es $Q_1$?"
   ]
  },
  {
   "cell_type": "code",
   "execution_count": 8,
   "id": "interested-destruction",
   "metadata": {},
   "outputs": [
    {
     "data": {
      "text/plain": [
       "Salario anual    55.0\n",
       "Name: 0.25, dtype: float64"
      ]
     },
     "execution_count": 8,
     "metadata": {},
     "output_type": "execute_result"
    }
   ],
   "source": [
    "df2.quantile(0.25)"
   ]
  },
  {
   "cell_type": "markdown",
   "id": "generic-sharp",
   "metadata": {},
   "source": [
    "**R:** $Q_1 = 55$"
   ]
  },
  {
   "cell_type": "markdown",
   "id": "pressing-outline",
   "metadata": {},
   "source": [
    "f) ¿Cuál es $D_6$?"
   ]
  },
  {
   "cell_type": "code",
   "execution_count": 9,
   "id": "french-option",
   "metadata": {},
   "outputs": [
    {
     "data": {
      "text/plain": [
       "Salario anual    70.0\n",
       "Name: 0.6, dtype: float64"
      ]
     },
     "execution_count": 9,
     "metadata": {},
     "output_type": "execute_result"
    }
   ],
   "source": [
    "df2.quantile(0.6)"
   ]
  },
  {
   "cell_type": "markdown",
   "id": "fitted-lodge",
   "metadata": {},
   "source": [
    "**R:** $Q_6 = 70$"
   ]
  },
  {
   "cell_type": "markdown",
   "id": "patient-spokesman",
   "metadata": {},
   "source": [
    "3. Se recabaron los datos muestrales:\n",
    "$$8, 8, 26, 10, 8, 8, 8, 18, 8, 14, 20, 10, 6, 14, 14.$$"
   ]
  },
  {
   "cell_type": "markdown",
   "id": "current-adapter",
   "metadata": {},
   "source": [
    "Pasamos los datos a un dataframe."
   ]
  },
  {
   "cell_type": "code",
   "execution_count": 10,
   "id": "overhead-holiday",
   "metadata": {},
   "outputs": [
    {
     "data": {
      "text/html": [
       "<div>\n",
       "<style scoped>\n",
       "    .dataframe tbody tr th:only-of-type {\n",
       "        vertical-align: middle;\n",
       "    }\n",
       "\n",
       "    .dataframe tbody tr th {\n",
       "        vertical-align: top;\n",
       "    }\n",
       "\n",
       "    .dataframe thead th {\n",
       "        text-align: right;\n",
       "    }\n",
       "</style>\n",
       "<table border=\"1\" class=\"dataframe\">\n",
       "  <thead>\n",
       "    <tr style=\"text-align: right;\">\n",
       "      <th></th>\n",
       "      <th>data</th>\n",
       "    </tr>\n",
       "  </thead>\n",
       "  <tbody>\n",
       "    <tr>\n",
       "      <th>0</th>\n",
       "      <td>8</td>\n",
       "    </tr>\n",
       "    <tr>\n",
       "      <th>1</th>\n",
       "      <td>8</td>\n",
       "    </tr>\n",
       "    <tr>\n",
       "      <th>2</th>\n",
       "      <td>26</td>\n",
       "    </tr>\n",
       "    <tr>\n",
       "      <th>3</th>\n",
       "      <td>10</td>\n",
       "    </tr>\n",
       "    <tr>\n",
       "      <th>4</th>\n",
       "      <td>8</td>\n",
       "    </tr>\n",
       "    <tr>\n",
       "      <th>5</th>\n",
       "      <td>8</td>\n",
       "    </tr>\n",
       "    <tr>\n",
       "      <th>6</th>\n",
       "      <td>8</td>\n",
       "    </tr>\n",
       "    <tr>\n",
       "      <th>7</th>\n",
       "      <td>18</td>\n",
       "    </tr>\n",
       "    <tr>\n",
       "      <th>8</th>\n",
       "      <td>8</td>\n",
       "    </tr>\n",
       "    <tr>\n",
       "      <th>9</th>\n",
       "      <td>14</td>\n",
       "    </tr>\n",
       "    <tr>\n",
       "      <th>10</th>\n",
       "      <td>20</td>\n",
       "    </tr>\n",
       "    <tr>\n",
       "      <th>11</th>\n",
       "      <td>10</td>\n",
       "    </tr>\n",
       "    <tr>\n",
       "      <th>12</th>\n",
       "      <td>6</td>\n",
       "    </tr>\n",
       "    <tr>\n",
       "      <th>13</th>\n",
       "      <td>14</td>\n",
       "    </tr>\n",
       "    <tr>\n",
       "      <th>14</th>\n",
       "      <td>14</td>\n",
       "    </tr>\n",
       "  </tbody>\n",
       "</table>\n",
       "</div>"
      ],
      "text/plain": [
       "    data\n",
       "0      8\n",
       "1      8\n",
       "2     26\n",
       "3     10\n",
       "4      8\n",
       "5      8\n",
       "6      8\n",
       "7     18\n",
       "8      8\n",
       "9     14\n",
       "10    20\n",
       "11    10\n",
       "12     6\n",
       "13    14\n",
       "14    14"
      ]
     },
     "execution_count": 10,
     "metadata": {},
     "output_type": "execute_result"
    }
   ],
   "source": [
    "data = [8, 8, 26, 10, 8, 8, 8, 18, 8, 14, 20, 10, 6, 14, 14]\n",
    "df = pd.DataFrame(data, columns = ['data'])\n",
    "df"
   ]
  },
  {
   "cell_type": "markdown",
   "id": "plain-voluntary",
   "metadata": {},
   "source": [
    "(a) Encuentre $\\bar{x}$ y $s$."
   ]
  },
  {
   "cell_type": "code",
   "execution_count": 11,
   "id": "violent-alarm",
   "metadata": {},
   "outputs": [
    {
     "name": "stdout",
     "output_type": "stream",
     "text": [
      "Media: 12.0 \n",
      " s: 5.656854249492381\n"
     ]
    }
   ],
   "source": [
    "print(\"Media:\",df['data'].mean(),\"\\n\",\"s:\",df['data'].std())"
   ]
  },
  {
   "cell_type": "markdown",
   "id": "shared-reform",
   "metadata": {},
   "source": [
    "**R:** $\\bar{x}=12$ y $s \\approx 5.6568$"
   ]
  },
  {
   "cell_type": "markdown",
   "id": "alike-object",
   "metadata": {},
   "source": [
    "(b) Si al recabar los datos se cometió un error y la medida original de 26 hubiera sido 20, ¿deberá crecer o decrecer $s$? Explique. Verifica la hipótesis usando pandas.\n",
    "\n",
    "**Explicación:** Deberá decrecer porque mientras más cerca estés de 0, menos dispersos estarán los datos. En este caso, al reemplazar 26 por 20, la dispersión entre datos va a ser menor, porque el 20 está más cerca de la media del nuevo conjunto de datos que 26 de la media del conjunto original de datos.\n",
    "\n",
    "Esto lo comprobamos usando *pandas* de la siguiente manera:"
   ]
  },
  {
   "cell_type": "markdown",
   "id": "ranking-sauce",
   "metadata": {},
   "source": [
    "Hagamos un segundo dataframe sustituyendo el valor de 26 por 20:"
   ]
  },
  {
   "cell_type": "code",
   "execution_count": 12,
   "id": "finite-spread",
   "metadata": {},
   "outputs": [
    {
     "data": {
      "text/html": [
       "<div>\n",
       "<style scoped>\n",
       "    .dataframe tbody tr th:only-of-type {\n",
       "        vertical-align: middle;\n",
       "    }\n",
       "\n",
       "    .dataframe tbody tr th {\n",
       "        vertical-align: top;\n",
       "    }\n",
       "\n",
       "    .dataframe thead th {\n",
       "        text-align: right;\n",
       "    }\n",
       "</style>\n",
       "<table border=\"1\" class=\"dataframe\">\n",
       "  <thead>\n",
       "    <tr style=\"text-align: right;\">\n",
       "      <th></th>\n",
       "      <th>data</th>\n",
       "    </tr>\n",
       "  </thead>\n",
       "  <tbody>\n",
       "    <tr>\n",
       "      <th>0</th>\n",
       "      <td>8</td>\n",
       "    </tr>\n",
       "    <tr>\n",
       "      <th>1</th>\n",
       "      <td>8</td>\n",
       "    </tr>\n",
       "    <tr>\n",
       "      <th>2</th>\n",
       "      <td>20</td>\n",
       "    </tr>\n",
       "    <tr>\n",
       "      <th>3</th>\n",
       "      <td>10</td>\n",
       "    </tr>\n",
       "    <tr>\n",
       "      <th>4</th>\n",
       "      <td>8</td>\n",
       "    </tr>\n",
       "    <tr>\n",
       "      <th>5</th>\n",
       "      <td>8</td>\n",
       "    </tr>\n",
       "    <tr>\n",
       "      <th>6</th>\n",
       "      <td>8</td>\n",
       "    </tr>\n",
       "    <tr>\n",
       "      <th>7</th>\n",
       "      <td>18</td>\n",
       "    </tr>\n",
       "    <tr>\n",
       "      <th>8</th>\n",
       "      <td>8</td>\n",
       "    </tr>\n",
       "    <tr>\n",
       "      <th>9</th>\n",
       "      <td>14</td>\n",
       "    </tr>\n",
       "    <tr>\n",
       "      <th>10</th>\n",
       "      <td>20</td>\n",
       "    </tr>\n",
       "    <tr>\n",
       "      <th>11</th>\n",
       "      <td>10</td>\n",
       "    </tr>\n",
       "    <tr>\n",
       "      <th>12</th>\n",
       "      <td>6</td>\n",
       "    </tr>\n",
       "    <tr>\n",
       "      <th>13</th>\n",
       "      <td>14</td>\n",
       "    </tr>\n",
       "    <tr>\n",
       "      <th>14</th>\n",
       "      <td>14</td>\n",
       "    </tr>\n",
       "  </tbody>\n",
       "</table>\n",
       "</div>"
      ],
      "text/plain": [
       "    data\n",
       "0      8\n",
       "1      8\n",
       "2     20\n",
       "3     10\n",
       "4      8\n",
       "5      8\n",
       "6      8\n",
       "7     18\n",
       "8      8\n",
       "9     14\n",
       "10    20\n",
       "11    10\n",
       "12     6\n",
       "13    14\n",
       "14    14"
      ]
     },
     "execution_count": 12,
     "metadata": {},
     "output_type": "execute_result"
    }
   ],
   "source": [
    "df2 = df.copy()\n",
    "df2['data'] = df2['data'].replace(26,20)\n",
    "df2"
   ]
  },
  {
   "cell_type": "markdown",
   "id": "occupational-generator",
   "metadata": {},
   "source": [
    "Ahora comparemos los valores de *s* de los datos originales y los modificados:"
   ]
  },
  {
   "cell_type": "code",
   "execution_count": 13,
   "id": "surprised-timeline",
   "metadata": {},
   "outputs": [
    {
     "name": "stdout",
     "output_type": "stream",
     "text": [
      "s Datos originales: 5.656854249492381 \n",
      "s Datos modificados 4.732863826479693\n"
     ]
    }
   ],
   "source": [
    "print(\"s Datos originales:\",df['data'].std(),\"\\ns Datos modificados\",df2['data'].std())"
   ]
  },
  {
   "cell_type": "markdown",
   "id": "ordinary-teach",
   "metadata": {},
   "source": [
    "**R:** Podemos observar que el valor de *s* decrece cuando sustituimos 26 por 20.,"
   ]
  },
  {
   "cell_type": "markdown",
   "id": "statutory-puppy",
   "metadata": {},
   "source": [
    "(c) Con la hipótesis del inciso anterior, pero suponiendo que la medida original hubiera sido 8 ¿Aumentaría o disminuiría *s*? Explique.\n",
    "\n",
    "**Explicación:** El valor de s debería disminuir por las mismas razones que en el inciso anterior. Mientras más cerca esté el valor de s de 0, menos dispersos estarán los datos. Cuando reemplacemos 26 por 8, la dispersión entre los datos va a ser menor porque 8 está más cerca de la media del nuevo conjunto de datos que 26 de la media del conjunto original de datos.\n",
    "\n",
    "Para verificarlo con *pandas* hacemos lo siguiente:\n",
    "\n",
    "Igual que con el inciso anterior obtenemos un segundo dataframe donde reemplazamos 26 por 8."
   ]
  },
  {
   "cell_type": "code",
   "execution_count": 14,
   "id": "functioning-declaration",
   "metadata": {},
   "outputs": [
    {
     "data": {
      "text/html": [
       "<div>\n",
       "<style scoped>\n",
       "    .dataframe tbody tr th:only-of-type {\n",
       "        vertical-align: middle;\n",
       "    }\n",
       "\n",
       "    .dataframe tbody tr th {\n",
       "        vertical-align: top;\n",
       "    }\n",
       "\n",
       "    .dataframe thead th {\n",
       "        text-align: right;\n",
       "    }\n",
       "</style>\n",
       "<table border=\"1\" class=\"dataframe\">\n",
       "  <thead>\n",
       "    <tr style=\"text-align: right;\">\n",
       "      <th></th>\n",
       "      <th>data</th>\n",
       "    </tr>\n",
       "  </thead>\n",
       "  <tbody>\n",
       "    <tr>\n",
       "      <th>0</th>\n",
       "      <td>8</td>\n",
       "    </tr>\n",
       "    <tr>\n",
       "      <th>1</th>\n",
       "      <td>8</td>\n",
       "    </tr>\n",
       "    <tr>\n",
       "      <th>2</th>\n",
       "      <td>8</td>\n",
       "    </tr>\n",
       "    <tr>\n",
       "      <th>3</th>\n",
       "      <td>10</td>\n",
       "    </tr>\n",
       "    <tr>\n",
       "      <th>4</th>\n",
       "      <td>8</td>\n",
       "    </tr>\n",
       "    <tr>\n",
       "      <th>5</th>\n",
       "      <td>8</td>\n",
       "    </tr>\n",
       "    <tr>\n",
       "      <th>6</th>\n",
       "      <td>8</td>\n",
       "    </tr>\n",
       "    <tr>\n",
       "      <th>7</th>\n",
       "      <td>18</td>\n",
       "    </tr>\n",
       "    <tr>\n",
       "      <th>8</th>\n",
       "      <td>8</td>\n",
       "    </tr>\n",
       "    <tr>\n",
       "      <th>9</th>\n",
       "      <td>14</td>\n",
       "    </tr>\n",
       "    <tr>\n",
       "      <th>10</th>\n",
       "      <td>20</td>\n",
       "    </tr>\n",
       "    <tr>\n",
       "      <th>11</th>\n",
       "      <td>10</td>\n",
       "    </tr>\n",
       "    <tr>\n",
       "      <th>12</th>\n",
       "      <td>6</td>\n",
       "    </tr>\n",
       "    <tr>\n",
       "      <th>13</th>\n",
       "      <td>14</td>\n",
       "    </tr>\n",
       "    <tr>\n",
       "      <th>14</th>\n",
       "      <td>14</td>\n",
       "    </tr>\n",
       "  </tbody>\n",
       "</table>\n",
       "</div>"
      ],
      "text/plain": [
       "    data\n",
       "0      8\n",
       "1      8\n",
       "2      8\n",
       "3     10\n",
       "4      8\n",
       "5      8\n",
       "6      8\n",
       "7     18\n",
       "8      8\n",
       "9     14\n",
       "10    20\n",
       "11    10\n",
       "12     6\n",
       "13    14\n",
       "14    14"
      ]
     },
     "execution_count": 14,
     "metadata": {},
     "output_type": "execute_result"
    }
   ],
   "source": [
    "df2 = df.copy()\n",
    "df2['data'] = df2['data'].replace(26,8)\n",
    "df2"
   ]
  },
  {
   "cell_type": "markdown",
   "id": "tough-television",
   "metadata": {},
   "source": [
    "Calculamos *s* de nuestros datos originales y modificados para después compararlos."
   ]
  },
  {
   "cell_type": "code",
   "execution_count": 15,
   "id": "entertaining-shoot",
   "metadata": {},
   "outputs": [
    {
     "name": "stdout",
     "output_type": "stream",
     "text": [
      "s Datos originales: 5.656854249492381 \n",
      "s datos modificados 4.1952353926806065\n"
     ]
    }
   ],
   "source": [
    "print(\"s Datos originales:\",df['data'].std(),\"\\ns datos modificados\",df2['data'].std())"
   ]
  },
  {
   "cell_type": "markdown",
   "id": "surgical-european",
   "metadata": {},
   "source": [
    "**R:** Podemos observar que el valor de *s* decrece cuando reemplazamos 26 por 8."
   ]
  },
  {
   "cell_type": "markdown",
   "id": "varying-netscape",
   "metadata": {},
   "source": [
    "4. La tabla de frecuencias agrupadas exhibe las edades de una muestra de 36 personas asistentes a una película para adultos."
   ]
  },
  {
   "cell_type": "markdown",
   "id": "previous-season",
   "metadata": {},
   "source": [
    "| Clase      |    f     |\n",
    "| :-------:  |:--------:|\n",
    "|   8-13     |    2     |\n",
    "|   14-19    |    7     |\n",
    "|   20-25    |    13    |\n",
    "|   26-31    |    5     |\n",
    "|   32-37    |    9     |"
   ]
  },
  {
   "cell_type": "markdown",
   "id": "described-guinea",
   "metadata": {},
   "source": [
    "Primero obtengamos una columna $X_i$ que contenga las marcas (puntos medios) de los intervalos de cada clase. Se define como:\n",
    "\n",
    "$$\n",
    "X_i = L + \\frac{U-L}{2}, \\text{donde U = límite superior y L = límite inferior}\n",
    "$$\n",
    "\n"
   ]
  },
  {
   "cell_type": "code",
   "execution_count": 16,
   "id": "failing-henry",
   "metadata": {},
   "outputs": [
    {
     "data": {
      "text/html": [
       "<div>\n",
       "<style scoped>\n",
       "    .dataframe tbody tr th:only-of-type {\n",
       "        vertical-align: middle;\n",
       "    }\n",
       "\n",
       "    .dataframe tbody tr th {\n",
       "        vertical-align: top;\n",
       "    }\n",
       "\n",
       "    .dataframe thead th {\n",
       "        text-align: right;\n",
       "    }\n",
       "</style>\n",
       "<table border=\"1\" class=\"dataframe\">\n",
       "  <thead>\n",
       "    <tr style=\"text-align: right;\">\n",
       "      <th></th>\n",
       "      <th>Clase</th>\n",
       "      <th>f</th>\n",
       "      <th>Xi</th>\n",
       "    </tr>\n",
       "  </thead>\n",
       "  <tbody>\n",
       "    <tr>\n",
       "      <th>0</th>\n",
       "      <td>8-13</td>\n",
       "      <td>2</td>\n",
       "      <td>10.5</td>\n",
       "    </tr>\n",
       "    <tr>\n",
       "      <th>1</th>\n",
       "      <td>14-19</td>\n",
       "      <td>7</td>\n",
       "      <td>16.5</td>\n",
       "    </tr>\n",
       "    <tr>\n",
       "      <th>2</th>\n",
       "      <td>20-25</td>\n",
       "      <td>13</td>\n",
       "      <td>22.5</td>\n",
       "    </tr>\n",
       "    <tr>\n",
       "      <th>3</th>\n",
       "      <td>26-31</td>\n",
       "      <td>5</td>\n",
       "      <td>28.5</td>\n",
       "    </tr>\n",
       "    <tr>\n",
       "      <th>4</th>\n",
       "      <td>32-37</td>\n",
       "      <td>9</td>\n",
       "      <td>34.5</td>\n",
       "    </tr>\n",
       "  </tbody>\n",
       "</table>\n",
       "</div>"
      ],
      "text/plain": [
       "   Clase   f    Xi\n",
       "0   8-13   2  10.5\n",
       "1  14-19   7  16.5\n",
       "2  20-25  13  22.5\n",
       "3  26-31   5  28.5\n",
       "4  32-37   9  34.5"
      ]
     },
     "execution_count": 16,
     "metadata": {},
     "output_type": "execute_result"
    }
   ],
   "source": [
    "data = [['8-13',2],\n",
    "        ['14-19',7],\n",
    "        ['20-25',13],\n",
    "        ['26-31',5],\n",
    "        ['32-37',9]\n",
    "       ]\n",
    "df = pd.DataFrame(data, columns = ['Clase', 'f'])\n",
    "\n",
    "df[['U','L']]=df['Clase'].str.split('-',expand=True)\n",
    "df['Xi']=(df['U'].astype(float)+df['L'].astype(float))/2\n",
    "df.drop(['U','L'],axis=1,inplace=True)\n",
    "\n",
    "df"
   ]
  },
  {
   "cell_type": "markdown",
   "id": "increased-absolute",
   "metadata": {},
   "source": [
    "Ya que tenemos esta columna, podemos calcular lo necesario considerando los pesos de *f* y los valores de $X_i$, por ejemplo:"
   ]
  },
  {
   "cell_type": "code",
   "execution_count": 17,
   "id": "visible-southeast",
   "metadata": {},
   "outputs": [
    {
     "name": "stdout",
     "output_type": "stream",
     "text": [
      "Media: 24.5\n"
     ]
    }
   ],
   "source": [
    "print(\"Media:\",np.average(df['Xi'], weights = df['f']))"
   ]
  },
  {
   "cell_type": "markdown",
   "id": "thick-reach",
   "metadata": {},
   "source": [
    "De manera alternativa definimos un dataframe auxiliar que contenga todos los datos de $X_i$ repetidos respecto a su frecuencia y a partir de él calcular los datos."
   ]
  },
  {
   "cell_type": "code",
   "execution_count": 18,
   "id": "studied-metallic",
   "metadata": {},
   "outputs": [
    {
     "data": {
      "text/html": [
       "<div>\n",
       "<style scoped>\n",
       "    .dataframe tbody tr th:only-of-type {\n",
       "        vertical-align: middle;\n",
       "    }\n",
       "\n",
       "    .dataframe tbody tr th {\n",
       "        vertical-align: top;\n",
       "    }\n",
       "\n",
       "    .dataframe thead th {\n",
       "        text-align: right;\n",
       "    }\n",
       "</style>\n",
       "<table border=\"1\" class=\"dataframe\">\n",
       "  <thead>\n",
       "    <tr style=\"text-align: right;\">\n",
       "      <th></th>\n",
       "      <th>edad</th>\n",
       "    </tr>\n",
       "  </thead>\n",
       "  <tbody>\n",
       "    <tr>\n",
       "      <th>0</th>\n",
       "      <td>10.5</td>\n",
       "    </tr>\n",
       "    <tr>\n",
       "      <th>1</th>\n",
       "      <td>10.5</td>\n",
       "    </tr>\n",
       "    <tr>\n",
       "      <th>2</th>\n",
       "      <td>16.5</td>\n",
       "    </tr>\n",
       "    <tr>\n",
       "      <th>3</th>\n",
       "      <td>16.5</td>\n",
       "    </tr>\n",
       "    <tr>\n",
       "      <th>4</th>\n",
       "      <td>16.5</td>\n",
       "    </tr>\n",
       "    <tr>\n",
       "      <th>5</th>\n",
       "      <td>16.5</td>\n",
       "    </tr>\n",
       "    <tr>\n",
       "      <th>6</th>\n",
       "      <td>16.5</td>\n",
       "    </tr>\n",
       "    <tr>\n",
       "      <th>7</th>\n",
       "      <td>16.5</td>\n",
       "    </tr>\n",
       "    <tr>\n",
       "      <th>8</th>\n",
       "      <td>16.5</td>\n",
       "    </tr>\n",
       "    <tr>\n",
       "      <th>9</th>\n",
       "      <td>22.5</td>\n",
       "    </tr>\n",
       "    <tr>\n",
       "      <th>10</th>\n",
       "      <td>22.5</td>\n",
       "    </tr>\n",
       "    <tr>\n",
       "      <th>11</th>\n",
       "      <td>22.5</td>\n",
       "    </tr>\n",
       "    <tr>\n",
       "      <th>12</th>\n",
       "      <td>22.5</td>\n",
       "    </tr>\n",
       "    <tr>\n",
       "      <th>13</th>\n",
       "      <td>22.5</td>\n",
       "    </tr>\n",
       "    <tr>\n",
       "      <th>14</th>\n",
       "      <td>22.5</td>\n",
       "    </tr>\n",
       "    <tr>\n",
       "      <th>15</th>\n",
       "      <td>22.5</td>\n",
       "    </tr>\n",
       "    <tr>\n",
       "      <th>16</th>\n",
       "      <td>22.5</td>\n",
       "    </tr>\n",
       "    <tr>\n",
       "      <th>17</th>\n",
       "      <td>22.5</td>\n",
       "    </tr>\n",
       "    <tr>\n",
       "      <th>18</th>\n",
       "      <td>22.5</td>\n",
       "    </tr>\n",
       "    <tr>\n",
       "      <th>19</th>\n",
       "      <td>22.5</td>\n",
       "    </tr>\n",
       "    <tr>\n",
       "      <th>20</th>\n",
       "      <td>22.5</td>\n",
       "    </tr>\n",
       "    <tr>\n",
       "      <th>21</th>\n",
       "      <td>22.5</td>\n",
       "    </tr>\n",
       "    <tr>\n",
       "      <th>22</th>\n",
       "      <td>28.5</td>\n",
       "    </tr>\n",
       "    <tr>\n",
       "      <th>23</th>\n",
       "      <td>28.5</td>\n",
       "    </tr>\n",
       "    <tr>\n",
       "      <th>24</th>\n",
       "      <td>28.5</td>\n",
       "    </tr>\n",
       "    <tr>\n",
       "      <th>25</th>\n",
       "      <td>28.5</td>\n",
       "    </tr>\n",
       "    <tr>\n",
       "      <th>26</th>\n",
       "      <td>28.5</td>\n",
       "    </tr>\n",
       "    <tr>\n",
       "      <th>27</th>\n",
       "      <td>34.5</td>\n",
       "    </tr>\n",
       "    <tr>\n",
       "      <th>28</th>\n",
       "      <td>34.5</td>\n",
       "    </tr>\n",
       "    <tr>\n",
       "      <th>29</th>\n",
       "      <td>34.5</td>\n",
       "    </tr>\n",
       "    <tr>\n",
       "      <th>30</th>\n",
       "      <td>34.5</td>\n",
       "    </tr>\n",
       "    <tr>\n",
       "      <th>31</th>\n",
       "      <td>34.5</td>\n",
       "    </tr>\n",
       "    <tr>\n",
       "      <th>32</th>\n",
       "      <td>34.5</td>\n",
       "    </tr>\n",
       "    <tr>\n",
       "      <th>33</th>\n",
       "      <td>34.5</td>\n",
       "    </tr>\n",
       "    <tr>\n",
       "      <th>34</th>\n",
       "      <td>34.5</td>\n",
       "    </tr>\n",
       "    <tr>\n",
       "      <th>35</th>\n",
       "      <td>34.5</td>\n",
       "    </tr>\n",
       "  </tbody>\n",
       "</table>\n",
       "</div>"
      ],
      "text/plain": [
       "    edad\n",
       "0   10.5\n",
       "1   10.5\n",
       "2   16.5\n",
       "3   16.5\n",
       "4   16.5\n",
       "5   16.5\n",
       "6   16.5\n",
       "7   16.5\n",
       "8   16.5\n",
       "9   22.5\n",
       "10  22.5\n",
       "11  22.5\n",
       "12  22.5\n",
       "13  22.5\n",
       "14  22.5\n",
       "15  22.5\n",
       "16  22.5\n",
       "17  22.5\n",
       "18  22.5\n",
       "19  22.5\n",
       "20  22.5\n",
       "21  22.5\n",
       "22  28.5\n",
       "23  28.5\n",
       "24  28.5\n",
       "25  28.5\n",
       "26  28.5\n",
       "27  34.5\n",
       "28  34.5\n",
       "29  34.5\n",
       "30  34.5\n",
       "31  34.5\n",
       "32  34.5\n",
       "33  34.5\n",
       "34  34.5\n",
       "35  34.5"
      ]
     },
     "execution_count": 18,
     "metadata": {},
     "output_type": "execute_result"
    }
   ],
   "source": [
    "my_data = []\n",
    "for index, row in df.iterrows():\n",
    "    for age in range(row['f']):\n",
    "        my_data.append(row['Xi'])\n",
    "        \n",
    "df2 = pd.DataFrame(my_data, columns = ['edad'])\n",
    "df2"
   ]
  },
  {
   "cell_type": "markdown",
   "id": "digital-response",
   "metadata": {},
   "source": [
    "Antes de comenzar, algo que debemos considerar es que vamos a estar calculando percentiles. Tendremos dos opciones:\n",
    "* Calcularlos con base en la columna de edades según las marcas que obtuvimos por cada intervalo.\n",
    "* Calcularlos con la fórmula asignada a tablas de frecuencia acumulada en valores con intervalos:\n",
    "$$P_{x} = l + \\frac{g}{f}\\times \\omega$$\n",
    "\n",
    "donde:\n",
    "\n",
    "* $l$ = valor de la frontera inferior de la clase que contiene la $\\tilde{x}_a$.\n",
    "* $g$ = número de lugares a contar dentro del intervalo.\n",
    "* $f$ = la frecuencia de la clase que contiene $\\tilde{x}_a$.\n",
    "* $\\omega$ = amplitud de la clase y el intervalo.\n",
    "\n",
    "Para ello ocupamos columnas con el valor de la frecuencia acumulada y los valores reales de los extremos de los intervalos:"
   ]
  },
  {
   "cell_type": "code",
   "execution_count": 19,
   "id": "enormous-riding",
   "metadata": {},
   "outputs": [
    {
     "data": {
      "text/html": [
       "<div>\n",
       "<style scoped>\n",
       "    .dataframe tbody tr th:only-of-type {\n",
       "        vertical-align: middle;\n",
       "    }\n",
       "\n",
       "    .dataframe tbody tr th {\n",
       "        vertical-align: top;\n",
       "    }\n",
       "\n",
       "    .dataframe thead th {\n",
       "        text-align: right;\n",
       "    }\n",
       "</style>\n",
       "<table border=\"1\" class=\"dataframe\">\n",
       "  <thead>\n",
       "    <tr style=\"text-align: right;\">\n",
       "      <th></th>\n",
       "      <th>Clase</th>\n",
       "      <th>f</th>\n",
       "      <th>L</th>\n",
       "      <th>U</th>\n",
       "      <th>Xi</th>\n",
       "      <th>fa</th>\n",
       "    </tr>\n",
       "  </thead>\n",
       "  <tbody>\n",
       "    <tr>\n",
       "      <th>0</th>\n",
       "      <td>8-13</td>\n",
       "      <td>2</td>\n",
       "      <td>7.5</td>\n",
       "      <td>13.5</td>\n",
       "      <td>10.5</td>\n",
       "      <td>2</td>\n",
       "    </tr>\n",
       "    <tr>\n",
       "      <th>1</th>\n",
       "      <td>14-19</td>\n",
       "      <td>7</td>\n",
       "      <td>13.5</td>\n",
       "      <td>19.5</td>\n",
       "      <td>16.5</td>\n",
       "      <td>9</td>\n",
       "    </tr>\n",
       "    <tr>\n",
       "      <th>2</th>\n",
       "      <td>20-25</td>\n",
       "      <td>13</td>\n",
       "      <td>19.5</td>\n",
       "      <td>25.5</td>\n",
       "      <td>22.5</td>\n",
       "      <td>22</td>\n",
       "    </tr>\n",
       "    <tr>\n",
       "      <th>3</th>\n",
       "      <td>26-31</td>\n",
       "      <td>5</td>\n",
       "      <td>25.5</td>\n",
       "      <td>31.5</td>\n",
       "      <td>28.5</td>\n",
       "      <td>27</td>\n",
       "    </tr>\n",
       "    <tr>\n",
       "      <th>4</th>\n",
       "      <td>32-37</td>\n",
       "      <td>9</td>\n",
       "      <td>31.5</td>\n",
       "      <td>37.5</td>\n",
       "      <td>34.5</td>\n",
       "      <td>36</td>\n",
       "    </tr>\n",
       "  </tbody>\n",
       "</table>\n",
       "</div>"
      ],
      "text/plain": [
       "   Clase   f     L     U    Xi  fa\n",
       "0   8-13   2   7.5  13.5  10.5   2\n",
       "1  14-19   7  13.5  19.5  16.5   9\n",
       "2  20-25  13  19.5  25.5  22.5  22\n",
       "3  26-31   5  25.5  31.5  28.5  27\n",
       "4  32-37   9  31.5  37.5  34.5  36"
      ]
     },
     "execution_count": 19,
     "metadata": {},
     "output_type": "execute_result"
    }
   ],
   "source": [
    "data = [['8-13',2],\n",
    "        ['14-19',7],\n",
    "        ['20-25',13],\n",
    "        ['26-31',5],\n",
    "        ['32-37',9]\n",
    "       ]\n",
    "df3 = pd.DataFrame(data, columns = ['Clase', 'f'])\n",
    "\n",
    "df3[['L','U']]=df3['Clase'].str.split('-',expand=True)\n",
    "df3['Xi']=(df3['U'].astype(float)+df3['L'].astype(float))/2\n",
    "df3['U'] = df3['U'].astype(float) + 0.5\n",
    "df3['L'] = df3['L'].astype(float) - 0.5\n",
    "\n",
    "fa = []\n",
    "mySum = 0\n",
    "for i in df3['f']:\n",
    "    mySum += i\n",
    "    fa.append(mySum)\n",
    "\n",
    "df3['fa'] = pd.Series(fa)\n",
    "\n",
    "df3"
   ]
  },
  {
   "cell_type": "markdown",
   "id": "smart-share",
   "metadata": {},
   "source": [
    "Definamos la función para calcular percentiles:"
   ]
  },
  {
   "cell_type": "code",
   "execution_count": 20,
   "id": "imposed-raising",
   "metadata": {},
   "outputs": [],
   "source": [
    "def calculateQuantile(x,df):\n",
    "    position = x * df['fa'].iloc[-1]\n",
    "    \n",
    "    for i in range(len(df.index) - 1):\n",
    "        #print(df['fa'].iloc[i]+1,position, df['fa'].iloc[i+1])\n",
    "        if df['fa'].iloc[i]+1 <= position < df['fa'].iloc[i+1]:\n",
    "            indexposition = i + 1\n",
    "            break\n",
    "    l = df['L'].iloc[indexposition]\n",
    "    if indexposition == 0:\n",
    "        g = x * df['fa'].iloc[-1]\n",
    "    else:\n",
    "        g = x* df['fa'].iloc[-1] - df['fa'].iloc[indexposition - 1]\n",
    "    f = df['f'].iloc[indexposition]\n",
    "    aux = df['Clase'].iloc[indexposition].split('-')\n",
    "    w = abs(float(aux[0]) - float(aux[1])) + 1\n",
    "    \n",
    "    return l + (g/f)*w\n",
    "    \n",
    "#calculateQuantile(0.5,df3)     "
   ]
  },
  {
   "cell_type": "markdown",
   "id": "absolute-target",
   "metadata": {},
   "source": [
    "(a) Encuentre la edad media aproximada:"
   ]
  },
  {
   "cell_type": "code",
   "execution_count": 21,
   "id": "parental-russell",
   "metadata": {},
   "outputs": [
    {
     "data": {
      "text/plain": [
       "edad    24.5\n",
       "dtype: float64"
      ]
     },
     "execution_count": 21,
     "metadata": {},
     "output_type": "execute_result"
    }
   ],
   "source": [
    "df2.mean()"
   ]
  },
  {
   "cell_type": "markdown",
   "id": "sustainable-investigator",
   "metadata": {},
   "source": [
    "**R:** La edad media aproximada es de $\\bar{x}_a = 24.5$ años."
   ]
  },
  {
   "cell_type": "markdown",
   "id": "wound-marketplace",
   "metadata": {},
   "source": [
    "(b) Encuentre la mediana de las edades."
   ]
  },
  {
   "cell_type": "markdown",
   "id": "bulgarian-conviction",
   "metadata": {},
   "source": [
    "* Primera opción: usar la columna de las marcas para encontrar una mediana aproximada."
   ]
  },
  {
   "cell_type": "code",
   "execution_count": 22,
   "id": "alleged-tampa",
   "metadata": {},
   "outputs": [
    {
     "data": {
      "text/plain": [
       "edad    22.5\n",
       "dtype: float64"
      ]
     },
     "execution_count": 22,
     "metadata": {},
     "output_type": "execute_result"
    }
   ],
   "source": [
    "df2.median()"
   ]
  },
  {
   "cell_type": "markdown",
   "id": "durable-charger",
   "metadata": {},
   "source": [
    "* Segunda opción: calcular la mediana con\n",
    "\n",
    "$$P_{50} = l + \\frac{g}{f}\\times \\omega$$\n"
   ]
  },
  {
   "cell_type": "code",
   "execution_count": 23,
   "id": "geographic-invalid",
   "metadata": {},
   "outputs": [
    {
     "data": {
      "text/plain": [
       "23.653846153846153"
      ]
     },
     "execution_count": 23,
     "metadata": {},
     "output_type": "execute_result"
    }
   ],
   "source": [
    "calculateQuantile(0.5,df3)"
   ]
  },
  {
   "cell_type": "markdown",
   "id": "lovely-transition",
   "metadata": {},
   "source": [
    "**R:** Si nos basamos en la primera opción la mediana aproximada sería $\\tilde{x}_a=22.5$. Con la segunda opción la mediana aproximada sería $\\tilde{x}_a \\approx 23.65384$."
   ]
  },
  {
   "cell_type": "markdown",
   "id": "unusual-event",
   "metadata": {},
   "source": [
    "(c) Encuentre $P_{65}$.\n",
    "\n",
    "* Primera opción: usar la columna de marcas para encontrar el $P_{65}$ aproximado"
   ]
  },
  {
   "cell_type": "code",
   "execution_count": 24,
   "id": "opposed-michael",
   "metadata": {},
   "outputs": [
    {
     "data": {
      "text/plain": [
       "edad    28.5\n",
       "Name: 0.65, dtype: float64"
      ]
     },
     "execution_count": 24,
     "metadata": {},
     "output_type": "execute_result"
    }
   ],
   "source": [
    "df2.quantile(0.65)"
   ]
  },
  {
   "cell_type": "markdown",
   "id": "involved-watershed",
   "metadata": {},
   "source": [
    "* Segunda opción: calcular $P_{65}$ aproximado con\n",
    "\n",
    "$$P_{65} = l + \\frac{g}{f}\\times \\omega$$\n"
   ]
  },
  {
   "cell_type": "code",
   "execution_count": 25,
   "id": "delayed-child",
   "metadata": {},
   "outputs": [
    {
     "data": {
      "text/plain": [
       "27.180000000000003"
      ]
     },
     "execution_count": 25,
     "metadata": {},
     "output_type": "execute_result"
    }
   ],
   "source": [
    "calculateQuantile(0.65,df3)"
   ]
  },
  {
   "cell_type": "markdown",
   "id": "fixed-hearts",
   "metadata": {},
   "source": [
    "**R:** Si nos basamos en la primera opción $P_{65} = 28.5$. Con la segunda opción $ P_{65} = 27.18$"
   ]
  },
  {
   "cell_type": "markdown",
   "id": "covered-transportation",
   "metadata": {},
   "source": [
    "(d) Localice $D_3$\n",
    "\n",
    "* Primera opción: usar la columna de marcas para encontrar el $D_3$ aproximado"
   ]
  },
  {
   "cell_type": "code",
   "execution_count": 26,
   "id": "complete-middle",
   "metadata": {},
   "outputs": [
    {
     "data": {
      "text/plain": [
       "edad    22.5\n",
       "Name: 0.3, dtype: float64"
      ]
     },
     "execution_count": 26,
     "metadata": {},
     "output_type": "execute_result"
    }
   ],
   "source": [
    "df2.quantile(0.30)"
   ]
  },
  {
   "cell_type": "markdown",
   "id": "parliamentary-cisco",
   "metadata": {},
   "source": [
    "* Segunda opción: calcular $D_3$ con\n",
    "\n",
    "$$P_{30} = l + \\frac{g}{f}\\times \\omega$$\n"
   ]
  },
  {
   "cell_type": "code",
   "execution_count": 27,
   "id": "human-choir",
   "metadata": {},
   "outputs": [
    {
     "data": {
      "text/plain": [
       "20.33076923076923"
      ]
     },
     "execution_count": 27,
     "metadata": {},
     "output_type": "execute_result"
    }
   ],
   "source": [
    "calculateQuantile(0.3,df3)"
   ]
  },
  {
   "cell_type": "markdown",
   "id": "current-broad",
   "metadata": {},
   "source": [
    "**R:** Si nos basamos en la primera opción $D_{3} = 22.5$. Con la segunda opción $D_3 \\approx 20.3307$."
   ]
  },
  {
   "cell_type": "markdown",
   "id": "spiritual-stress",
   "metadata": {},
   "source": [
    "(e) Determine el sesgo de la frecuencia."
   ]
  },
  {
   "cell_type": "markdown",
   "id": "deluxe-athens",
   "metadata": {},
   "source": [
    "* Primera opción: obtener el sesgo con la columna de marcas y la función que definimos en el ejercicio 1(d)."
   ]
  },
  {
   "cell_type": "code",
   "execution_count": 28,
   "id": "vietnamese-hierarchy",
   "metadata": {},
   "outputs": [
    {
     "data": {
      "text/plain": [
       "'Sesgo positivo'"
      ]
     },
     "execution_count": 28,
     "metadata": {},
     "output_type": "execute_result"
    }
   ],
   "source": [
    "sesgo(df2['edad'])"
   ]
  },
  {
   "cell_type": "markdown",
   "id": "common-naples",
   "metadata": {},
   "source": [
    "* Segunda opción obtener el sesgo comparando la media que obtuvimos y la mediana obtenida a partir de la fórmula:\n",
    "\n",
    "$$P_{x} = l + \\frac{g}{f}\\times \\omega$$\n"
   ]
  },
  {
   "cell_type": "code",
   "execution_count": 29,
   "id": "unable-savings",
   "metadata": {},
   "outputs": [
    {
     "name": "stdout",
     "output_type": "stream",
     "text": [
      "Sesgo positivo\n"
     ]
    }
   ],
   "source": [
    "if df2['edad'].mean() < calculateQuantile(0.5,df3):\n",
    "    print( \"Sesgo negativo\" )\n",
    "if df2['edad'].mean() > calculateQuantile(0.5,df3):\n",
    "    print( \"Sesgo positivo\" )\n",
    "if df2['edad'].mean() == calculateQuantile(0.5,df3):\n",
    "    print( \"Sesgo simétrico\" )"
   ]
  },
  {
   "cell_type": "markdown",
   "id": "convenient-humanity",
   "metadata": {},
   "source": [
    "**R:** Usando las dos opciones que teníamos para calcular el sesgo, ambas coinciden en que éste es positivo."
   ]
  },
  {
   "cell_type": "markdown",
   "id": "necessary-statistics",
   "metadata": {},
   "source": [
    "(f) Ubique la varianza aproximada."
   ]
  },
  {
   "cell_type": "code",
   "execution_count": 30,
   "id": "wrong-chosen",
   "metadata": {},
   "outputs": [
    {
     "data": {
      "text/plain": [
       "edad    53.485714\n",
       "dtype: float64"
      ]
     },
     "execution_count": 30,
     "metadata": {},
     "output_type": "execute_result"
    }
   ],
   "source": [
    "df2.var()"
   ]
  },
  {
   "cell_type": "markdown",
   "id": "acute-prague",
   "metadata": {},
   "source": [
    "**R:** La varianza aproximada es de $s^2_a \\approx 53.485714$."
   ]
  },
  {
   "cell_type": "markdown",
   "id": "defensive-share",
   "metadata": {},
   "source": [
    "(g) Estime la desviación estándar."
   ]
  },
  {
   "cell_type": "code",
   "execution_count": 31,
   "id": "political-avenue",
   "metadata": {},
   "outputs": [
    {
     "data": {
      "text/plain": [
       "edad    7.313393\n",
       "dtype: float64"
      ]
     },
     "execution_count": 31,
     "metadata": {},
     "output_type": "execute_result"
    }
   ],
   "source": [
    "df2.std()"
   ]
  },
  {
   "cell_type": "markdown",
   "id": "romantic-bibliography",
   "metadata": {},
   "source": [
    "**R:** La desviación estándar aproximada es de $s_a \\approx 7.313393$."
   ]
  },
  {
   "cell_type": "markdown",
   "id": "partial-butler",
   "metadata": {},
   "source": [
    "(h) ¿Cuál es el percentil correspondiente a una edad de 18 años? Este porcentaje se denomina usualmente el rango percentil 18.\n",
    "\n",
    "* Primera opción: calcularlo viendo cuántos elementos tienen menos de 18 años en nuestra columna de marcas y obtener su porcentaje.\n",
    "* Segunda opción: obtener el valor de $x$ a partir de la siguiente fórmula\n",
    "$$P_x = l + \\frac{g}{f}\\times\\omega$$\n",
    "\n",
    "\n",
    "$$\\iff x = (P_x-l + \\frac{f_{ans}}{f}\\times\\omega)\\left(\\frac{f100}{f_T\\omega}\\right),\\text{ donde } f_T \\text{es la frecuencia acumulada total y } f_{ans} \\text{es la frecuencia acumulada de la clase anterior}$$\n",
    "\n",
    "Que definiendo como función tenemos:"
   ]
  },
  {
   "cell_type": "code",
   "execution_count": 32,
   "id": "mineral-promise",
   "metadata": {},
   "outputs": [],
   "source": [
    "def quantileRange(px,df):\n",
    "    \n",
    "    for i in range(len(df.index) - 1):\n",
    "        #print(df['L'].iloc[i]+1,px, df['U'].iloc[i+1])\n",
    "        if df['L'].iloc[i]+1 <= px < df['U'].iloc[i+1]:\n",
    "            indexposition = i + 1\n",
    "            break\n",
    "    l = df['L'].iloc[indexposition]\n",
    "    #print(l)\n",
    "    f = df['f'].iloc[indexposition]\n",
    "    ft = df['fa'].iloc[-1]\n",
    "    \n",
    "    if indexposition == 0:\n",
    "        fans = 0\n",
    "    else:\n",
    "        fans = df['fa'].iloc[indexposition - 1]\n",
    "    \n",
    "    aux = df['Clase'].iloc[indexposition].split('-')\n",
    "    w = abs(float(aux[0]) - float(aux[1])) + 1\n",
    "    \n",
    "    return (px - l + ((fans)/f)*w)*((f*100)/(ft*w))"
   ]
  },
  {
   "cell_type": "markdown",
   "id": "studied-validation",
   "metadata": {},
   "source": [
    "* Primera opción:"
   ]
  },
  {
   "cell_type": "code",
   "execution_count": 33,
   "id": "incorrect-adaptation",
   "metadata": {},
   "outputs": [
    {
     "name": "stdout",
     "output_type": "stream",
     "text": [
      "Rango percentil de 18 (primera opción): 25.0\n"
     ]
    }
   ],
   "source": [
    "aux = df2[df2['edad'] < 18]\n",
    "print(\"Rango percentil de 18 (primera opción):\", 100*len(aux.index)/len(df2.index))"
   ]
  },
  {
   "cell_type": "markdown",
   "id": "robust-shade",
   "metadata": {},
   "source": [
    "* Segunda opción:"
   ]
  },
  {
   "cell_type": "code",
   "execution_count": 34,
   "id": "suffering-orbit",
   "metadata": {},
   "outputs": [
    {
     "name": "stdout",
     "output_type": "stream",
     "text": [
      "Rango percentil de 18 (segunda opción) 20.13888888888889\n"
     ]
    }
   ],
   "source": [
    "print(\"Rango percentil de 18 (segunda opción)\",quantileRange(18,df3))"
   ]
  },
  {
   "cell_type": "markdown",
   "id": "signed-niger",
   "metadata": {},
   "source": [
    "**R:** con la primera opción (usando la columna de marcas) obtuvimos que el percentil correspondiente a la edad de 18 es de 25. Por otra parte, con la segunda opción (usando la fórmula de percentiles para frecuencias acumuladas en intervalos) tuvimos que el percentil correspondiente a la edad de 18 años es de aproximadamente 20.139."
   ]
  },
  {
   "cell_type": "markdown",
   "id": "elect-spouse",
   "metadata": {},
   "source": [
    "5. El conjunto de datos siguiente representa las calificaciones del examen final para un grupo de 30 estudiantes de filosofía.\n",
    "\n",
    "$$98, 94, 94, 57, 58, 88, 97, 94, 96, 85$$\n",
    "\n",
    "$$85, 97, 92, 90, 87, 80, 97, 93, 87, 69$$\n",
    "\n",
    "$$25, 100, 97, 83, 74, 64, 79, 89, 98, 100$$"
   ]
  },
  {
   "cell_type": "markdown",
   "id": "brutal-decimal",
   "metadata": {},
   "source": [
    "Encuentre el porcentaje de calificaciones que distan menos de 2.1 desviaciones estándar de la media; use entonces el teorema de Chebyshev para $k = 1.5$. ¿Los resultados son consistentes con el teorema?"
   ]
  },
  {
   "cell_type": "markdown",
   "id": "equipped-prairie",
   "metadata": {},
   "source": [
    "Primero hacemos un dataframe con una columna de las calificaciones."
   ]
  },
  {
   "cell_type": "code",
   "execution_count": 35,
   "id": "confident-ukraine",
   "metadata": {},
   "outputs": [
    {
     "data": {
      "text/html": [
       "<div>\n",
       "<style scoped>\n",
       "    .dataframe tbody tr th:only-of-type {\n",
       "        vertical-align: middle;\n",
       "    }\n",
       "\n",
       "    .dataframe tbody tr th {\n",
       "        vertical-align: top;\n",
       "    }\n",
       "\n",
       "    .dataframe thead th {\n",
       "        text-align: right;\n",
       "    }\n",
       "</style>\n",
       "<table border=\"1\" class=\"dataframe\">\n",
       "  <thead>\n",
       "    <tr style=\"text-align: right;\">\n",
       "      <th></th>\n",
       "      <th>Calificaciones</th>\n",
       "    </tr>\n",
       "  </thead>\n",
       "  <tbody>\n",
       "    <tr>\n",
       "      <th>0</th>\n",
       "      <td>98</td>\n",
       "    </tr>\n",
       "    <tr>\n",
       "      <th>1</th>\n",
       "      <td>94</td>\n",
       "    </tr>\n",
       "    <tr>\n",
       "      <th>2</th>\n",
       "      <td>94</td>\n",
       "    </tr>\n",
       "    <tr>\n",
       "      <th>3</th>\n",
       "      <td>57</td>\n",
       "    </tr>\n",
       "    <tr>\n",
       "      <th>4</th>\n",
       "      <td>58</td>\n",
       "    </tr>\n",
       "    <tr>\n",
       "      <th>5</th>\n",
       "      <td>88</td>\n",
       "    </tr>\n",
       "    <tr>\n",
       "      <th>6</th>\n",
       "      <td>97</td>\n",
       "    </tr>\n",
       "    <tr>\n",
       "      <th>7</th>\n",
       "      <td>94</td>\n",
       "    </tr>\n",
       "    <tr>\n",
       "      <th>8</th>\n",
       "      <td>96</td>\n",
       "    </tr>\n",
       "    <tr>\n",
       "      <th>9</th>\n",
       "      <td>85</td>\n",
       "    </tr>\n",
       "    <tr>\n",
       "      <th>10</th>\n",
       "      <td>85</td>\n",
       "    </tr>\n",
       "    <tr>\n",
       "      <th>11</th>\n",
       "      <td>97</td>\n",
       "    </tr>\n",
       "    <tr>\n",
       "      <th>12</th>\n",
       "      <td>92</td>\n",
       "    </tr>\n",
       "    <tr>\n",
       "      <th>13</th>\n",
       "      <td>90</td>\n",
       "    </tr>\n",
       "    <tr>\n",
       "      <th>14</th>\n",
       "      <td>87</td>\n",
       "    </tr>\n",
       "    <tr>\n",
       "      <th>15</th>\n",
       "      <td>80</td>\n",
       "    </tr>\n",
       "    <tr>\n",
       "      <th>16</th>\n",
       "      <td>97</td>\n",
       "    </tr>\n",
       "    <tr>\n",
       "      <th>17</th>\n",
       "      <td>93</td>\n",
       "    </tr>\n",
       "    <tr>\n",
       "      <th>18</th>\n",
       "      <td>87</td>\n",
       "    </tr>\n",
       "    <tr>\n",
       "      <th>19</th>\n",
       "      <td>69</td>\n",
       "    </tr>\n",
       "    <tr>\n",
       "      <th>20</th>\n",
       "      <td>25</td>\n",
       "    </tr>\n",
       "    <tr>\n",
       "      <th>21</th>\n",
       "      <td>100</td>\n",
       "    </tr>\n",
       "    <tr>\n",
       "      <th>22</th>\n",
       "      <td>97</td>\n",
       "    </tr>\n",
       "    <tr>\n",
       "      <th>23</th>\n",
       "      <td>83</td>\n",
       "    </tr>\n",
       "    <tr>\n",
       "      <th>24</th>\n",
       "      <td>74</td>\n",
       "    </tr>\n",
       "    <tr>\n",
       "      <th>25</th>\n",
       "      <td>64</td>\n",
       "    </tr>\n",
       "    <tr>\n",
       "      <th>26</th>\n",
       "      <td>79</td>\n",
       "    </tr>\n",
       "    <tr>\n",
       "      <th>27</th>\n",
       "      <td>89</td>\n",
       "    </tr>\n",
       "    <tr>\n",
       "      <th>28</th>\n",
       "      <td>98</td>\n",
       "    </tr>\n",
       "    <tr>\n",
       "      <th>29</th>\n",
       "      <td>100</td>\n",
       "    </tr>\n",
       "  </tbody>\n",
       "</table>\n",
       "</div>"
      ],
      "text/plain": [
       "    Calificaciones\n",
       "0               98\n",
       "1               94\n",
       "2               94\n",
       "3               57\n",
       "4               58\n",
       "5               88\n",
       "6               97\n",
       "7               94\n",
       "8               96\n",
       "9               85\n",
       "10              85\n",
       "11              97\n",
       "12              92\n",
       "13              90\n",
       "14              87\n",
       "15              80\n",
       "16              97\n",
       "17              93\n",
       "18              87\n",
       "19              69\n",
       "20              25\n",
       "21             100\n",
       "22              97\n",
       "23              83\n",
       "24              74\n",
       "25              64\n",
       "26              79\n",
       "27              89\n",
       "28              98\n",
       "29             100"
      ]
     },
     "execution_count": 35,
     "metadata": {},
     "output_type": "execute_result"
    }
   ],
   "source": [
    "data = [98, 94, 94, 57, 58, 88, 97, 94, 96, 85, 85, 97, 92, 90, 87, 80, 97, 93, 87, 69, 25, 100, 97, 83, 74, 64, 79, 89, 98, 100]\n",
    "df = pd.DataFrame(data,columns = ['Calificaciones'])\n",
    "df"
   ]
  },
  {
   "cell_type": "markdown",
   "id": "changed-feedback",
   "metadata": {},
   "source": [
    "Definimos una función que devuelva el porcentaje de elementos mínimo que debe estar a no más de $k$ desviaciones estándar basada en el teorema de Chevichev."
   ]
  },
  {
   "cell_type": "code",
   "execution_count": 36,
   "id": "statistical-robin",
   "metadata": {},
   "outputs": [],
   "source": [
    "def chevichev(k):\n",
    "    return 100*(1- 1/(k**2))"
   ]
  },
  {
   "cell_type": "markdown",
   "id": "utility-carry",
   "metadata": {},
   "source": [
    "Nos enfocamos en resolver la primer parte del problema. Contemos el número de elementos que se desvían más de 2.1 desviaciones estándar de la media y lo comparamos con el teorema de Chevichev de la siguiente manera:"
   ]
  },
  {
   "cell_type": "code",
   "execution_count": 37,
   "id": "worthy-chosen",
   "metadata": {},
   "outputs": [
    {
     "name": "stdout",
     "output_type": "stream",
     "text": [
      "Total de elementos que se desvían más de 2.1 desviaciones estándar de la media: 1\n",
      "Porcentaje de elementos no desviados más de 2.1 desviaciones estándar de la media: 96.66666666666667 %\n",
      "Porcentaje de elementos no desviados mínimo acorde a Chevichev, k = 2.1: 77.32426303854876 %\n"
     ]
    }
   ],
   "source": [
    "totalElements = 0\n",
    "lower = df['Calificaciones'].mean() - 2.1*df['Calificaciones'].std()\n",
    "upper = df['Calificaciones'].mean() + 2.1*df['Calificaciones'].std()\n",
    "\n",
    "for i in df['Calificaciones']:\n",
    "    if lower <= i <= upper:\n",
    "        pass\n",
    "    else:\n",
    "        totalElements += 1\n",
    "        \n",
    "        \n",
    "print(\"Total de elementos que se desvían más de 2.1 desviaciones estándar de la media:\", totalElements)\n",
    "print(\"Porcentaje de elementos no desviados más de 2.1 desviaciones estándar de la media:\",100*(len(df.index)-totalElements)/len(df.index),'%')\n",
    "print(\"Porcentaje de elementos no desviados mínimo acorde a Chevichev, k = 2.1:\",chevichev(2.1),'%')"
   ]
  },
  {
   "cell_type": "markdown",
   "id": "fantastic-illustration",
   "metadata": {},
   "source": [
    "Podemos ver que el número de elementos no desviados a más de 2.1 desviaciones estándar son el 96.666 %, lo cual es consistente con el teorema de Chevichev. Esto porque el teorema de Chevichev nos indica que por lo menos el 77.324% de los elementos que no se deberían desviar a 2.1 desviaciones estándar de la media; y nosotros tenemos el 96.666% de elementos que satisfacen eso, por lo que se cumple el teorema."
   ]
  },
  {
   "cell_type": "markdown",
   "id": "leading-gentleman",
   "metadata": {},
   "source": [
    "Para la segunda parte del problema contamos el número de elementos que se desvían más de 1.5 desviaciones estándar de la media y lo comparamos con el teorema de Chevichev."
   ]
  },
  {
   "cell_type": "code",
   "execution_count": 38,
   "id": "french-indiana",
   "metadata": {},
   "outputs": [
    {
     "name": "stdout",
     "output_type": "stream",
     "text": [
      "Total de elementos que se desvían más de 1.5 desviaciones estándar de la media: 3\n",
      "Porcentaje de elementos no desviados más de 1.5 desviaciones estándar de la media: 90.0 %\n",
      "Porcentaje de elementos no desviados mínimo acorde a Chevichev, k = 1.5: 55.55555555555556 %\n"
     ]
    }
   ],
   "source": [
    "totalElements = 0\n",
    "lower = df['Calificaciones'].mean() - 1.5*df['Calificaciones'].std()\n",
    "upper = df['Calificaciones'].mean() + 1.5*df['Calificaciones'].std()\n",
    "\n",
    "for i in df['Calificaciones']:\n",
    "    if lower <= i <= upper:\n",
    "        pass\n",
    "    else:\n",
    "        totalElements += 1\n",
    "        \n",
    "        \n",
    "print(\"Total de elementos que se desvían más de 1.5 desviaciones estándar de la media:\", totalElements)\n",
    "print(\"Porcentaje de elementos no desviados más de 1.5 desviaciones estándar de la media:\",100*(len(df.index)-totalElements)/len(df.index),'%')\n",
    "print(\"Porcentaje de elementos no desviados mínimo acorde a Chevichev, k = 1.5:\",chevichev(1.5),'%')"
   ]
  },
  {
   "cell_type": "markdown",
   "id": "metropolitan-romantic",
   "metadata": {},
   "source": [
    "Al comparar el porcentaje mínimo de elementos que no se deberían desviar a más de 1.5 desviaciones estándar de la media según el teorema de Chevichev (55.55%) y el valor que encontramos en los datos (90 %), concluimos que sí se cumple el teorema.\n",
    "\n",
    "**R:** Concluimos que ambas secciones del problema (datos a no más de 2.1 y 1.5 desviaciones estándar de la media) son consistentes con el teorema de Chevichev para estos datos."
   ]
  },
  {
   "cell_type": "markdown",
   "id": "spoken-dairy",
   "metadata": {},
   "source": [
    "6. Los datos en el diagrama de tallo y hojas de abajo indican las calificaciones logradas en un examen de Estadística.\n",
    "\n",
    "\n",
    "|         |                       |\n",
    "|:-------:|:--------              |\n",
    "|   2     | 7                     |\n",
    "|   3     | 0                     |\n",
    "|   4     | 8 8                   |\n",
    "|   5     | 5 5 7 9               |\n",
    "|   6     | 0 0 3 5 5 6 7 9       |\n",
    "|   7     | 1 1 4 6 7 8 8 8 9 9 9 |\n",
    "|   8     | 2 3 3 5 5 7 9 9       |\n",
    "|   9     | 0 4 4 7 9             |\n"
   ]
  },
  {
   "cell_type": "markdown",
   "id": "anticipated-dominican",
   "metadata": {},
   "source": [
    "Pasamos nuestro diagrama de tallo y hojas a una columna de un dataframe de pandas."
   ]
  },
  {
   "cell_type": "code",
   "execution_count": 39,
   "id": "charitable-sherman",
   "metadata": {},
   "outputs": [
    {
     "data": {
      "text/html": [
       "<div>\n",
       "<style scoped>\n",
       "    .dataframe tbody tr th:only-of-type {\n",
       "        vertical-align: middle;\n",
       "    }\n",
       "\n",
       "    .dataframe tbody tr th {\n",
       "        vertical-align: top;\n",
       "    }\n",
       "\n",
       "    .dataframe thead th {\n",
       "        text-align: right;\n",
       "    }\n",
       "</style>\n",
       "<table border=\"1\" class=\"dataframe\">\n",
       "  <thead>\n",
       "    <tr style=\"text-align: right;\">\n",
       "      <th></th>\n",
       "      <th>Calificaciones</th>\n",
       "    </tr>\n",
       "  </thead>\n",
       "  <tbody>\n",
       "    <tr>\n",
       "      <th>0</th>\n",
       "      <td>27</td>\n",
       "    </tr>\n",
       "    <tr>\n",
       "      <th>1</th>\n",
       "      <td>30</td>\n",
       "    </tr>\n",
       "    <tr>\n",
       "      <th>2</th>\n",
       "      <td>48</td>\n",
       "    </tr>\n",
       "    <tr>\n",
       "      <th>3</th>\n",
       "      <td>48</td>\n",
       "    </tr>\n",
       "    <tr>\n",
       "      <th>4</th>\n",
       "      <td>55</td>\n",
       "    </tr>\n",
       "    <tr>\n",
       "      <th>5</th>\n",
       "      <td>55</td>\n",
       "    </tr>\n",
       "    <tr>\n",
       "      <th>6</th>\n",
       "      <td>57</td>\n",
       "    </tr>\n",
       "    <tr>\n",
       "      <th>7</th>\n",
       "      <td>59</td>\n",
       "    </tr>\n",
       "    <tr>\n",
       "      <th>8</th>\n",
       "      <td>60</td>\n",
       "    </tr>\n",
       "    <tr>\n",
       "      <th>9</th>\n",
       "      <td>60</td>\n",
       "    </tr>\n",
       "    <tr>\n",
       "      <th>10</th>\n",
       "      <td>63</td>\n",
       "    </tr>\n",
       "    <tr>\n",
       "      <th>11</th>\n",
       "      <td>65</td>\n",
       "    </tr>\n",
       "    <tr>\n",
       "      <th>12</th>\n",
       "      <td>65</td>\n",
       "    </tr>\n",
       "    <tr>\n",
       "      <th>13</th>\n",
       "      <td>66</td>\n",
       "    </tr>\n",
       "    <tr>\n",
       "      <th>14</th>\n",
       "      <td>67</td>\n",
       "    </tr>\n",
       "    <tr>\n",
       "      <th>15</th>\n",
       "      <td>69</td>\n",
       "    </tr>\n",
       "    <tr>\n",
       "      <th>16</th>\n",
       "      <td>71</td>\n",
       "    </tr>\n",
       "    <tr>\n",
       "      <th>17</th>\n",
       "      <td>71</td>\n",
       "    </tr>\n",
       "    <tr>\n",
       "      <th>18</th>\n",
       "      <td>74</td>\n",
       "    </tr>\n",
       "    <tr>\n",
       "      <th>19</th>\n",
       "      <td>76</td>\n",
       "    </tr>\n",
       "    <tr>\n",
       "      <th>20</th>\n",
       "      <td>77</td>\n",
       "    </tr>\n",
       "    <tr>\n",
       "      <th>21</th>\n",
       "      <td>78</td>\n",
       "    </tr>\n",
       "    <tr>\n",
       "      <th>22</th>\n",
       "      <td>78</td>\n",
       "    </tr>\n",
       "    <tr>\n",
       "      <th>23</th>\n",
       "      <td>78</td>\n",
       "    </tr>\n",
       "    <tr>\n",
       "      <th>24</th>\n",
       "      <td>79</td>\n",
       "    </tr>\n",
       "    <tr>\n",
       "      <th>25</th>\n",
       "      <td>79</td>\n",
       "    </tr>\n",
       "    <tr>\n",
       "      <th>26</th>\n",
       "      <td>79</td>\n",
       "    </tr>\n",
       "    <tr>\n",
       "      <th>27</th>\n",
       "      <td>82</td>\n",
       "    </tr>\n",
       "    <tr>\n",
       "      <th>28</th>\n",
       "      <td>83</td>\n",
       "    </tr>\n",
       "    <tr>\n",
       "      <th>29</th>\n",
       "      <td>83</td>\n",
       "    </tr>\n",
       "    <tr>\n",
       "      <th>30</th>\n",
       "      <td>85</td>\n",
       "    </tr>\n",
       "    <tr>\n",
       "      <th>31</th>\n",
       "      <td>85</td>\n",
       "    </tr>\n",
       "    <tr>\n",
       "      <th>32</th>\n",
       "      <td>87</td>\n",
       "    </tr>\n",
       "    <tr>\n",
       "      <th>33</th>\n",
       "      <td>89</td>\n",
       "    </tr>\n",
       "    <tr>\n",
       "      <th>34</th>\n",
       "      <td>89</td>\n",
       "    </tr>\n",
       "    <tr>\n",
       "      <th>35</th>\n",
       "      <td>90</td>\n",
       "    </tr>\n",
       "    <tr>\n",
       "      <th>36</th>\n",
       "      <td>94</td>\n",
       "    </tr>\n",
       "    <tr>\n",
       "      <th>37</th>\n",
       "      <td>94</td>\n",
       "    </tr>\n",
       "    <tr>\n",
       "      <th>38</th>\n",
       "      <td>97</td>\n",
       "    </tr>\n",
       "    <tr>\n",
       "      <th>39</th>\n",
       "      <td>99</td>\n",
       "    </tr>\n",
       "  </tbody>\n",
       "</table>\n",
       "</div>"
      ],
      "text/plain": [
       "    Calificaciones\n",
       "0               27\n",
       "1               30\n",
       "2               48\n",
       "3               48\n",
       "4               55\n",
       "5               55\n",
       "6               57\n",
       "7               59\n",
       "8               60\n",
       "9               60\n",
       "10              63\n",
       "11              65\n",
       "12              65\n",
       "13              66\n",
       "14              67\n",
       "15              69\n",
       "16              71\n",
       "17              71\n",
       "18              74\n",
       "19              76\n",
       "20              77\n",
       "21              78\n",
       "22              78\n",
       "23              78\n",
       "24              79\n",
       "25              79\n",
       "26              79\n",
       "27              82\n",
       "28              83\n",
       "29              83\n",
       "30              85\n",
       "31              85\n",
       "32              87\n",
       "33              89\n",
       "34              89\n",
       "35              90\n",
       "36              94\n",
       "37              94\n",
       "38              97\n",
       "39              99"
      ]
     },
     "execution_count": 39,
     "metadata": {},
     "output_type": "execute_result"
    }
   ],
   "source": [
    "data = [ 27,\n",
    "         30,\n",
    "         48,48,\n",
    "         55,55,57,59,\n",
    "         60,60,63,65,65,66,67,69,\n",
    "         71,71,74,76,77,78,78,78,79,79,79,\n",
    "         82,83,83,85,85,87,89,89,\n",
    "         90,94,94,97,99\n",
    "        ]\n",
    "df = pd.DataFrame(data, columns = ['Calificaciones'])\n",
    "df"
   ]
  },
  {
   "cell_type": "markdown",
   "id": "adjacent-strength",
   "metadata": {},
   "source": [
    "(a) Construya una gráfica de caja "
   ]
  },
  {
   "cell_type": "code",
   "execution_count": 40,
   "id": "described-jaguar",
   "metadata": {},
   "outputs": [
    {
     "data": {
      "text/plain": [
       "<AxesSubplot:title={'center':'Gráfica de caja'}>"
      ]
     },
     "execution_count": 40,
     "metadata": {},
     "output_type": "execute_result"
    },
    {
     "data": {
      "image/png": "[encoded data removed]",
      "text/plain": [
       "<Figure size 432x288 with 1 Axes>"
      ]
     },
     "metadata": {
      "needs_background": "light"
     },
     "output_type": "display_data"
    }
   ],
   "source": [
    "plt.title(\"Gráfica de caja\")\n",
    "df.boxplot()"
   ]
  },
  {
   "cell_type": "markdown",
   "id": "existing-overall",
   "metadata": {},
   "source": [
    "(b) Agrega un swarmplot que permite observar los datos "
   ]
  },
  {
   "cell_type": "code",
   "execution_count": 41,
   "id": "conditional-artist",
   "metadata": {},
   "outputs": [
    {
     "data": {
      "image/png": "[encoded data removed]",
      "text/plain": [
       "<Figure size 432x288 with 1 Axes>"
      ]
     },
     "metadata": {
      "needs_background": "light"
     },
     "output_type": "display_data"
    }
   ],
   "source": [
    "plt.title(\"Gráfica de cajas y swarm\")\n",
    "# plot swarmplot\n",
    "ax = sns.swarmplot(y=\"Calificaciones\", data=df, palette = 'inferno')\n",
    "# plot boxplot\n",
    "sns.boxplot(y=\"Calificaciones\", data=df, boxprops={'facecolor':'None'}, ax=ax)\n",
    "\n",
    "plt.show()"
   ]
  },
  {
   "cell_type": "markdown",
   "id": "french-picnic",
   "metadata": {},
   "source": [
    "(c) Construye una gráfica de violín"
   ]
  },
  {
   "cell_type": "code",
   "execution_count": 42,
   "id": "twenty-residence",
   "metadata": {},
   "outputs": [
    {
     "data": {
      "image/png": "[encoded data removed]",
      "text/plain": [
       "<Figure size 432x288 with 1 Axes>"
      ]
     },
     "metadata": {
      "needs_background": "light"
     },
     "output_type": "display_data"
    }
   ],
   "source": [
    "plt.title(\"Gráfica de violín\")\n",
    "# plot swarmplot\n",
    "ax = sns.violinplot(y=\"Calificaciones\", data=df, palette = 'inferno')"
   ]
  },
  {
   "cell_type": "markdown",
   "id": "therapeutic-manchester",
   "metadata": {},
   "source": [
    "(d) ¿Hay observaciones aberrantes? Si sí, escribe cuáles. Haz esto mediante la implementación de una función *getOutliers*, que reciba de entrada una serie y devuelve los Outliers detectados."
   ]
  },
  {
   "cell_type": "markdown",
   "id": "baking-catalyst",
   "metadata": {},
   "source": [
    "Para la implementación consideraremos las siguientes dos condiciones. Al menos una de ellas se tiene que cumplir para considerar a una observación como aberrante:\n",
    "* El tamaño de la muestra, mayor de 10 y el puntaje $z$ para la medida dista más de tres desviaciones estándar de la media.\n",
    "* La medida cae más de tres IQR debajo del cuartil menor, o más de tres IQR arriba del cuartil superior. \n"
   ]
  },
  {
   "cell_type": "code",
   "execution_count": 43,
   "id": "floral-batman",
   "metadata": {},
   "outputs": [
    {
     "data": {
      "text/plain": [
       "[]"
      ]
     },
     "execution_count": 43,
     "metadata": {},
     "output_type": "execute_result"
    }
   ],
   "source": [
    "def getOutliers(series):\n",
    "    aSeries = series.copy()\n",
    "    outliers = []\n",
    "    aux = []\n",
    "    #3 desviaciones estándar\n",
    "    if len(series)> 10:\n",
    "        lower = aSeries.mean() - 3 * aSeries.std()\n",
    "        upper = aSeries.mean() + 3 * aSeries.std()\n",
    "        #print(\"l1\",lower)\n",
    "        #print(\"u1\",upper)\n",
    "        for index, i in series.items():\n",
    "            #print(i)\n",
    "            if lower <= i <= upper:\n",
    "                pass\n",
    "            else:\n",
    "                outliers.append(i)\n",
    "                aux.append(aSeries.pop(index))\n",
    "    #print(outliers)\n",
    "    #IQR\n",
    "    iqr = series.quantile(0.75) - series.quantile(0.25)\n",
    "    lower = series.mean() - 3*iqr\n",
    "    upper = series.mean() + 3*iqr\n",
    "    #print(\"l2\",lower)\n",
    "    #print(\"u2\",upper)\n",
    "    \n",
    "    for i in aSeries:\n",
    "        if lower <= i <= upper:\n",
    "            pass\n",
    "        else:\n",
    "            outliers.append(i)\n",
    "    #print(outliers)\n",
    "    #print(aux)        \n",
    "    #print(series)\n",
    "    \n",
    "    return outliers\n",
    "\n",
    "getOutliers(df['Calificaciones'])\n"
   ]
  },
  {
   "cell_type": "markdown",
   "id": "declared-squad",
   "metadata": {},
   "source": [
    "**R:** A partir de la función de *getOutliers* que definimos podemos notar que no hay datos aberrantes según las dos condiciones que consideramos."
   ]
  }
 ],
 "metadata": {
  "kernelspec": {
   "display_name": "Python 3",
   "language": "python",
   "name": "python3"
  },
  "language_info": {
   "codemirror_mode": {
    "name": "ipython",
    "version": 3
   },
   "file_extension": ".py",
   "mimetype": "text/x-python",
   "name": "python",
   "nbconvert_exporter": "python",
   "pygments_lexer": "ipython3",
   "version": "3.8.8"
  }
 },
 "nbformat": 4,
 "nbformat_minor": 5
}
