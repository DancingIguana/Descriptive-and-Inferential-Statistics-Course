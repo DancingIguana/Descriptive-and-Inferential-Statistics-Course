{
 "cells": [
  {
   "cell_type": "code",
   "execution_count": 107,
   "id": "noble-consensus",
   "metadata": {},
   "outputs": [],
   "source": [
    "import numpy as np\n",
    "import matplotlib.pyplot as plt\n",
    "import seaborn as sns\n",
    "import scipy.stats as st"
   ]
  },
  {
   "cell_type": "markdown",
   "id": "champion-roller",
   "metadata": {},
   "source": [
    "# Teoría de Muestreo y Estimación\n",
    "## Estadística Descriptiva e Inferencial (2021-2)\n",
    "### Laboratorio 6\n",
    "#### Juan Pablo Maldonado Castro"
   ]
  },
  {
   "cell_type": "markdown",
   "id": "convertible-visiting",
   "metadata": {},
   "source": [
    "## Parte práctica\n",
    "\n",
    "1. La administración de un hospital grande está interesada en saber el n ́umero de días que permanecen en el hospital los pacientes de cirugía, sospecha que puede haber una tendencia de los médicos a prolongar la estancia de sus pacientes más de lo necesario desde el punto de vista médico, porque casi todos los enfermos tienen alg ́un tipo de seguro hospitalario. Se escogió una muestra aleatoria de 48 pacientes de cirugía y se registró el número de días de permanencia en el hospital. Los datos se registran a continuación.\n",
    "\n",
    "10 10 4 1 4 10 10 10 8 13 7 10\n",
    "\n",
    "7 3 4 7 10 11 12 15 3 5 8 6\n",
    "\n",
    "6 8 8 8 15 11 12 11 10 9 8 5\n",
    "\n",
    "12 5 6 12 8 9 3 4 12 7 10 7\n",
    "\n",
    "Si se usa $\\alpha = 0.05$, hacer una prueba para determinar si el promedio de estancia en el hostpital para los pacientes de cirugía excede de siete días.\n",
    "\n",
    "a) $H_0$ y $H_1$\n",
    "\n",
    "**R**: El problema plantea hacer la prueba si el promedio de estancia excede de 7 días. Es decir, nuestra hipótesis alternativa, $H_1$, sería $H_1 : \\mu > 7$. Haciendo así que la hipótesis nula $H_0$, sea $H_0 : μ \\leq  7$. En resumen:\n",
    "\n",
    "$$H_0:\\mu\\leq7$$\n",
    "$$H_1:\\mu>7$$\n",
    "\n",
    "b) $\\alpha$ y el tipo de prueba.\n",
    "\n",
    "**R**: El valor de $\\alpha$ que nos pide usar el problema es de $\\alpha = 0.05$. Para el tipo de prueba, como $H_1$ tiene el signo $>$, decimos que es una prueba direccional de cola derecha.\n",
    "\n",
    "c) Distribución muestral \n",
    "\n",
    "**R**: Como el tamaño de nuestra muestra excede 30, podríamos decir que es lo suficientemente grande como para ser considerada normal. Incluso si le graficamos un histograma probablemente veamos una forma similar a la de una campana centrada."
   ]
  },
  {
   "cell_type": "code",
   "execution_count": 108,
   "id": "metric-definition",
   "metadata": {},
   "outputs": [],
   "source": [
    "data = np.array([10, 10, 4, 1, 4, 10, 10, 10, 8, 13, 7, 10, 7, 3, 4, 7, 10, 11, \n",
    "        12, 15, 3, 5, 8, 6, 6, 8, 8, 8, 15, 11, 12, 11, 10, 9, 8, 5, \n",
    "        12, 5, 6, 12, 8, 9, 3, 4, 12, 7, 10, 7])"
   ]
  },
  {
   "cell_type": "code",
   "execution_count": 109,
   "id": "weighted-knitting",
   "metadata": {},
   "outputs": [
    {
     "data": {
      "text/plain": [
       "<AxesSubplot:ylabel='Count'>"
      ]
     },
     "execution_count": 109,
     "metadata": {},
     "output_type": "execute_result"
    },
    {
     "data": {
      "image/png": "[encoded data removed]",
      "text/plain": [
       "<Figure size 432x288 with 1 Axes>"
      ]
     },
     "metadata": {
      "needs_background": "light"
     },
     "output_type": "display_data"
    }
   ],
   "source": [
    "sns.histplot(data)"
   ]
  },
  {
   "cell_type": "markdown",
   "id": "circular-tobago",
   "metadata": {},
   "source": [
    "Como vemos, el tipo de distribución muestral sí es aproximadamente normal."
   ]
  },
  {
   "cell_type": "markdown",
   "id": "quiet-latin",
   "metadata": {},
   "source": [
    "d) Valor del estadístico de prueba.\n",
    "\n",
    "**R**: En este caso vamos a considerar al estadístico de prueba como el puntaje $z$ de la media muestral. Para resolver esto con Python, definamos una función para calcular el puntaje $z$ dado un conjunto de datos y la media esperada. Esto se basa en la siguiente fórmula:\n",
    "\n",
    "$$z = \\frac{\\bar{x} - \\mu_{\\bar{x}}}{\\sigma_{\\bar{x}}}$$"
   ]
  },
  {
   "cell_type": "code",
   "execution_count": 110,
   "id": "familiar-macro",
   "metadata": {},
   "outputs": [],
   "source": [
    "def Z_score(data, mu):\n",
    "    return (np.mean(data) - mu)/(np.std(data)/np.sqrt(len(data)))"
   ]
  },
  {
   "cell_type": "markdown",
   "id": "plastic-legislature",
   "metadata": {},
   "source": [
    "A partir de esta función podemos encontrar el estadístico de prueba, recordemos que el valor de $\\mu_{\\bar{x}}$ en este caso es de 7. Entonces:"
   ]
  },
  {
   "cell_type": "code",
   "execution_count": 111,
   "id": "interpreted-contemporary",
   "metadata": {},
   "outputs": [
    {
     "name": "stdout",
     "output_type": "stream",
     "text": [
      "z = 2.5992596306669844\n"
     ]
    }
   ],
   "source": [
    "z = Z_score(data, 7)\n",
    "print(f\"z = {z}\")"
   ]
  },
  {
   "cell_type": "markdown",
   "id": "allied-delta",
   "metadata": {},
   "source": [
    "Con esto, ya establecemos que nuestro valor estadístico es $z = 2.599259... \\approx 2.6$\n",
    "\n",
    "e) Valor crítico\n",
    "\n",
    "**R**: Nuestro valor crítico será el valor de $z$ cuya área adelante de él sea el 5% del total del área bajo la curva de la distribución normal. Esto es lo mismo que considerar el valor de $z_{1-0.05} = z_{0.95}$. Recordemos que estamos restando $\\alpha$ a 1 porque esamos haciendo una prueba de cola derecha."
   ]
  },
  {
   "cell_type": "code",
   "execution_count": 112,
   "id": "sonic-origin",
   "metadata": {},
   "outputs": [
    {
     "name": "stdout",
     "output_type": "stream",
     "text": [
      "C = z_0.95 = 1.6448536269514722\n"
     ]
    }
   ],
   "source": [
    "C = st.norm.ppf(.95)\n",
    "print(f\"C = z_0.95 = {C}\")"
   ]
  },
  {
   "cell_type": "markdown",
   "id": "unavailable-sunset",
   "metadata": {},
   "source": [
    "Por lo tanto nuestro valor crítico es $C = z_{0.95} = 1.64485... \\approx 1.645$"
   ]
  },
  {
   "cell_type": "markdown",
   "id": "affected-kingston",
   "metadata": {},
   "source": [
    "f) Decisión\n",
    "\n",
    "**R**: Como es una prueba de cola derecha, si $C \\leq z = 2.6$, entonces rechazamos $H_0$. Podemos ver fácilmente cuál es el menor de los dos valores que tenemos con Python de la siguiente manera:"
   ]
  },
  {
   "cell_type": "code",
   "execution_count": 113,
   "id": "built-fancy",
   "metadata": {},
   "outputs": [
    {
     "name": "stdout",
     "output_type": "stream",
     "text": [
      "El valor más pequeño es: C\n",
      "Se cumple que: C < z\n"
     ]
    }
   ],
   "source": [
    "vals = {\"C\": C, \"z\": z}\n",
    "minimum = min(vals, key=vals.get)\n",
    "\n",
    "print(\"El valor más pequeño es:\",min(vals, key=vals.get))\n",
    "print(f\"Se cumple que: {min(vals, key = vals.get)} < {max(vals,key=vals.get)}\")"
   ]
  },
  {
   "cell_type": "markdown",
   "id": "industrial-renaissance",
   "metadata": {},
   "source": [
    "Vemos que $C < z$, por lo tanto el puntaje $z$ de $\\bar{x}$ cae en la región de rechazo de la distribución muestral. Esto implica que rechazamos la hipótesis nula, $H_0 : \\mu \\leq 7$, a favor de aceptar la hipótesis alternativa $H_1$ que es: $H_1 : \\mu < 7$.\n",
    "\n",
    "g) Tipo de error posible y probabilidad asociada, si es un error de tipo I.\n",
    "\n",
    "**R**: Como lo que estamos haciendo es rechazar $H_0$, entonces existe la posibilidad de cometer un error de tipo I (rechazar $H_0$ y que sea cierta). La probabilidad de cometer este error de tipo I es de $\\alpha = 0.05 = 5 \\%$.\n",
    "\n",
    "h) Valor de $p$\n",
    "\n",
    "**R**: Recordemos nuestro puntaje $z$ que ya obtuvimos en incisisos anteriores. Solo basta con calcular el área bajo la curva de la cola derecha de la distribución normal con este valor de $z$. Vamos a restar el resultado a 1, porque el valor que nos devuelve Python es el área total del lado izquierdo, pero nosotros buscamos el área del lado derecho por estar haciendo una prueba de cola derecha. Esto lo hacemos de la siguiente manera"
   ]
  },
  {
   "cell_type": "code",
   "execution_count": 114,
   "id": "celtic-feeding",
   "metadata": {},
   "outputs": [
    {
     "name": "stdout",
     "output_type": "stream",
     "text": [
      "p = 0.004671254121982771\n"
     ]
    }
   ],
   "source": [
    "p = 1-st.norm.cdf(z)\n",
    "print(f\"p = {p}\")"
   ]
  },
  {
   "cell_type": "markdown",
   "id": "digital-america",
   "metadata": {},
   "source": [
    "Concluimos que $p = 0.00467... \\approx 0.0047$\n",
    "\n",
    "2. Un periódico de una ciudad grande afirma que el 62 % de los votantes registrados estuvieron en contra del aborto. Una agencia de servicio social considera que la estimación es muy alta, por lo que decidió entrevistar a una muestra aleatoria de 500 votantes registrados y encontró que 290 se opusieron al aborto. Usar el nivel de significancia del 5 % en una prueba para determinar si la estimación del periódico es muy alta, y encuentra el valor de $p$.\n",
    "\n",
    "a) $H_0$ y $H_1$\n",
    "\n",
    "**R**: Lo que sospecha el problema es que el porcentaje de votos a favor se ve muy grande. Entonces lo que queremos determinar es si en realidad el valor de este porcentaje es menor al anunciado. Por lo que decimos que nuestra hipótesis alternativa es $H_1 : p < 0.62$. Por lo tanto la hipótesis nula es: $H_0 : p \\geq 0.62$. En resumen:\n",
    "$$H_0 : p \\geq 0.62$$\n",
    "$$H_1 : p < 0.62$$\n",
    "\n",
    "b) $\\alpha$ y el tipo de prueba\n",
    "\n",
    "**R**: El valor de $\\alpha$ es el de nuestro nivel de significancia. Por lo que decimos que $\\alpha = 0.05$. Para el tipo de prueba, como $H_1$ tiene signo $<$, decimos que es una prueba direccional de cola izquierda.\n",
    "\n",
    "c) Distribución muestral\n",
    "\n",
    "**R**: El tipo de dsitribución muestral en nuestro problema va a depender del tamaño de nuestra población. Si se cumple que:\n",
    "\n",
    "$$np \\geq 5\\;\\text{y}\\; n(1 − p) \\geq 5$$\n",
    "\n",
    "En este caso tenemos que $n = 500$ y $p = 0.62$. Comprobando que esto se cumpla en Python tenemos:"
   ]
  },
  {
   "cell_type": "code",
   "execution_count": 115,
   "id": "external-penetration",
   "metadata": {},
   "outputs": [
    {
     "name": "stdout",
     "output_type": "stream",
     "text": [
      "np = 310.0\n",
      "n(1-p) = 190.0\n"
     ]
    }
   ],
   "source": [
    "n = 500 \n",
    "p = 0.62\n",
    "print(f\"np = {n*p}\\nn(1-p) = {n*(1-p)}\")"
   ]
  },
  {
   "cell_type": "markdown",
   "id": "systematic-officer",
   "metadata": {},
   "source": [
    "Vemos que sí se cumplen ambas condiciones, entonces $n$ se puede considerar suficientemente grande y decir que la distribución muestral de $\\hat{p}$ es aproximadamente normal.\n",
    "\n",
    "d) Valor del estadístico de prueba \n",
    "\n",
    "**R**: En este caso vamos a usar el puntaje $z$ para $\\hat{p}$. El valor de $\\hat{p}$ es el porcentaje de votantes en contra del aborto en la última votación. Recordemos que había 290 en contra de éste de un total de 500 votantes. Entonces:"
   ]
  },
  {
   "cell_type": "code",
   "execution_count": 116,
   "id": "early-german",
   "metadata": {},
   "outputs": [
    {
     "name": "stdout",
     "output_type": "stream",
     "text": [
      "p^ = 0.58\n"
     ]
    }
   ],
   "source": [
    "p_hat = (290)/500\n",
    "print(f\"p^ = {p_hat}\")"
   ]
  },
  {
   "cell_type": "markdown",
   "id": "limiting-biodiversity",
   "metadata": {},
   "source": [
    "Recordemos que el puntaje $z$ a partir del estadístico se calcula de la siguiente manera:\n",
    "\n",
    "$$\n",
    "z = \\frac{\\hat{p}-p}{\\sqrt{p(1-p)/n}}\n",
    "$$"
   ]
  },
  {
   "cell_type": "markdown",
   "id": "certain-carbon",
   "metadata": {},
   "source": [
    "Definimos y aplicamos esta definición en Python:"
   ]
  },
  {
   "cell_type": "code",
   "execution_count": 117,
   "id": "senior-constant",
   "metadata": {},
   "outputs": [
    {
     "name": "stdout",
     "output_type": "stream",
     "text": [
      "z = -1.8427115179918707\n"
     ]
    }
   ],
   "source": [
    "z = (p_hat-p)/np.sqrt(p*(1-p)/n)\n",
    "print(f\"z = {z}\")"
   ]
  },
  {
   "cell_type": "markdown",
   "id": "pointed-kennedy",
   "metadata": {},
   "source": [
    "Entonces nuestro valor estadístico de prueba es $z = -1.84271...\\approx -1.84$.\n",
    "\n",
    "e) Valor crítico\n",
    "\n",
    "**R**: El valor crítico será el que tenga el 5% de área bajo la curva de la distribución normal por detrás de él. Esto es $z_{0.05}$. Calculándolo directamente en Python, tenemos:"
   ]
  },
  {
   "cell_type": "code",
   "execution_count": 118,
   "id": "rental-version",
   "metadata": {},
   "outputs": [
    {
     "name": "stdout",
     "output_type": "stream",
     "text": [
      "-1.6448536269514729\n"
     ]
    }
   ],
   "source": [
    "C = st.norm.ppf(.05)\n",
    "print(C)"
   ]
  },
  {
   "cell_type": "markdown",
   "id": "italian-zoning",
   "metadata": {},
   "source": [
    "El valor crítico es $z = -1.64485...\\approx -1.645$\n",
    "\n",
    "f) Decisión\n",
    "\n",
    "**R**: Como estamos haciendo una prueba de cola izquierda, si $z \\leq C$, entonces rechazamos $H_0$. Podemos ver directamente cuál es el menor de los dos valores en Python de la siguiente manera:"
   ]
  },
  {
   "cell_type": "code",
   "execution_count": 119,
   "id": "worst-difficulty",
   "metadata": {},
   "outputs": [
    {
     "name": "stdout",
     "output_type": "stream",
     "text": [
      "El valor más pequeño es: z\n",
      "Se cumple que: z < C\n"
     ]
    }
   ],
   "source": [
    "vals = {\"C\": C, \"z\": z}\n",
    "\n",
    "print(\"El valor más pequeño es:\",min(vals, key=vals.get))\n",
    "print(f\"Se cumple que: {min(vals, key = vals.get)} < {max(vals,key=vals.get)}\")"
   ]
  },
  {
   "cell_type": "markdown",
   "id": "injured-cabinet",
   "metadata": {},
   "source": [
    "Como sucede que $z < C$, entonces el valor de $z$ cae en la región de rechazo. Esto implica que rechazamos $H_0 : p \\geq 0.62$. Esto quiere decir que aceptamos la hipótesis $H_1 : p < 0.62$. Esto nos indica que probablemente el porcentaje de votantes en oposición al aborto indicado por el periódico sí era muy alto en las afirmaciones originales.\n",
    "\n",
    "g) Tipo de error posible y probabilidad asociada, si es un error de tipo I.\n",
    "\n",
    "**R**: Como lo que estamos haciendo es rechazar $H_0$, entonces existe la posibilidad de cometer un error de tipo I (rechazar $H_0$ y que sea cierta). La probabilidad de cometer este error de tipo I es de $\\alpha = 0.05 = 5 \\%$.\n",
    "\n",
    "h) Valor de $p$\n",
    "\n",
    "**R**: Usando el puntaje $z$ que obtuvimos anteriormente, encontramos el valor del área detrás de él en la curva de la distribución normal. En este caso no es necesario restarlo a 1 este valor porque la prueba es de cola izquierda y Python considera a éstas por defecto."
   ]
  },
  {
   "cell_type": "code",
   "execution_count": 120,
   "id": "inside-lunch",
   "metadata": {},
   "outputs": [
    {
     "name": "stdout",
     "output_type": "stream",
     "text": [
      "p = 0.03268557071858775\n"
     ]
    }
   ],
   "source": [
    "p = st.norm.cdf(z)\n",
    "print(f\"p = {p}\")"
   ]
  },
  {
   "cell_type": "markdown",
   "id": "mounted-adams",
   "metadata": {},
   "source": [
    "Concluimos que $p = 0.032685... \\approx 0.0327$.\n",
    "\n",
    "3. Una compañía cervecera utiliza máquinas de llenado de latas de cerveza que dan una varianza máxima de 0.05 -la cantidad de cerveza en onzas-, para que las latas no estén más o menos llenas. Una muestra de los contenidos de 25 latas produjo $s^2 = 0.07$. Si las cantidades servidas se distribuyen normalmente, pongan a prueba la hip ́otesis nula $\\sigma^2 \\leq 0.05$ contra la hipótesis alternativa $\\sigma^2 > 0.05$. Usar $\\alpha = 0.05$.\n",
    "\n",
    "a) $H_0$ y $H_1$\n",
    "\n",
    "**R**: El mismo problema ya nos define que la hip ́otesis nula, $H_0$, es $H_0 : \\sigma^2 \\leq 0.05$. También nos da la alternativa: $H1 : \\sigma^2 > 0.05$. En resumen:\n",
    "$$\n",
    "H_0 : \\sigma^2 \\leq 0.05\n",
    "$$\n",
    "$$\n",
    "H_1 : \\sigma^2 > 0.05\n",
    "$$\n",
    "\n",
    "b) $\\alpha$ y el tipo de prueba\n",
    "\n",
    "**R**: El valor de $\\alpha$ nos lo da directamente el problema: $\\alpha = 0.05$. Para el tipo de prueba, como el signo de $H_1$ es $>$, entonces decimos que es una prueba de hipótesis direccional de cola derecha.\n",
    "\n",
    "c) Distribución muestral\n",
    "\n",
    "**R**: Como estamos manejando los valores de $\\sigma^2$ en nuestra hipótesis y además el problema nos indica que la distribución es aproximadamente normal, entonces decimos que tenemos una distribución muestral de tipo $\\chi^2$.\n",
    "\n",
    "d) Valor del estadístico de prueba\n",
    "\n",
    "**R**: El estadístico de prueba para una distribución de tipo $\\chi^2$ se define como:\n",
    "$$\n",
    "\\chi^2 = \\frac{(n-1)s^2}{\\sigma^2}\n",
    "$$\n",
    "\n",
    "Ya conocemos los valores de $s^2 = 0.07$, $n=25$ y $\\sigma^2 = 0.05$. Resolviendo esta función en Python obtenemos el valor de nuestro estadístico de prueba $\\chi^2$:"
   ]
  },
  {
   "cell_type": "code",
   "execution_count": 122,
   "id": "destroyed-bangladesh",
   "metadata": {},
   "outputs": [
    {
     "name": "stdout",
     "output_type": "stream",
     "text": [
      "chi^2 = 33.6\n"
     ]
    }
   ],
   "source": [
    "n = 25\n",
    "s2 = 0.07\n",
    "sigma2 = 0.05\n",
    "\n",
    "chi2 = (n-1)*s2/sigma2\n",
    "print(f\"chi^2 = {chi2}\")"
   ]
  },
  {
   "cell_type": "markdown",
   "id": "later-report",
   "metadata": {},
   "source": [
    "Entonces concluimos que nuestro valor del estadístico de prueba es: $\\chi^2 = 33.6$.\n",
    "\n",
    "e) Valor crítico\n",
    "\n",
    "**R**: Como el nivel de significancia es $\\alpha = 0.05$, buscamos el valor crítico de la distribucion $\\chi^2$ de Pearson en la con $gl = n − 1 = 25 − 1 = 24$ en Python. Recordemos que estamos en una prueba de cola derecha. Por esta razón, le tenemos que indicar a Python que calcule el valor crítico considerando $\\alpha=1-0.05=0.95$ ya que éste trabaja normalmente con pruebas de cola izquierda. Para utilizar esto con pruebas de cola derecha basta hacer esta resta con 1. Esto lo hacemos de la siguiente manera:"
   ]
  },
  {
   "cell_type": "code",
   "execution_count": 123,
   "id": "boring-camping",
   "metadata": {},
   "outputs": [
    {
     "name": "stdout",
     "output_type": "stream",
     "text": [
      "C = chi^2_(0.95)(24) = 36.41502850180731\n"
     ]
    }
   ],
   "source": [
    "C = st.chi2.ppf(.95, 24)\n",
    "print(f\"C = chi^2_(0.95)(24) = {C}\")"
   ]
  },
  {
   "cell_type": "markdown",
   "id": "separate-medium",
   "metadata": {},
   "source": [
    "Entonces el valor crítico es $C = \\chi^2_{0.05}(24) = 36.41502...\\approx 36.42$.\n",
    "\n",
    "f) Decisión\n",
    "\n",
    "**R**: Como estamos haciendo una prueba de cola derecha, si $C \\leq \\chi^2$ entonces rechazamos $H_0$, de lo contrario la aceptamos. Verificamos qué caso ocurre con Python:"
   ]
  },
  {
   "cell_type": "code",
   "execution_count": 124,
   "id": "clear-kingdom",
   "metadata": {},
   "outputs": [
    {
     "name": "stdout",
     "output_type": "stream",
     "text": [
      "El valor más pequeño es: chi^2\n",
      "Se cumple que: chi^2 < C\n"
     ]
    }
   ],
   "source": [
    "vals = {\"C\": C, \"chi^2\": z}\n",
    "\n",
    "print(\"El valor más pequeño es:\",min(vals, key=vals.get))\n",
    "print(f\"Se cumple que: {min(vals, key = vals.get)} < {max(vals,key=vals.get)}\")"
   ]
  },
  {
   "cell_type": "markdown",
   "id": "finnish-superior",
   "metadata": {},
   "source": [
    "Como $C > \\chi^2$, entonces el valor del estadístico de prueba cae en el área de aceptación. Esto implica que aceptamos la hipótesis nula $H_0$ y rechazamos a la alternativa $H_1 : \\sigma^2 > 0.05$. En conlusión nuestra decisión es aceptar $H_0 : \\sigma^2 \\leq 0.05$.\n",
    "\n",
    "g) Tipo de error posible y probabilidad asociada, si es un error de tipo I\n",
    "\n",
    "**R**: Como lo que estamos haciendo es aceptar $H_0$, entonces existe la posibilidad de cometer un error de tipo II (no rechazar $H_0$ y ésta es falsa). Como es un error de tipo II, la probabilidad de cometerlo, $\\beta$, es desconocida.\n",
    "\n",
    "h) Valor de $p$\n",
    "\n",
    "**R**: Para esto nos apoyamos en que tenemos $gl = 24$ y $\\chi^2 =33.6$ para calcular directamente el valor de $p$ con Python. Recordemos que debemos restar esto a 1 porque Python considera el área a la izquierda de $\\chi^2$, pero nuestro caso es uno de cola derecha y buscamos el área a la derecha de $\\chi^2$."
   ]
  },
  {
   "cell_type": "code",
   "execution_count": 125,
   "id": "published-helmet",
   "metadata": {},
   "outputs": [
    {
     "name": "stdout",
     "output_type": "stream",
     "text": [
      "p = 0.09203304678674706\n"
     ]
    }
   ],
   "source": [
    "p = 1 - st.chi2.cdf(chi2,24)\n",
    "print(f\"p = {p}\")"
   ]
  },
  {
   "cell_type": "markdown",
   "id": "hybrid-event",
   "metadata": {},
   "source": [
    "Concluimos que el valor de $p$ es de $p = 0.092033...\\approx 0.092$.\n",
    "\n",
    "4. Las latas de nueces de una libra deben contener un peso neto de 16 onzas, pero hay una gran variabilidad. Una muestra aleatoria de seis latas de la marca de nueces A reveló los pesos netos siguientes en onzas: 16.1, 15.8, 15.1, 15.4, 16.1 y 16.2. Usar $\\alpha = 0.01$ para determinar si el verdadero peso neto es diferente de 16 onzas.\n",
    "\n",
    "a) $H_0$ y $H_1$\n",
    "\n",
    "**R**: Queremos determinar si el verdadero peso neto es diferente de 16 onzas. También vamos a estar considerando la media de los pesos netos de la muestra. Por todo lo anterior decimos que nuestra hipótesis alternativa es $\\mu \\neq 16$. Y por lo tanto nuestra hipótesis nula es: $\\mu = 16$. En resumen:\n",
    "\n",
    "$$H_0 : \\mu = 16$$\n",
    "$$H_1 : \\mu \\neq 16$$\n",
    "\n",
    "b) $\\alpha$ y el tipo de prueba\n",
    "\n",
    "**R** : El valor de $\\alpha$ nos lo da el mismo problema. Es de $\\alpha = 0.01$. En cuanto al tipo de prueba, como el signo de $H1$ es $\\neq$, entonces decimos que es una prueba no direccional de dos colas.\n",
    "\n",
    "c) Distribución muestral\n",
    "\n",
    "**R**: Podemos observar cómo en este caso el tamaño de nuestra muestra es pequeña con $n = 6$. Como $n = 6 < 30$, y bajo la suposición de que la población es normal, decimos que la distribución es de tipo t de Student.\n",
    "\n",
    "d)Valor del estadístico de prueba\n",
    "\n",
    "**R**: El valor del estadístico de prueba será el de t que se define como:\n",
    "\n",
    "$$\n",
    "t = \\frac{\\bar{x} - \\mu}{s/\\sqrt{n}}\n",
    "$$\n",
    "\n",
    "A partir de esto hacemos una función que calcule este valor dado el conjunto de datos que tenemos y el valor de la media esperada. Ya conocemos nuestros datos por lo que plantea el problema y sabemos que $\\mu = 16$. Entonces:"
   ]
  },
  {
   "cell_type": "code",
   "execution_count": 126,
   "id": "extended-vulnerability",
   "metadata": {},
   "outputs": [
    {
     "name": "stdout",
     "output_type": "stream",
     "text": [
      "t = -1.3076503392653462\n"
     ]
    }
   ],
   "source": [
    "def t(data, mu):\n",
    "    return (np.mean(data) - mu)/(np.std(data)/np.sqrt(len(data)))\n",
    "data = [16.1, 15.8, 15.1, 15.4, 16.1, 16.2]\n",
    "mu = 16\n",
    "t = t(data,mu)\n",
    "print(f\"t = {t}\")"
   ]
  },
  {
   "cell_type": "markdown",
   "id": "literary-young",
   "metadata": {},
   "source": [
    "Entonces el valor del estadístico de prueba es de $t = −1.30765...\\approx -1.31$.\n",
    "\n",
    "e) Valores críticos\n",
    "\n",
    "**R**: Como estamos trabajando en una prueba de dos colas, nuestros valores críticos se encontrarán en $\\pm t_{\\alpha/2} = t_{0.01/2} = t_{0.005}$ para $gl = n − 1 = 6 − 1 = 5$. Esto lo obtenemos con Python de la siguiente forma:"
   ]
  },
  {
   "cell_type": "code",
   "execution_count": 127,
   "id": "tight-growth",
   "metadata": {},
   "outputs": [
    {
     "name": "stdout",
     "output_type": "stream",
     "text": [
      "C_1 = -t_0.005 = -4.032142983557536\n",
      "C_2 = +t_0.005 = +4.032142983557536\n"
     ]
    }
   ],
   "source": [
    "C_1 = st.t.ppf(.005, df = 5)\n",
    "C_2 = -1*C_1\n",
    "print(f\"C_1 = -t_0.005 = {C_1}\\nC_2 = +t_0.005 = +{C_2}\")"
   ]
  },
  {
   "cell_type": "markdown",
   "id": "looking-capital",
   "metadata": {},
   "source": [
    "Entonces nuestros valores críticos son: $C_1 = −4.03214... \\approx -4.032$ y $C_2 = +4.03214... \\approx +4.032$.\n",
    "\n",
    "f) Decisión\n",
    "\n",
    "**R**: Si ocurre que $t \\leq C_1$ ó $C_2 \\leq t$, entonces vamos a tener que rechazar $H_0$. Evaluando las desigualdades en Python para los dos valores críticos tenemos:"
   ]
  },
  {
   "cell_type": "code",
   "execution_count": 128,
   "id": "religious-stanford",
   "metadata": {},
   "outputs": [
    {
     "name": "stdout",
     "output_type": "stream",
     "text": [
      "Se cumple que: C_1 < t\n",
      "y también que: t < C_2\n"
     ]
    }
   ],
   "source": [
    "vals1 = {\"C_1\": C_1, \"t\": t}\n",
    "vals2 = {\"C_2\":C_2, \"t\": t}\n",
    "print(f\"Se cumple que: {min(vals1, key = vals1.get)} < {max(vals1,key=vals1.get)}\")\n",
    "print(f\"y también que: {min(vals2, key = vals2.get)} < {max(vals2,key=vals2.get)}\")"
   ]
  },
  {
   "cell_type": "markdown",
   "id": "endless-module",
   "metadata": {},
   "source": [
    "Como en este caso tenemos que $C_1 < t$ y que $t < C_2 $, entonces el valor del estadístico de prueba cae en el área de aceptación. Esto implica que aceptamos la hipótesis nula $H_0$ y rechazamos a la alternativa $H_1 : \\mu \\neq 16$. En\n",
    "conclusión, nuestra decisión es aceptar $H_0 : \\mu = 16$\n",
    "\n",
    "g) Tipo de error posible y probabilidad asociada, si es un error de tipo I\n",
    "\n",
    "**R**: Como estamos aceptando $H_0$, entonces existe la posibilidad de cometer un error de tipo II (no rechazar $H_0$ y ésta es falsa). Como es un error de tipo II, la probabilidad de cometerlo, $\\beta$, es desconocida.\n",
    "\n",
    "h) Valor de $p$\n",
    "\n",
    "**R**: Usando el valor de $t$ que ya calculamos con $gl = 5$, calculamos este valor directamente Python. Además como es prueba de dos colas vamos a multiplicar el resultado por 2 para así obtener el área total bajo la curva que representa el valor de $p$."
   ]
  },
  {
   "cell_type": "code",
   "execution_count": 129,
   "id": "indoor-madison",
   "metadata": {},
   "outputs": [
    {
     "name": "stdout",
     "output_type": "stream",
     "text": [
      "p = 0.24788662512052492\n"
     ]
    }
   ],
   "source": [
    "p = st.t.cdf(t,5)*2\n",
    "print(f\"p = {p}\")"
   ]
  },
  {
   "cell_type": "markdown",
   "id": "democratic-judges",
   "metadata": {},
   "source": [
    "En conclusión, el valor de $p$ es de $p = 0.247886...\\approx 0.2479$."
   ]
  }
 ],
 "metadata": {
  "kernelspec": {
   "display_name": "Python 3",
   "language": "python",
   "name": "python3"
  },
  "language_info": {
   "codemirror_mode": {
    "name": "ipython",
    "version": 3
   },
   "file_extension": ".py",
   "mimetype": "text/x-python",
   "name": "python",
   "nbconvert_exporter": "python",
   "pygments_lexer": "ipython3",
   "version": "3.8.8"
  }
 },
 "nbformat": 4,
 "nbformat_minor": 5
}
