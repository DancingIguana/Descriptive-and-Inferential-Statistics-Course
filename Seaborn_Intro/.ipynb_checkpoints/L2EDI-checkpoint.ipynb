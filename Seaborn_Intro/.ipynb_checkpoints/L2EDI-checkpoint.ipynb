{
 "cells": [
  {
   "cell_type": "markdown",
   "id": "suited-layer",
   "metadata": {},
   "source": [
    "# Laboratorio 2: Seaborn I\n",
    "## Estadística Descriptiva e Inferencial\n",
    "### Juan Pablo Maldonado Castro\n",
    "#### 11 de marzo de 2021"
   ]
  },
  {
   "cell_type": "code",
   "execution_count": 1,
   "id": "closing-stadium",
   "metadata": {},
   "outputs": [],
   "source": [
    "import numpy as np\n",
    "import pandas as pd\n",
    "import matplotlib.pyplot as plt\n",
    "import seaborn as sns "
   ]
  },
  {
   "cell_type": "markdown",
   "id": "respected-vienna",
   "metadata": {},
   "source": [
    "Las temperaturas del medio día, en grados Farenheit registradas el 01 de julio durante los últimos 28 años en un pueblo pequeño, son las siguientes:\n",
    "\n",
    "66 83 77 90 78 84 83\n",
    "\n",
    "80 77 79 75 88 72 66\n",
    "\n",
    "83 85 94 88 79 79 72\n",
    "\n",
    "78 76 84 81 73 80 90\n",
    "\n",
    "(a) Usa estos datos y seis claves para construir una tabla de frecuencia acumulada agrupada"
   ]
  },
  {
   "cell_type": "markdown",
   "id": "mature-composite",
   "metadata": {},
   "source": [
    "Primero creamos las 6 clases en series de pandas a partir de los datos.\n",
    "\n",
    "**Nota:** Los intervalos serán de la forma [x,x),[x,x),[x,x),[x,x),[x,x),[x,x], por eso se añadan en el pd.cut las instrucciones *right = True* y *retbins = True*"
   ]
  },
  {
   "cell_type": "code",
   "execution_count": 2,
   "id": "organized-journal",
   "metadata": {},
   "outputs": [],
   "source": [
    "S = pd.read_csv(\"temp.dat\", sep='\\n', header=None )\n",
    "Sseries = pd.Series(S[0])\n",
    "f1, intervals = pd.cut(Sseries, bins = 6, labels = ['C1', 'C2', 'C3', 'C4', 'C5', 'C6'], right = False, retbins = True)\n",
    "#f1"
   ]
  },
  {
   "cell_type": "markdown",
   "id": "genetic-thriller",
   "metadata": {},
   "source": [
    "Usamos las series para crear una tabla de frecuencia acumulada"
   ]
  },
  {
   "cell_type": "code",
   "execution_count": 3,
   "id": "divided-camel",
   "metadata": {},
   "outputs": [],
   "source": [
    "#ffaa1 = ffaa1.value_counts(normalize = True, sort = False).cumsum()\n",
    "fa1 = f1.value_counts(sort = False).cumsum()\n",
    "#fa1"
   ]
  },
  {
   "cell_type": "markdown",
   "id": "actual-interaction",
   "metadata": {},
   "source": [
    "Convertimos las series en un dataframe. Además, para elementos de visualización del intervalo que representa cada clase vamos a añadir una columna de intervalos."
   ]
  },
  {
   "cell_type": "code",
   "execution_count": 4,
   "id": "legitimate-dream",
   "metadata": {},
   "outputs": [
    {
     "data": {
      "text/html": [
       "<div>\n",
       "<style scoped>\n",
       "    .dataframe tbody tr th:only-of-type {\n",
       "        vertical-align: middle;\n",
       "    }\n",
       "\n",
       "    .dataframe tbody tr th {\n",
       "        vertical-align: top;\n",
       "    }\n",
       "\n",
       "    .dataframe thead th {\n",
       "        text-align: right;\n",
       "    }\n",
       "</style>\n",
       "<table border=\"1\" class=\"dataframe\">\n",
       "  <thead>\n",
       "    <tr style=\"text-align: right;\">\n",
       "      <th></th>\n",
       "      <th>Intervalo</th>\n",
       "      <th>Fr Ac</th>\n",
       "    </tr>\n",
       "  </thead>\n",
       "  <tbody>\n",
       "    <tr>\n",
       "      <th>C1</th>\n",
       "      <td>[66.0, 70.66666666666667)</td>\n",
       "      <td>2</td>\n",
       "    </tr>\n",
       "    <tr>\n",
       "      <th>C2</th>\n",
       "      <td>[70.66666666666667, 75.33333333333333)</td>\n",
       "      <td>6</td>\n",
       "    </tr>\n",
       "    <tr>\n",
       "      <th>C3</th>\n",
       "      <td>[75.33333333333333, 80.0)</td>\n",
       "      <td>14</td>\n",
       "    </tr>\n",
       "    <tr>\n",
       "      <th>C4</th>\n",
       "      <td>[80.0, 84.66666666666667)</td>\n",
       "      <td>22</td>\n",
       "    </tr>\n",
       "    <tr>\n",
       "      <th>C5</th>\n",
       "      <td>[84.66666666666667, 89.33333333333334)</td>\n",
       "      <td>25</td>\n",
       "    </tr>\n",
       "    <tr>\n",
       "      <th>C6</th>\n",
       "      <td>[89.33333333333334, 94.028]</td>\n",
       "      <td>28</td>\n",
       "    </tr>\n",
       "  </tbody>\n",
       "</table>\n",
       "</div>"
      ],
      "text/plain": [
       "                                 Intervalo  Fr Ac\n",
       "C1               [66.0, 70.66666666666667)      2\n",
       "C2  [70.66666666666667, 75.33333333333333)      6\n",
       "C3               [75.33333333333333, 80.0)     14\n",
       "C4               [80.0, 84.66666666666667)     22\n",
       "C5  [84.66666666666667, 89.33333333333334)     25\n",
       "C6             [89.33333333333334, 94.028]     28"
      ]
     },
     "execution_count": 4,
     "metadata": {},
     "output_type": "execute_result"
    }
   ],
   "source": [
    "df_fa1 = fa1.to_frame()\n",
    "#idx = pd.IntervalIndex(pd.arrays.IntervalArray(intervals))\n",
    "#df = pd.DataFrame({'intervals':idx})\n",
    "interval_column = []\n",
    "\n",
    "for i in range(0,6):\n",
    "    if i < 5:\n",
    "        interval_column.append('[' + str((intervals[i])) + ', ' + str((intervals[i+1])) + ')')\n",
    "    else:\n",
    "        interval_column.append('[' + str((intervals[i])) + ', ' + str((intervals[i+1])) + ']')\n",
    "\n",
    "df = df_fa1\n",
    "df.insert(0, 'Intervalo',interval_column)\n",
    "df.columns = ['Intervalo', 'Fr Ac']\n",
    "df"
   ]
  },
  {
   "cell_type": "markdown",
   "id": "confused-cooper",
   "metadata": {},
   "source": [
    "(b) Completa la tabla con las columnas de frecuencia relativa y de frecuencia relativa acumulada."
   ]
  },
  {
   "cell_type": "markdown",
   "id": "proof-albany",
   "metadata": {},
   "source": [
    "Vamos a añadir las columnas de frecuencia relativa y relativa acumulada, también, como referencia extra a la columna de frecuencia relativa, usaremos una columna de frecuencia.\n",
    "\n",
    "Creamos la columna de frecuencia a partir de las series."
   ]
  },
  {
   "cell_type": "code",
   "execution_count": 5,
   "id": "specified-remove",
   "metadata": {},
   "outputs": [],
   "source": [
    "frec1 = f1.value_counts(sort = False)"
   ]
  },
  {
   "cell_type": "markdown",
   "id": "realistic-score",
   "metadata": {},
   "source": [
    "Convertimos en una columna de dataframe la frecuencia y la juntamos a nuestro dataframe original"
   ]
  },
  {
   "cell_type": "code",
   "execution_count": 6,
   "id": "loose-courage",
   "metadata": {},
   "outputs": [],
   "source": [
    "df_frec1 = frec1.to_frame()\n",
    "df.insert(1,'F', df_frec1)\n",
    "#df"
   ]
  },
  {
   "cell_type": "markdown",
   "id": "respiratory-cancer",
   "metadata": {},
   "source": [
    "Creamos la columna de frecuencia relativa y la añadimos a la tabla."
   ]
  },
  {
   "cell_type": "code",
   "execution_count": 7,
   "id": "stuffed-combine",
   "metadata": {},
   "outputs": [],
   "source": [
    "fr1 = f1.value_counts(normalize = True, sort = False)\n",
    "#fr1"
   ]
  },
  {
   "cell_type": "code",
   "execution_count": 8,
   "id": "atlantic-harmony",
   "metadata": {},
   "outputs": [],
   "source": [
    "df_fr1 = fr1.to_frame()\n",
    "df.insert(2, 'Fr Re', df_fr1)\n",
    "#df"
   ]
  },
  {
   "cell_type": "markdown",
   "id": "guilty-shanghai",
   "metadata": {},
   "source": [
    "Creamos la columna de frecuencia relativa acumulada y la añadimos a la tabla"
   ]
  },
  {
   "cell_type": "code",
   "execution_count": 9,
   "id": "fancy-scenario",
   "metadata": {},
   "outputs": [],
   "source": [
    "fra1 = f1.value_counts(normalize = True, sort = False).cumsum()\n",
    "#fra1"
   ]
  },
  {
   "cell_type": "code",
   "execution_count": 10,
   "id": "protected-tackle",
   "metadata": {},
   "outputs": [],
   "source": [
    "df_fra1 = fra1.to_frame()\n",
    "df.insert(4,'Fr Re Ac',df_fra1)\n",
    "#df"
   ]
  },
  {
   "cell_type": "markdown",
   "id": "better-namibia",
   "metadata": {},
   "source": [
    "Resultado final de la tabla:"
   ]
  },
  {
   "cell_type": "code",
   "execution_count": 11,
   "id": "sufficient-integrity",
   "metadata": {},
   "outputs": [
    {
     "data": {
      "text/html": [
       "<div>\n",
       "<style scoped>\n",
       "    .dataframe tbody tr th:only-of-type {\n",
       "        vertical-align: middle;\n",
       "    }\n",
       "\n",
       "    .dataframe tbody tr th {\n",
       "        vertical-align: top;\n",
       "    }\n",
       "\n",
       "    .dataframe thead th {\n",
       "        text-align: right;\n",
       "    }\n",
       "</style>\n",
       "<table border=\"1\" class=\"dataframe\">\n",
       "  <thead>\n",
       "    <tr style=\"text-align: right;\">\n",
       "      <th></th>\n",
       "      <th>Intervalo</th>\n",
       "      <th>F</th>\n",
       "      <th>Fr Re</th>\n",
       "      <th>Fr Ac</th>\n",
       "      <th>Fr Re Ac</th>\n",
       "    </tr>\n",
       "  </thead>\n",
       "  <tbody>\n",
       "    <tr>\n",
       "      <th>C1</th>\n",
       "      <td>[66.0, 70.66666666666667)</td>\n",
       "      <td>2</td>\n",
       "      <td>0.071429</td>\n",
       "      <td>2</td>\n",
       "      <td>0.071429</td>\n",
       "    </tr>\n",
       "    <tr>\n",
       "      <th>C2</th>\n",
       "      <td>[70.66666666666667, 75.33333333333333)</td>\n",
       "      <td>4</td>\n",
       "      <td>0.142857</td>\n",
       "      <td>6</td>\n",
       "      <td>0.214286</td>\n",
       "    </tr>\n",
       "    <tr>\n",
       "      <th>C3</th>\n",
       "      <td>[75.33333333333333, 80.0)</td>\n",
       "      <td>8</td>\n",
       "      <td>0.285714</td>\n",
       "      <td>14</td>\n",
       "      <td>0.500000</td>\n",
       "    </tr>\n",
       "    <tr>\n",
       "      <th>C4</th>\n",
       "      <td>[80.0, 84.66666666666667)</td>\n",
       "      <td>8</td>\n",
       "      <td>0.285714</td>\n",
       "      <td>22</td>\n",
       "      <td>0.785714</td>\n",
       "    </tr>\n",
       "    <tr>\n",
       "      <th>C5</th>\n",
       "      <td>[84.66666666666667, 89.33333333333334)</td>\n",
       "      <td>3</td>\n",
       "      <td>0.107143</td>\n",
       "      <td>25</td>\n",
       "      <td>0.892857</td>\n",
       "    </tr>\n",
       "    <tr>\n",
       "      <th>C6</th>\n",
       "      <td>[89.33333333333334, 94.028]</td>\n",
       "      <td>3</td>\n",
       "      <td>0.107143</td>\n",
       "      <td>28</td>\n",
       "      <td>1.000000</td>\n",
       "    </tr>\n",
       "  </tbody>\n",
       "</table>\n",
       "</div>"
      ],
      "text/plain": [
       "                                 Intervalo  F     Fr Re  Fr Ac  Fr Re Ac\n",
       "C1               [66.0, 70.66666666666667)  2  0.071429      2  0.071429\n",
       "C2  [70.66666666666667, 75.33333333333333)  4  0.142857      6  0.214286\n",
       "C3               [75.33333333333333, 80.0)  8  0.285714     14  0.500000\n",
       "C4               [80.0, 84.66666666666667)  8  0.285714     22  0.785714\n",
       "C5  [84.66666666666667, 89.33333333333334)  3  0.107143     25  0.892857\n",
       "C6             [89.33333333333334, 94.028]  3  0.107143     28  1.000000"
      ]
     },
     "execution_count": 11,
     "metadata": {},
     "output_type": "execute_result"
    }
   ],
   "source": [
    "df"
   ]
  },
  {
   "cell_type": "markdown",
   "id": "pacific-charlotte",
   "metadata": {},
   "source": [
    "2. Para el ejercicio anterior:\n",
    "\n",
    "(a) Construye un histograma de frecuencias usando seis barras."
   ]
  },
  {
   "cell_type": "code",
   "execution_count": 12,
   "id": "native-weekend",
   "metadata": {},
   "outputs": [
    {
     "data": {
      "text/plain": [
       "<AxesSubplot:xlabel='0', ylabel='Count'>"
      ]
     },
     "execution_count": 12,
     "metadata": {},
     "output_type": "execute_result"
    },
    {
     "data": {
      "image/png": "[encoded data removed]",
      "text/plain": [
       "<Figure size 432x288 with 1 Axes>"
      ]
     },
     "metadata": {
      "needs_background": "light"
     },
     "output_type": "display_data"
    }
   ],
   "source": [
    "sns.histplot(data = Sseries)"
   ]
  },
  {
   "cell_type": "markdown",
   "id": "comic-beads",
   "metadata": {},
   "source": [
    "(b) Construye un histograma de frecuencia relativa"
   ]
  },
  {
   "cell_type": "code",
   "execution_count": 13,
   "id": "acquired-tuning",
   "metadata": {},
   "outputs": [
    {
     "data": {
      "text/plain": [
       "<AxesSubplot:xlabel='0', ylabel='Probability'>"
      ]
     },
     "execution_count": 13,
     "metadata": {},
     "output_type": "execute_result"
    },
    {
     "data": {
      "image/png": "[encoded data removed]",
      "text/plain": [
       "<Figure size 432x288 with 1 Axes>"
      ]
     },
     "metadata": {
      "needs_background": "light"
     },
     "output_type": "display_data"
    }
   ],
   "source": [
    "sns.histplot(data = Sseries, stat = 'probability')"
   ]
  },
  {
   "cell_type": "markdown",
   "id": "hybrid-lodge",
   "metadata": {},
   "source": [
    "(c) Construye un polígono de frecuencias"
   ]
  },
  {
   "cell_type": "code",
   "execution_count": 14,
   "id": "interpreted-gateway",
   "metadata": {},
   "outputs": [
    {
     "data": {
      "text/plain": [
       "<AxesSubplot:xlabel='0', ylabel='Count'>"
      ]
     },
     "execution_count": 14,
     "metadata": {},
     "output_type": "execute_result"
    },
    {
     "data": {
      "image/png": "[encoded data removed]",
      "text/plain": [
       "<Figure size 432x288 with 1 Axes>"
      ]
     },
     "metadata": {
      "needs_background": "light"
     },
     "output_type": "display_data"
    }
   ],
   "source": [
    "sns.histplot(data = Sseries, element='poly', fill = False)"
   ]
  },
  {
   "cell_type": "markdown",
   "id": "exact-identification",
   "metadata": {},
   "source": [
    "3. Los datos adjuntos representan una muestra de precios:\n",
    "\n",
    "12.3 12.7 13.09 12.9 13.29\n",
    "\n",
    "12.08 11.79 13.19 12.19 12.69\n",
    "\n",
    "12.2 11 13.79 11.59 11.5\n",
    "\n",
    "12.1 12.69 11.99 13.99 11.8\n",
    "\n",
    "11.83 12.8 12.28 11.8 11.59\n",
    "\n",
    "(a) Utiliza estos datos y cinco clases para construir una tabla de frecuencia."
   ]
  },
  {
   "cell_type": "markdown",
   "id": "welcome-beauty",
   "metadata": {},
   "source": [
    "Haremos el mismo procedimiento que en el primer ejercicio, esta vez usando cinco clases y considerando añadir únicamente las columnas de frecuencia y la que indique el intervalo."
   ]
  },
  {
   "cell_type": "code",
   "execution_count": 15,
   "id": "restricted-frequency",
   "metadata": {},
   "outputs": [],
   "source": [
    "precios = pd.read_csv(\"precios.dat\", sep='\\n', header=None )\n",
    "precios_series = pd.Series(precios[0])\n",
    "#precios_series"
   ]
  },
  {
   "cell_type": "code",
   "execution_count": 16,
   "id": "downtown-mongolia",
   "metadata": {},
   "outputs": [
    {
     "data": {
      "text/html": [
       "<div>\n",
       "<style scoped>\n",
       "    .dataframe tbody tr th:only-of-type {\n",
       "        vertical-align: middle;\n",
       "    }\n",
       "\n",
       "    .dataframe tbody tr th {\n",
       "        vertical-align: top;\n",
       "    }\n",
       "\n",
       "    .dataframe thead th {\n",
       "        text-align: right;\n",
       "    }\n",
       "</style>\n",
       "<table border=\"1\" class=\"dataframe\">\n",
       "  <thead>\n",
       "    <tr style=\"text-align: right;\">\n",
       "      <th></th>\n",
       "      <th>Intervalo</th>\n",
       "      <th>F</th>\n",
       "    </tr>\n",
       "  </thead>\n",
       "  <tbody>\n",
       "    <tr>\n",
       "      <th>C1</th>\n",
       "      <td>[10.99701, 11.598)</td>\n",
       "      <td>4</td>\n",
       "    </tr>\n",
       "    <tr>\n",
       "      <th>C2</th>\n",
       "      <td>[11.598, 12.196)</td>\n",
       "      <td>8</td>\n",
       "    </tr>\n",
       "    <tr>\n",
       "      <th>C3</th>\n",
       "      <td>[12.196, 12.794)</td>\n",
       "      <td>6</td>\n",
       "    </tr>\n",
       "    <tr>\n",
       "      <th>C4</th>\n",
       "      <td>[12.794, 13.392)</td>\n",
       "      <td>5</td>\n",
       "    </tr>\n",
       "    <tr>\n",
       "      <th>C5</th>\n",
       "      <td>[13.392, 13.99]</td>\n",
       "      <td>2</td>\n",
       "    </tr>\n",
       "  </tbody>\n",
       "</table>\n",
       "</div>"
      ],
      "text/plain": [
       "             Intervalo  F\n",
       "C1  [10.99701, 11.598)  4\n",
       "C2    [11.598, 12.196)  8\n",
       "C3    [12.196, 12.794)  6\n",
       "C4    [12.794, 13.392)  5\n",
       "C5     [13.392, 13.99]  2"
      ]
     },
     "execution_count": 16,
     "metadata": {},
     "output_type": "execute_result"
    }
   ],
   "source": [
    "f2a, intervals = pd.cut(precios_series, bins = 5, labels = ['C1', 'C2', 'C3', 'C4', 'C5'], retbins = True)\n",
    "frec2a = f2a.value_counts(sort = False)\n",
    "\n",
    "df_frec2a = frec2a.to_frame()\n",
    "\n",
    "df2a = df_frec2a\n",
    "\n",
    "interval_column = []\n",
    "\n",
    "for i in range(0,5):\n",
    "    if i < 4:\n",
    "        interval_column.append('[' + str((intervals[i])) + ', ' + str((intervals[i+1])) + ')')\n",
    "    else:\n",
    "        interval_column.append('[' + str((intervals[i])) + ', ' + str((intervals[i+1])) + ']')\n",
    "        \n",
    "df2a.insert(0, 'Intervalo',interval_column)\n",
    "df2a.columns = ['Intervalo', 'F']\n",
    "\n",
    "df2a"
   ]
  },
  {
   "cell_type": "markdown",
   "id": "legislative-grove",
   "metadata": {},
   "source": [
    "(b) Utiliza estos datos y tres clases para construir una tabla de frecuencia relativa acumulada agrupada."
   ]
  },
  {
   "cell_type": "markdown",
   "id": "casual-modeling",
   "metadata": {},
   "source": [
    "Hacemos lo mismo que el ejercicio pasado pero ahora con tres clases."
   ]
  },
  {
   "cell_type": "code",
   "execution_count": 17,
   "id": "chubby-penny",
   "metadata": {},
   "outputs": [
    {
     "data": {
      "text/html": [
       "<div>\n",
       "<style scoped>\n",
       "    .dataframe tbody tr th:only-of-type {\n",
       "        vertical-align: middle;\n",
       "    }\n",
       "\n",
       "    .dataframe tbody tr th {\n",
       "        vertical-align: top;\n",
       "    }\n",
       "\n",
       "    .dataframe thead th {\n",
       "        text-align: right;\n",
       "    }\n",
       "</style>\n",
       "<table border=\"1\" class=\"dataframe\">\n",
       "  <thead>\n",
       "    <tr style=\"text-align: right;\">\n",
       "      <th></th>\n",
       "      <th>Intervalo</th>\n",
       "      <th>F</th>\n",
       "    </tr>\n",
       "  </thead>\n",
       "  <tbody>\n",
       "    <tr>\n",
       "      <th>C1</th>\n",
       "      <td>[11.0, 11.996666666666666)</td>\n",
       "      <td>9</td>\n",
       "    </tr>\n",
       "    <tr>\n",
       "      <th>C2</th>\n",
       "      <td>[11.996666666666666, 12.993333333333334)</td>\n",
       "      <td>11</td>\n",
       "    </tr>\n",
       "    <tr>\n",
       "      <th>C3</th>\n",
       "      <td>[12.993333333333334, 13.99299]</td>\n",
       "      <td>5</td>\n",
       "    </tr>\n",
       "  </tbody>\n",
       "</table>\n",
       "</div>"
      ],
      "text/plain": [
       "                                   Intervalo   F\n",
       "C1                [11.0, 11.996666666666666)   9\n",
       "C2  [11.996666666666666, 12.993333333333334)  11\n",
       "C3            [12.993333333333334, 13.99299]   5"
      ]
     },
     "execution_count": 17,
     "metadata": {},
     "output_type": "execute_result"
    }
   ],
   "source": [
    "f2b, intervals = pd.cut(precios_series, bins = 3, labels = ['C1', 'C2', 'C3'], right = False, retbins = True)\n",
    "frec2b = f2b.value_counts(sort = False)\n",
    "\n",
    "df_frec2b = frec2b.to_frame()\n",
    "\n",
    "df2b = df_frec2b\n",
    "\n",
    "interval_column = []\n",
    "\n",
    "for i in range(0,3):\n",
    "    if i < 2:\n",
    "        interval_column.append('[' + str((intervals[i])) + ', ' + str((intervals[i+1])) + ')')\n",
    "    else:\n",
    "        interval_column.append('[' + str((intervals[i])) + ', ' + str((intervals[i+1])) + ']')\n",
    "        \n",
    "df2b.insert(0, 'Intervalo',interval_column)\n",
    "df2b.columns = ['Intervalo', 'F']\n",
    "\n",
    "df2b"
   ]
  },
  {
   "cell_type": "markdown",
   "id": "present-maldives",
   "metadata": {},
   "source": [
    "(c) Construye un diagrama *swarm* para visualizar los datos."
   ]
  },
  {
   "cell_type": "code",
   "execution_count": 18,
   "id": "amazing-anthropology",
   "metadata": {},
   "outputs": [
    {
     "data": {
      "text/plain": [
       "<seaborn.axisgrid.FacetGrid at 0x7fc59688fb50>"
      ]
     },
     "execution_count": 18,
     "metadata": {},
     "output_type": "execute_result"
    },
    {
     "data": {
      "image/png": "[encoded data removed]",
      "text/plain": [
       "<Figure size 360x360 with 1 Axes>"
      ]
     },
     "metadata": {
      "needs_background": "light"
     },
     "output_type": "display_data"
    }
   ],
   "source": [
    "sns.catplot(kind = 'swarm', data = precios)"
   ]
  },
  {
   "cell_type": "markdown",
   "id": "arabic-manitoba",
   "metadata": {},
   "source": [
    "(d) ¿Qué puedes decir con respecto a la información de la tabla del inciso (b) con relación al diagrama del inciso (c)?\n",
    "\n",
    "Que el diagrama podemos dividirlo en tres partes correspondientes a las clases de manera clara. Si separamos el eje $y$ en los intervalos $[11,11.96666...)\\approx[11,12)$, $[11.96666...,12.99333...)\\approx[12,13)$ y $[12.99333..., 13.99]\\approx[13,13.99]$, podemos observar claramente los puntos que están en cada uno de ellos. En el nivel más bajo del diagrama están los correspondientes a la primera clase de la tabla del inciso (b), donde están los datos que empiezan en 11; en el nivel medio están los que se cuentan en la segunda clase de la misma tabla, donde hay solo datos que empiezan en 12; y finalmente en la sección de hasta arriba están los puntos que corresponden a la última clase de esa tabla, que es donde los datos que tenemos empiezan en 13.\n",
    "\n",
    "Podemos observar un total de 9 puntos en la sección de hasta abajo, 11  en la del medio y 5 en la superior. Estos valores corresponde exactamente con las frecuencias que están asignadas a las clases correspondientes en la tabla.\n",
    "\n",
    "4. Convierte la gráfica de barras adjunta (en el documento de la tarea) en una gráfica de pastel. La información se refiere a las ventas del último año (en ¡CIENTOS! de dólares).\n"
   ]
  },
  {
   "cell_type": "markdown",
   "id": "excellent-charleston",
   "metadata": {},
   "source": [
    "Basta con definir directamente una 'columna' de frecuencia y asignarle a cada valor la clase que le corresponde. Esta información la pasamos a una gráfica de pastel."
   ]
  },
  {
   "cell_type": "code",
   "execution_count": 19,
   "id": "organizational-algebra",
   "metadata": {},
   "outputs": [],
   "source": [
    "ventas = pd.Series([40, 30, 20, 20, 10])\n",
    "ventas = ventas.rename({0:'A',1:'B',2:'C',3:'D',4:'E'})\n",
    "ventas.name = \"Monto\""
   ]
  },
  {
   "cell_type": "code",
   "execution_count": 20,
   "id": "signal-navigation",
   "metadata": {},
   "outputs": [
    {
     "data": {
      "text/plain": [
       "<AxesSubplot:ylabel='Monto'>"
      ]
     },
     "execution_count": 20,
     "metadata": {},
     "output_type": "execute_result"
    },
    {
     "data": {
      "image/png": "[encoded data removed]",
      "text/plain": [
       "<Figure size 432x288 with 1 Axes>"
      ]
     },
     "metadata": {},
     "output_type": "display_data"
    }
   ],
   "source": [
    "ventas.plot(kind = 'pie', autopct = \"%1.1f%%\")"
   ]
  },
  {
   "cell_type": "markdown",
   "id": "provincial-cannon",
   "metadata": {},
   "source": [
    "La Comisión de Igualdad de Género de la ENES-Morelia envió una encuesta a la comunidad para recoger opiniones sobre las rutas que brinda la UNAM para denunciar situaciones de violencia. La encargada de la Comisión pide tu ayuda para sintetizar los datos y presentar algunas gráficas en su reporte. Puedes encontrar estos datos en el archivo respuestasEncuesta.xlsx"
   ]
  },
  {
   "cell_type": "markdown",
   "id": "defensive-baghdad",
   "metadata": {},
   "source": [
    "5. Se quiere saber quiénes respondieron la encuesta, de acuerdo a su actividad y a su género. Elabora una gráfica que resuma esta información. Toma en cuenta que (¡tip para la vida real!) hay muchas actividades y esto podría obstaculizar que observemos patrones; simplifica y considera sólo cuatro categorías: docente, estudiante, egresado y otro. Crea una columna de tu dataframe con esta simplificación."
   ]
  },
  {
   "cell_type": "code",
   "execution_count": 21,
   "id": "suitable-grain",
   "metadata": {},
   "outputs": [],
   "source": [
    "xlsx = pd.ExcelFile('~/JupyterNotebooks/EDI/L2EDI/respuestasEncuesta.xlsx')\n",
    "comGen = pd.read_excel(xlsx)\n",
    "#comGen"
   ]
  },
  {
   "cell_type": "markdown",
   "id": "regular-steam",
   "metadata": {},
   "source": [
    "Primero creamos la columna con la información que necesitamos. Para ello, pasaremos cualquier tipo de docente (tiempo completo, de una materia, por parte de otro instituto, etc.) a la categoría de docente, a todos los estudiantes a la categoría estudiante, a los 'Egresad@' a Egresado y cualquiera que no corresponda con uno de los anteriores a la categoría 'Otro'."
   ]
  },
  {
   "cell_type": "code",
   "execution_count": 22,
   "id": "distributed-palestine",
   "metadata": {},
   "outputs": [
    {
     "data": {
      "text/html": [
       "<div>\n",
       "<style scoped>\n",
       "    .dataframe tbody tr th:only-of-type {\n",
       "        vertical-align: middle;\n",
       "    }\n",
       "\n",
       "    .dataframe tbody tr th {\n",
       "        vertical-align: top;\n",
       "    }\n",
       "\n",
       "    .dataframe thead th {\n",
       "        text-align: right;\n",
       "    }\n",
       "</style>\n",
       "<table border=\"1\" class=\"dataframe\">\n",
       "  <thead>\n",
       "    <tr style=\"text-align: right;\">\n",
       "      <th></th>\n",
       "      <th>Marca temporal</th>\n",
       "      <th>1. Mi actividad en la ENES Morelia es</th>\n",
       "      <th>2. Me identifico como</th>\n",
       "      <th>3. Si eres estudiante de licenciatura indica qué semestre cursas en este momento</th>\n",
       "      <th>4. ¿Conozco quiénes son las Personas Orientadoras Comunitarias de la ENES Morelia (o del campus) y qué información me pueden ofrecer?</th>\n",
       "      <th>5. ¿Conozco la ruta para presentar una queja por Violencia de Género en la UNAM?</th>\n",
       "      <th>6. Creo que las rutas formales de la UNAM para presentar una denuncia por VG son claras y responden de manera adecuada a la situación que vivimos en la ENES Morelia.</th>\n",
       "      <th>Actividad</th>\n",
       "    </tr>\n",
       "  </thead>\n",
       "  <tbody>\n",
       "    <tr>\n",
       "      <th>0</th>\n",
       "      <td>2021-01-14 14:11:02.024004</td>\n",
       "      <td>Personal de base</td>\n",
       "      <td>Hombre</td>\n",
       "      <td>NaN</td>\n",
       "      <td>Sí</td>\n",
       "      <td>Sí</td>\n",
       "      <td>Sí</td>\n",
       "      <td>Otro</td>\n",
       "    </tr>\n",
       "    <tr>\n",
       "      <th>1</th>\n",
       "      <td>2021-01-15 15:12:44.564996</td>\n",
       "      <td>Docente de asignatura</td>\n",
       "      <td>Mujer</td>\n",
       "      <td>NaN</td>\n",
       "      <td>No</td>\n",
       "      <td>No</td>\n",
       "      <td>No</td>\n",
       "      <td>Docente</td>\n",
       "    </tr>\n",
       "    <tr>\n",
       "      <th>2</th>\n",
       "      <td>2021-01-15 15:29:41.786005</td>\n",
       "      <td>Docente de tiempo completo de la ENES</td>\n",
       "      <td>Hombre</td>\n",
       "      <td>NaN</td>\n",
       "      <td>Sí</td>\n",
       "      <td>Sí</td>\n",
       "      <td>No</td>\n",
       "      <td>Docente</td>\n",
       "    </tr>\n",
       "    <tr>\n",
       "      <th>3</th>\n",
       "      <td>2021-01-15 15:38:12.795003</td>\n",
       "      <td>Docente de tiempo completo de la ENES</td>\n",
       "      <td>Mujer</td>\n",
       "      <td>NaN</td>\n",
       "      <td>Sí</td>\n",
       "      <td>Sí</td>\n",
       "      <td>No</td>\n",
       "      <td>Docente</td>\n",
       "    </tr>\n",
       "    <tr>\n",
       "      <th>4</th>\n",
       "      <td>2021-01-15 15:53:01.862002</td>\n",
       "      <td>Docente de tiempo completo de la ENES</td>\n",
       "      <td>No binario</td>\n",
       "      <td>profesor</td>\n",
       "      <td>Sí</td>\n",
       "      <td>Sí</td>\n",
       "      <td>Tal vez</td>\n",
       "      <td>Docente</td>\n",
       "    </tr>\n",
       "    <tr>\n",
       "      <th>...</th>\n",
       "      <td>...</td>\n",
       "      <td>...</td>\n",
       "      <td>...</td>\n",
       "      <td>...</td>\n",
       "      <td>...</td>\n",
       "      <td>...</td>\n",
       "      <td>...</td>\n",
       "      <td>...</td>\n",
       "    </tr>\n",
       "    <tr>\n",
       "      <th>178</th>\n",
       "      <td>2021-01-28 14:04:48.909000</td>\n",
       "      <td>Egresad@</td>\n",
       "      <td>Mujer</td>\n",
       "      <td>NaN</td>\n",
       "      <td>No</td>\n",
       "      <td>Sí, pero tengo dudas</td>\n",
       "      <td>Tal vez</td>\n",
       "      <td>Egresado</td>\n",
       "    </tr>\n",
       "    <tr>\n",
       "      <th>179</th>\n",
       "      <td>2021-01-29 13:45:33.276004</td>\n",
       "      <td>Estudiante de licenciatura</td>\n",
       "      <td>Hombre</td>\n",
       "      <td>Séptimo</td>\n",
       "      <td>Sí</td>\n",
       "      <td>Sí</td>\n",
       "      <td>Tal vez</td>\n",
       "      <td>Estudiante</td>\n",
       "    </tr>\n",
       "    <tr>\n",
       "      <th>180</th>\n",
       "      <td>2021-01-29 14:58:53.943001</td>\n",
       "      <td>Estudiante de licenciatura</td>\n",
       "      <td>No binario</td>\n",
       "      <td>Séptimo</td>\n",
       "      <td>Sí</td>\n",
       "      <td>Sí, pero tengo dudas</td>\n",
       "      <td>Tal vez</td>\n",
       "      <td>Estudiante</td>\n",
       "    </tr>\n",
       "    <tr>\n",
       "      <th>181</th>\n",
       "      <td>2021-01-31 19:07:44.388002</td>\n",
       "      <td>Estudiante de licenciatura</td>\n",
       "      <td>Mujer</td>\n",
       "      <td>Primero</td>\n",
       "      <td>No</td>\n",
       "      <td>No</td>\n",
       "      <td>Tal vez</td>\n",
       "      <td>Estudiante</td>\n",
       "    </tr>\n",
       "    <tr>\n",
       "      <th>182</th>\n",
       "      <td>2021-02-01 19:10:21.369000</td>\n",
       "      <td>Egresad@</td>\n",
       "      <td>Mujer</td>\n",
       "      <td>Tesista</td>\n",
       "      <td>Sí</td>\n",
       "      <td>No</td>\n",
       "      <td>Tal vez</td>\n",
       "      <td>Egresado</td>\n",
       "    </tr>\n",
       "  </tbody>\n",
       "</table>\n",
       "<p>183 rows × 8 columns</p>\n",
       "</div>"
      ],
      "text/plain": [
       "                Marca temporal  1. Mi actividad en la ENES Morelia es  \\\n",
       "0   2021-01-14 14:11:02.024004                       Personal de base   \n",
       "1   2021-01-15 15:12:44.564996                  Docente de asignatura   \n",
       "2   2021-01-15 15:29:41.786005  Docente de tiempo completo de la ENES   \n",
       "3   2021-01-15 15:38:12.795003  Docente de tiempo completo de la ENES   \n",
       "4   2021-01-15 15:53:01.862002  Docente de tiempo completo de la ENES   \n",
       "..                         ...                                    ...   \n",
       "178 2021-01-28 14:04:48.909000                               Egresad@   \n",
       "179 2021-01-29 13:45:33.276004             Estudiante de licenciatura   \n",
       "180 2021-01-29 14:58:53.943001             Estudiante de licenciatura   \n",
       "181 2021-01-31 19:07:44.388002             Estudiante de licenciatura   \n",
       "182 2021-02-01 19:10:21.369000                               Egresad@   \n",
       "\n",
       "    2. Me identifico como  \\\n",
       "0                  Hombre   \n",
       "1                   Mujer   \n",
       "2                  Hombre   \n",
       "3                   Mujer   \n",
       "4              No binario   \n",
       "..                    ...   \n",
       "178                 Mujer   \n",
       "179                Hombre   \n",
       "180            No binario   \n",
       "181                 Mujer   \n",
       "182                 Mujer   \n",
       "\n",
       "    3. Si eres estudiante de licenciatura indica qué semestre cursas en este momento  \\\n",
       "0                                                  NaN                                 \n",
       "1                                                  NaN                                 \n",
       "2                                                  NaN                                 \n",
       "3                                                  NaN                                 \n",
       "4                                             profesor                                 \n",
       "..                                                 ...                                 \n",
       "178                                                NaN                                 \n",
       "179                                            Séptimo                                 \n",
       "180                                            Séptimo                                 \n",
       "181                                            Primero                                 \n",
       "182                                            Tesista                                 \n",
       "\n",
       "    4. ¿Conozco quiénes son las Personas Orientadoras Comunitarias de la ENES Morelia (o del campus) y qué información me pueden ofrecer?  \\\n",
       "0                                                   Sí                                                                                      \n",
       "1                                                   No                                                                                      \n",
       "2                                                   Sí                                                                                      \n",
       "3                                                   Sí                                                                                      \n",
       "4                                                   Sí                                                                                      \n",
       "..                                                 ...                                                                                      \n",
       "178                                                 No                                                                                      \n",
       "179                                                 Sí                                                                                      \n",
       "180                                                 Sí                                                                                      \n",
       "181                                                 No                                                                                      \n",
       "182                                                 Sí                                                                                      \n",
       "\n",
       "    5. ¿Conozco la ruta para presentar una queja por Violencia de Género en la UNAM?  \\\n",
       "0                                                   Sí                                 \n",
       "1                                                   No                                 \n",
       "2                                                   Sí                                 \n",
       "3                                                   Sí                                 \n",
       "4                                                   Sí                                 \n",
       "..                                                 ...                                 \n",
       "178                               Sí, pero tengo dudas                                 \n",
       "179                                                 Sí                                 \n",
       "180                               Sí, pero tengo dudas                                 \n",
       "181                                                 No                                 \n",
       "182                                                 No                                 \n",
       "\n",
       "    6. Creo que las rutas formales de la UNAM para presentar una denuncia por VG son claras y responden de manera adecuada a la situación que vivimos en la ENES Morelia.  \\\n",
       "0                                                   Sí                                                                                                                      \n",
       "1                                                   No                                                                                                                      \n",
       "2                                                   No                                                                                                                      \n",
       "3                                                   No                                                                                                                      \n",
       "4                                              Tal vez                                                                                                                      \n",
       "..                                                 ...                                                                                                                      \n",
       "178                                            Tal vez                                                                                                                      \n",
       "179                                            Tal vez                                                                                                                      \n",
       "180                                            Tal vez                                                                                                                      \n",
       "181                                            Tal vez                                                                                                                      \n",
       "182                                            Tal vez                                                                                                                      \n",
       "\n",
       "      Actividad  \n",
       "0          Otro  \n",
       "1       Docente  \n",
       "2       Docente  \n",
       "3       Docente  \n",
       "4       Docente  \n",
       "..          ...  \n",
       "178    Egresado  \n",
       "179  Estudiante  \n",
       "180  Estudiante  \n",
       "181  Estudiante  \n",
       "182    Egresado  \n",
       "\n",
       "[183 rows x 8 columns]"
      ]
     },
     "execution_count": 22,
     "metadata": {},
     "output_type": "execute_result"
    }
   ],
   "source": [
    "def ocupacion(c):\n",
    "    mystring = '1. Mi actividad en la ENES Morelia es'\n",
    "    \n",
    "    if 'Estudiante' in c[mystring]:\n",
    "        return 'Estudiante'\n",
    "    elif 'Docente' in c[mystring]:\n",
    "        return 'Docente'\n",
    "    elif 'Egresad@' in  c[mystring]:\n",
    "        return 'Egresado'\n",
    "    else:\n",
    "        return 'Otro'\n",
    "        \n",
    "    \n",
    "    \n",
    "comGen['Actividad'] = comGen.apply(ocupacion, axis=1)\n",
    "comGen"
   ]
  },
  {
   "cell_type": "markdown",
   "id": "expensive-method",
   "metadata": {},
   "source": [
    "Ahora graficamos respecto a la actividad y el género"
   ]
  },
  {
   "cell_type": "code",
   "execution_count": 23,
   "id": "gross-illustration",
   "metadata": {},
   "outputs": [
    {
     "data": {
      "text/plain": [
       "<seaborn.axisgrid.FacetGrid at 0x7fc59688f6a0>"
      ]
     },
     "execution_count": 23,
     "metadata": {},
     "output_type": "execute_result"
    },
    {
     "data": {
      "image/png": "[encoded data removed]",
      "text/plain": [
       "<Figure size 486.875x360 with 1 Axes>"
      ]
     },
     "metadata": {
      "needs_background": "light"
     },
     "output_type": "display_data"
    }
   ],
   "source": [
    "sns.catplot(x='Actividad',hue='2. Me identifico como',data=comGen,kind='count',palette='bright')"
   ]
  },
  {
   "cell_type": "markdown",
   "id": "spectacular-hanging",
   "metadata": {},
   "source": [
    "6. ¿Quiénes NO conocen la ruta para presentar denuncia? Elabora una gráfica que muestre esta información tomando en cuenta la actividad y el género. Tienes libertad de elegir qué tipo de gráfica (¿stack? ¿barras múltiples? ¿horizontales?), pero acuérdate que quieres hacerle paro a la Comisión y que el reporte quede bien, que las gráficas informen. Por cierto, existe la opción rot dentro de casi todas las variantes de plot, para rotar las etiquetas en los ejes y que queden más chulas."
   ]
  },
  {
   "cell_type": "markdown",
   "id": "competent-invalid",
   "metadata": {},
   "source": [
    "Si tuviéramos que analizar exclusivamente a ellos que NO conocen la ruta para presentar denuncia, tendríamos las siguientes gráficas de barras y de stack, relacionadas a estas personas:"
   ]
  },
  {
   "cell_type": "code",
   "execution_count": 24,
   "id": "palestinian-office",
   "metadata": {},
   "outputs": [
    {
     "data": {
      "text/plain": [
       "<seaborn.axisgrid.FacetGrid at 0x7fc5973abe50>"
      ]
     },
     "execution_count": 24,
     "metadata": {},
     "output_type": "execute_result"
    },
    {
     "data": {
      "image/png": "[encoded data removed]",
      "text/plain": [
       "<Figure size 486.875x360 with 1 Axes>"
      ]
     },
     "metadata": {
      "needs_background": "light"
     },
     "output_type": "display_data"
    }
   ],
   "source": [
    "miaux = comGen.copy()\n",
    "miaux.columns = ['Fecha','Ocupación','Género','Semestre','¿Conoce a los orientadores?','¿Conoce la ruta de denuncias?','Opinión claridad/eficacia rutas de denuncia','Actividad']\n",
    "\n",
    "sns.catplot(x ='Actividad',hue='Género',data=miaux[miaux['¿Conoce la ruta de denuncias?'] == 'No'],kind='count',palette='bright').set_ylabels('Cantidad')\n"
   ]
  },
  {
   "cell_type": "code",
   "execution_count": 25,
   "id": "sized-vintage",
   "metadata": {},
   "outputs": [
    {
     "data": {
      "text/plain": [
       "Text(0.5, 1.0, 'Gente que NO conoce la ruta de denuncia')"
      ]
     },
     "execution_count": 25,
     "metadata": {},
     "output_type": "execute_result"
    },
    {
     "data": {
      "image/png": "[encoded data removed]",
      "text/plain": [
       "<Figure size 432x288 with 1 Axes>"
      ]
     },
     "metadata": {
      "needs_background": "light"
     },
     "output_type": "display_data"
    }
   ],
   "source": [
    "miaux[miaux['¿Conoce la ruta de denuncias?'] == 'No'].groupby(['Actividad','Género']).size().unstack().plot(kind='bar',stacked='True', ylabel = 'Cantidad').set_title('Gente que NO conoce la ruta de denuncia')\n",
    "\n"
   ]
  },
  {
   "cell_type": "markdown",
   "id": "intensive-haiti",
   "metadata": {},
   "source": [
    "Ya tenemos esto, pero pienso que sería conveniente ver como estas gráficas se comparan con la cantidad de gente que SÍ conoce las rutas. De esta forma podemos comparar cuántos sí la conocen, cuántos sí, pero con dudas y cuántos no."
   ]
  },
  {
   "cell_type": "code",
   "execution_count": 26,
   "id": "tamil-symposium",
   "metadata": {},
   "outputs": [
    {
     "data": {
      "text/plain": [
       "<seaborn.axisgrid.FacetGrid at 0x7fc596641eb0>"
      ]
     },
     "execution_count": 26,
     "metadata": {},
     "output_type": "execute_result"
    },
    {
     "data": {
      "image/png": "[encoded data removed]",
      "text/plain": [
       "<Figure size 1206.88x360 with 3 Axes>"
      ]
     },
     "metadata": {
      "needs_background": "light"
     },
     "output_type": "display_data"
    }
   ],
   "source": [
    "#sns.catplot(x='Pclass',hue='Sex',data=D[D['Survived'] == 1],kind='count',palette='bright')\n",
    "\n",
    "aux = comGen.copy()\n",
    "aux.columns = ['Fecha','1','Género','3','4','¿Conoce ruta de denuncia?','6', 'Actividad']\n",
    "sns.catplot(x ='Actividad',hue='Género',data=aux,kind='count',palette='bright', col = '¿Conoce ruta de denuncia?').set_ylabels('Cantidad')\n"
   ]
  },
  {
   "cell_type": "code",
   "execution_count": 27,
   "id": "toxic-horizontal",
   "metadata": {},
   "outputs": [
    {
     "data": {
      "text/plain": [
       "(0.0, 60.0)"
      ]
     },
     "execution_count": 27,
     "metadata": {},
     "output_type": "execute_result"
    },
    {
     "data": {
      "image/png": "[encoded data removed]",
      "text/plain": [
       "<Figure size 1080x360 with 3 Axes>"
      ]
     },
     "metadata": {
      "needs_background": "light"
     },
     "output_type": "display_data"
    }
   ],
   "source": [
    "fig, axes = plt.subplots(1, 3, figsize=(15, 5))\n",
    "aux[aux['¿Conoce ruta de denuncia?'] == 'Sí'].groupby(['Actividad','Género']).size().unstack().plot(kind='bar',stacked='True', ax = axes[0], title = 'Sí').set_ylim([0,60])\n",
    "aux[aux['¿Conoce ruta de denuncia?'] == 'No'].groupby(['Actividad','Género']).size().unstack().plot(kind='bar',stacked='True', ax = axes[1], title = 'No').set_ylim([0,60])\n",
    "aux[aux['¿Conoce ruta de denuncia?'] == 'Sí, pero tengo dudas'].groupby(['Actividad','Género']).size().unstack().plot(kind='bar',stacked='True', ax = axes[2], title = 'Sí, pero tengo dudas').set_ylim([0,60])\n"
   ]
  },
  {
   "cell_type": "markdown",
   "id": "interracial-coaching",
   "metadata": {},
   "source": [
    "Es notable que la cantidad de personas (especialmente entre los estudiantes) que no conoce la ruta de denuncia o que tiene dudas, es significativamente mayor que aquella que sí."
   ]
  },
  {
   "cell_type": "markdown",
   "id": "comfortable-medication",
   "metadata": {},
   "source": [
    "7. ¿Las personas que no conocen la ruta son las mismas que las que no conocen a las personas orientadoras? Argumenta la respuesta usando al menos una gráfica; tú decide cuál pero debe ser de las estudiadas en clase hasta el momento."
   ]
  },
  {
   "cell_type": "markdown",
   "id": "average-football",
   "metadata": {},
   "source": [
    "Para esto podemos considerar únicamente el conjunto de personas que no conocen la ruta. A partir de este podemos determinar, cuáles de ellos sí conocen a las personas orientadoras y cuáles no. Las que no la conocerá serán aquellas que no tienen idea de la ruta ni de las personas orientadoras; las que sí serán quienes, a pesar de conocer a los orientadores, no saben cómo funciona la ruta."
   ]
  },
  {
   "cell_type": "code",
   "execution_count": 28,
   "id": "regular-regulation",
   "metadata": {},
   "outputs": [],
   "source": [
    "#comGen[(comGen['5. ¿Conozco la ruta para presentar una queja por Violencia de Género en la UNAM?'] == 'No') \n",
    "#       & (comGen['4. ¿Conozco quiénes son las Personas Orientadoras Comunitarias de la ENES Morelia (o del campus) y qué información me pueden ofrecer?'] == 'No')]\n",
    "\n",
    "#comGen[(comGen['5. ¿Conozco la ruta para presentar una queja por Violencia de Género en la UNAM?'] == 'No') \n",
    "#       & (comGen['4. ¿Conozco quiénes son las Personas Orientadoras Comunitarias de la ENES Morelia (o del campus) y qué información me pueden ofrecer?'] == 'Sí')]"
   ]
  },
  {
   "cell_type": "code",
   "execution_count": 29,
   "id": "portable-winner",
   "metadata": {},
   "outputs": [
    {
     "data": {
      "text/plain": [
       "<AxesSubplot:title={'center':'¿Conocen a los orientadores?'}, ylabel='Gente que no conoce la ruta'>"
      ]
     },
     "execution_count": 29,
     "metadata": {},
     "output_type": "execute_result"
    },
    {
     "data": {
      "image/png": "[encoded data removed]",
      "text/plain": [
       "<Figure size 432x288 with 1 Axes>"
      ]
     },
     "metadata": {},
     "output_type": "display_data"
    }
   ],
   "source": [
    "comGen[(comGen['5. ¿Conozco la ruta para presentar una queja por Violencia de Género en la UNAM?'] == 'No')].groupby('4. ¿Conozco quiénes son las Personas Orientadoras Comunitarias de la ENES Morelia (o del campus) y qué información me pueden ofrecer?').size().plot(kind='pie',shadow=True,autopct=\"%1.1f%%\", ylabel = 'Gente que no conoce la ruta', title = '¿Conocen a los orientadores?', legend = True)\n"
   ]
  },
  {
   "cell_type": "markdown",
   "id": "private-mumbai",
   "metadata": {},
   "source": [
    "Podemos observar que de las las personas que no conocen la ruta de denuncia, la mayoría (64.3%) tampoco están enteradas de quiénes son los orientadores; mientras que el 35.7%, a pesar de conocer a los orientadores, no sabe de la ruta."
   ]
  },
  {
   "cell_type": "markdown",
   "id": "handled-weekend",
   "metadata": {},
   "source": [
    "8. Elabora al menos dos gráficas más que puedan brindar información útil. Piénsalo un par de minutos, ¿qué podríamos “exprimir” de estos datos?"
   ]
  },
  {
   "cell_type": "markdown",
   "id": "fancy-compression",
   "metadata": {},
   "source": [
    "**Primer conjunto de gráficas:**\n",
    "\n",
    "Podríamos tratar de observar qué tan claras y adecuadas son las rutas de denuncia según los estudiantes y compararlo con los docentes. De esta forma podríamos darnos cuenta si los docentes y estudiantes tienen una opinión general similar o distinta al respecto."
   ]
  },
  {
   "cell_type": "code",
   "execution_count": 30,
   "id": "hindu-maldives",
   "metadata": {},
   "outputs": [
    {
     "data": {
      "image/png": "[encoded data removed]",
      "text/plain": [
       "<Figure size 585.875x360 with 1 Axes>"
      ]
     },
     "metadata": {
      "needs_background": "light"
     },
     "output_type": "display_data"
    }
   ],
   "source": [
    "aux = comGen.copy()\n",
    "aux.columns = (['Fecha', '1', 'Género', '3', '4', '5','Opinión claridad/eficacia rutas de denuncia','Actividad'])\n",
    "\n",
    "\n",
    "estudiante_docente_opinion = sns.catplot(data = aux[(aux['Actividad'] == 'Estudiante') | (aux['Actividad'] == 'Docente')], x = 'Actividad', hue = 'Opinión claridad/eficacia rutas de denuncia', kind = 'count')\n",
    "estudiante_docente_opinion._legend.set_title('Opinión claridad/utilidad rutas de denuncia')"
   ]
  },
  {
   "cell_type": "code",
   "execution_count": 31,
   "id": "addressed-chambers",
   "metadata": {},
   "outputs": [
    {
     "data": {
      "text/plain": [
       "array([<AxesSubplot:ylabel='Docentes'>], dtype=object)"
      ]
     },
     "execution_count": 31,
     "metadata": {},
     "output_type": "execute_result"
    },
    {
     "data": {
      "image/png": "[encoded data removed]",
      "text/plain": [
       "<Figure size 1080x360 with 2 Axes>"
      ]
     },
     "metadata": {},
     "output_type": "display_data"
    }
   ],
   "source": [
    "fig, axes = plt.subplots(1, 2, figsize=(15, 5))\n",
    "\n",
    "comGen[(comGen['Actividad'] == 'Estudiante')].groupby(['6. Creo que las rutas formales de la UNAM para presentar una denuncia por VG son claras y responden de manera adecuada a la situación que vivimos en la ENES Morelia.']).size().plot(kind='pie',shadow=True,autopct=\"%1.1f%%\", ylabel = 'Estudiantes', title = 'Opinión claridad/utilidad rutas de denuncia', subplots = True, legend = True, ax = axes[0])\n",
    "comGen[(comGen['Actividad'] == 'Docente')].groupby(['6. Creo que las rutas formales de la UNAM para presentar una denuncia por VG son claras y responden de manera adecuada a la situación que vivimos en la ENES Morelia.']).size().plot(kind='pie',shadow=True,autopct=\"%1.1f%%\", ylabel = 'Docentes', title = 'Opinión claridad/utilidad rutas de denuncia', subplots = True, legend = True)\n"
   ]
  },
  {
   "cell_type": "markdown",
   "id": "instrumental-scheduling",
   "metadata": {},
   "source": [
    "A partir de estas últimas dos gráficas (la de barras y las dos de pasteles) podemos llegar a algunas conclusiones respecto a lo que queríamos. El objetivo era averiguar qué tan similares eran las opiniones de los docentes y los estudiantes respecto a la eficacia y la claridad de las rutas de denuncia de la ENES Morelia. Se puede dar el caso donde los docentes tienen una visión/opinión disinta de los estudiantes. Esto podría ser problemático por el hecho de que los mismos docentes que llegan a poder estar encargados en cierto nivel de este tipo de situaciones no tienen clara la opinión de sus estudiantes.\n",
    "\n",
    "La mayoría (amnbos alrededor del 60%) tanto de estudiantes como de docentes no están muy seguros de cómo funcionan las rutas, por lo que responden con 'Tal vez'. Luego, donde hay diferencia es entre aquellas personas que creen que sí son claras y efectivas las rutas y las que no; por parte de los docentes, ambas opiniones están distribuidas casi de la misma manera (la mitad dice que sí y la otra que no); pero con los estudiantes se puede ver una diferencia más notoria donde de aquellos que opinaron 'No' son más que aquellos que opinaron que 'Sí'. Esto nos quiere decir, que la opinión estudiantil de aquellos que estuvieron entre estas dos respuestas sí tiene una diferencia notoria respecto a los docentes: mayor parte de estudiantes creen que las rutas contra violencia de género no son efectivas o claras, mientras que los docentes tienen una opinión más equilibrada.\n",
    "\n",
    "Para entender el porqué de esta diferencia de opiniones, podría ser recomendable alguna discusión entre docentes y estudiantes respecto a casos de por qué creen que sucede todo esto. Puede así que ambos aprendan algo acerca de lo que ocurre en la ENES y determinar las razones de por qué la mayoría de los estudiantes (que opinaron 'Sí' o 'No') creen que no hay buen planteamiento de rutas de denuncia."
   ]
  },
  {
   "cell_type": "markdown",
   "id": "adjustable-ancient",
   "metadata": {},
   "source": [
    "**Segundo conjunto de gráficas:**\n",
    "\n",
    "Podemos hacer algo similar que las gráficas pasadas, pero ahora considerando una división entre los géneros. De esta forma podríamos comparar qué tan de acuerdo está cada uno de los géneros en cuanto a la efectividad y claridad de las medidas que hay contra la violencia de género. Puede que las mujeres y géneros no binarios o no identificados tengan mayor problema que un sector como los hombres."
   ]
  },
  {
   "cell_type": "code",
   "execution_count": 32,
   "id": "wrapped-speech",
   "metadata": {},
   "outputs": [
    {
     "data": {
      "image/png": "[encoded data removed]",
      "text/plain": [
       "<Figure size 585.875x360 with 1 Axes>"
      ]
     },
     "metadata": {
      "needs_background": "light"
     },
     "output_type": "display_data"
    }
   ],
   "source": [
    "hombre_mujer_opinion = sns.catplot(data = aux, y = 'Género', hue = 'Opinión claridad/eficacia rutas de denuncia', kind = 'count', legend = True)"
   ]
  },
  {
   "cell_type": "code",
   "execution_count": 33,
   "id": "caring-munich",
   "metadata": {},
   "outputs": [
    {
     "data": {
      "text/plain": [
       "Text(0.5, 0.98, 'Opinión claridad/eficacia rutas de denuncia')"
      ]
     },
     "execution_count": 33,
     "metadata": {},
     "output_type": "execute_result"
    },
    {
     "data": {
      "image/png": "[encoded data removed]",
      "text/plain": [
       "<Figure size 1080x720 with 4 Axes>"
      ]
     },
     "metadata": {},
     "output_type": "display_data"
    }
   ],
   "source": [
    "fig, axes = plt.subplots(2, 2, figsize=(15, 10))\n",
    "\n",
    "aux[(aux['Género'] == 'Hombre')].groupby(['Opinión claridad/eficacia rutas de denuncia']).size().plot(kind='pie',shadow=True,autopct=\"%1.1f%%\", ylabel = '', title = 'Hombres', legend = True, ax = axes[0][0])\n",
    "aux[(aux['Género'] == 'Mujer')].groupby(['Opinión claridad/eficacia rutas de denuncia']).size().plot(kind='pie',shadow=True,autopct=\"%1.1f%%\", ylabel = '', title = 'Mujeres', legend = True, ax = axes[0][1])\n",
    "aux[(aux['Género'] == 'No binario')].groupby(['Opinión claridad/eficacia rutas de denuncia']).size().plot(kind='pie',shadow=True,autopct=\"%1.1f%%\", ylabel = '', title = 'No binario', legend = True, ax = axes[1][0])\n",
    "aux[(aux['Género'] == 'Prefiero no decirlo')].groupby(['Opinión claridad/eficacia rutas de denuncia']).size().plot(kind='pie',shadow=True,autopct=\"%1.1f%%\", ylabel = '', title = 'Sin identificar', legend = True, ax = axes[1][1])\n",
    "fig.suptitle('Opinión claridad/eficacia rutas de denuncia')\n"
   ]
  },
  {
   "cell_type": "markdown",
   "id": "round-right",
   "metadata": {},
   "source": [
    "A partir de la información que obtuvimos de la gráfica de barras y las de pastel, podemos notar algunas diferencias entre la opinión de la claridad y eficacia de las rutas de denuncia de la ENES. Empezando por los hombres, la mayoría respondió con 'Tal vez', probablemente porque desconocen la manera en cómo funciona todo esto; luego casi el 30% dijo que las denuncias de género 'Sí' tiene buenas rutas; finalmente solo 12.8% dice que 'No'. Siguiendo con las mujeres, está sucediendo lo mismo en cuanto a aquellas que responden 'Tal vez'; la diferencia principal respecto a los hombres es que una mayor parte (25%) de ellas cree que la ENES 'No' tiene buenas rutas de denuncia; mientras que tan solo el 12.1% cree que 'Sí'. Luego en el género no binario y aquellos que prefieren no decir, a pesar de que haya muy pocos, es donde se encuentra la mayor diferencia; la mayoría de ambos cree que 'No' hay buenas rutas de denuncia, mientras que en el resto hay una repartición similar entre los que dicen que 'Sí' y 'Tal vez'. La verdad es que es difícl poder decir algo significativo de estos dos últimos sectores debido a que son muy pocos  datos respecto a ellos.\n",
    "\n",
    "En conclusión podemos decir que la mayoría de las personas en la ENES no está muy segura de cómo funciona el sistema de denuncias contra Violencia de Género en la ENES. Pero por parte de estas personas que tienen una opinión decidida entre 'Sí' o 'No' podemos observar que los grupos menos conformes son las mujeres, no binario y los géneros no identificados; mientras que los hombres son el grupo que menos problemas tiene con esto. Esto podría darnos señales de que la Violencia de Género es un tema de discusión y ocurrencia mucho menos común entre los hombres o que ellos tienen una visión distinta de la situación."
   ]
  },
  {
   "cell_type": "markdown",
   "id": "double-colombia",
   "metadata": {},
   "source": [
    "9. Hacer gráficas no tiene chiste si luego no sabemos verlas con atención e interpretarlas. Esa parte de análisis crítico es la que quieres tener para ser un buen científico de datos. Escribe un párrafo describiendo tus hallazgos a la encargada de la Comisión. Echale crema.\n",
    "\n",
    "A partir de las gráficas construidas podemos observar lo siguiente:\n",
    "- La cantidad de mujeres que participa en la encuesta es mucho mayor que la de hombres, no binario o aquellos que prefieren no identificarse. Por una parte, es entendible que haya menos personas de los últimos dos grupos debido a que es bien sabido que estos géneros son una minoría general; pero, por parte de los hombres no es que haya muy pocos en la comunidad, sino que puede ser que no le den importancia a esta situación o haya una falla en cómo se les hace llegar la información.\n",
    "\n",
    "- La mayor parte de la comunidad de la ENES no conoce las rutas de denuncia contra la Violencia de Género. Algo que se puede observar es que a pesar de que la mayoría de los docentes conocen las rutas, varios de ellos siguen teniendo dudas o no la conocen. Por otra parte, los estudiantes son los que menos conocen de ellas. \n",
    "\n",
    "- De aquellas personas que no conocen las rutas, la mayoría tampoco conoce a los orientadores. Pero también están aquellos que sí conocen a los orientadores pero no a las rutas. Esto podría implicar que a pesar de que alguien conozca a los orientadores, no podría saber cómo funciona una denuncia en la ENES, ya sea porque tiene dudas del procedimiento, falta de curiosidad o necesidad, entre otras posibilidades.\n",
    "\n",
    "- Tanto la mayoría de estudiantes como de docentes están inseguros de la efectividad y la claridad de las rutas de denuncia de la ENES. Entre aquellos que tienen una opinión firme, alrededor de la mitad de los docentes creen que sí y la otra que no; mientras que la mayoría de los estudiantes creen que no. Entonces hay una visión un tanto diferente acerca del sistema de rutas de denuncia si los comparamos entre los docentes y los estudiantes.\n",
    "\n",
    "- Si observamos los géneros, la mayoría de hombres y mujeres no están seguros de la efectividad y claridad de las rutas de denuncia. Pero en cuanto a quienes opinaron otra cosa, aquel que tiene menos problemas en cuanto a esto son los hombres; mientras que las mujeres, los no binarios y aquellos que no especificaron son quienes más inconformes están con el sistema de denuncia.\n",
    "\n",
    "A partir de toda esta información podemos concluir que puede haber mejoras en cuanto a las rutas de denuncia contra la Violencia de Género en la ENES. Esto con el fin de que la mayor parte de la comunidad entienda cómo funcionan, su importancia, a los orientadores y sobretodo que sea considerada una forma segura y confiable de poder enfrentar este tipo de situaciones. Esto debido al principal problema de la falta de información en la mayor parte de la comunidad y en cuandto a los pocos que conocen el sistema hay un descontento principal por parte de sectores como los estudiantes y principalmente las mujeres y los pocos miembros de género no binario o aquellos que prefirieron no especificar."
   ]
  }
 ],
 "metadata": {
  "kernelspec": {
   "display_name": "Python 3",
   "language": "python",
   "name": "python3"
  },
  "language_info": {
   "codemirror_mode": {
    "name": "ipython",
    "version": 3
   },
   "file_extension": ".py",
   "mimetype": "text/x-python",
   "name": "python",
   "nbconvert_exporter": "python",
   "pygments_lexer": "ipython3",
   "version": "3.8.8"
  }
 },
 "nbformat": 4,
 "nbformat_minor": 5
}
